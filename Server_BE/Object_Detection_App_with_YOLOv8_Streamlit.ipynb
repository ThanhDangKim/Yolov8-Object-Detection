{
  "nbformat": 4,
  "nbformat_minor": 0,
  "metadata": {
    "colab": {
      "provenance": []
    },
    "kernelspec": {
      "name": "python3",
      "display_name": "Python 3"
    },
    "language_info": {
      "name": "python"
    }
  },
  "cells": [
    {
      "cell_type": "code",
      "source": [
        "!pip install ultralytics flask flask-cors pyngrok yt_dlp ffmpeg-python\n",
        "from flask import Flask, request, jsonify, send_file, Response\n",
        "from flask_cors import CORS\n",
        "from ultralytics import YOLO\n",
        "import cv2\n",
        "import numpy as np\n",
        "import base64\n",
        "import yt_dlp\n",
        "import traceback, tempfile, os, ffmpeg, shutil"
      ],
      "metadata": {
        "colab": {
          "base_uri": "https://localhost:8080/"
        },
        "id": "InJXOLL-x_fV",
        "outputId": "f629c975-ceb5-4775-aa0f-5923ca3b2159"
      },
      "execution_count": null,
      "outputs": [
        {
          "output_type": "stream",
          "name": "stdout",
          "text": [
            "Requirement already satisfied: ultralytics in /usr/local/lib/python3.11/dist-packages (8.3.176)\n",
            "Requirement already satisfied: flask in /usr/local/lib/python3.11/dist-packages (3.1.1)\n",
            "Requirement already satisfied: flask-cors in /usr/local/lib/python3.11/dist-packages (6.0.1)\n",
            "Requirement already satisfied: pyngrok in /usr/local/lib/python3.11/dist-packages (7.3.0)\n",
            "Requirement already satisfied: yt_dlp in /usr/local/lib/python3.11/dist-packages (2025.7.21)\n",
            "Requirement already satisfied: ffmpeg-python in /usr/local/lib/python3.11/dist-packages (0.2.0)\n",
            "Requirement already satisfied: numpy>=1.23.0 in /usr/local/lib/python3.11/dist-packages (from ultralytics) (2.0.2)\n",
            "Requirement already satisfied: matplotlib>=3.3.0 in /usr/local/lib/python3.11/dist-packages (from ultralytics) (3.10.0)\n",
            "Requirement already satisfied: opencv-python>=4.6.0 in /usr/local/lib/python3.11/dist-packages (from ultralytics) (4.12.0.88)\n",
            "Requirement already satisfied: pillow>=7.1.2 in /usr/local/lib/python3.11/dist-packages (from ultralytics) (11.3.0)\n",
            "Requirement already satisfied: pyyaml>=5.3.1 in /usr/local/lib/python3.11/dist-packages (from ultralytics) (6.0.2)\n",
            "Requirement already satisfied: requests>=2.23.0 in /usr/local/lib/python3.11/dist-packages (from ultralytics) (2.32.3)\n",
            "Requirement already satisfied: scipy>=1.4.1 in /usr/local/lib/python3.11/dist-packages (from ultralytics) (1.16.1)\n",
            "Requirement already satisfied: torch>=1.8.0 in /usr/local/lib/python3.11/dist-packages (from ultralytics) (2.6.0+cu124)\n",
            "Requirement already satisfied: torchvision>=0.9.0 in /usr/local/lib/python3.11/dist-packages (from ultralytics) (0.21.0+cu124)\n",
            "Requirement already satisfied: tqdm>=4.64.0 in /usr/local/lib/python3.11/dist-packages (from ultralytics) (4.67.1)\n",
            "Requirement already satisfied: psutil in /usr/local/lib/python3.11/dist-packages (from ultralytics) (5.9.5)\n",
            "Requirement already satisfied: py-cpuinfo in /usr/local/lib/python3.11/dist-packages (from ultralytics) (9.0.0)\n",
            "Requirement already satisfied: pandas>=1.1.4 in /usr/local/lib/python3.11/dist-packages (from ultralytics) (2.2.2)\n",
            "Requirement already satisfied: ultralytics-thop>=2.0.0 in /usr/local/lib/python3.11/dist-packages (from ultralytics) (2.0.15)\n",
            "Requirement already satisfied: blinker>=1.9.0 in /usr/local/lib/python3.11/dist-packages (from flask) (1.9.0)\n",
            "Requirement already satisfied: click>=8.1.3 in /usr/local/lib/python3.11/dist-packages (from flask) (8.2.1)\n",
            "Requirement already satisfied: itsdangerous>=2.2.0 in /usr/local/lib/python3.11/dist-packages (from flask) (2.2.0)\n",
            "Requirement already satisfied: jinja2>=3.1.2 in /usr/local/lib/python3.11/dist-packages (from flask) (3.1.6)\n",
            "Requirement already satisfied: markupsafe>=2.1.1 in /usr/local/lib/python3.11/dist-packages (from flask) (3.0.2)\n",
            "Requirement already satisfied: werkzeug>=3.1.0 in /usr/local/lib/python3.11/dist-packages (from flask) (3.1.3)\n",
            "Requirement already satisfied: future in /usr/local/lib/python3.11/dist-packages (from ffmpeg-python) (1.0.0)\n",
            "Requirement already satisfied: contourpy>=1.0.1 in /usr/local/lib/python3.11/dist-packages (from matplotlib>=3.3.0->ultralytics) (1.3.3)\n",
            "Requirement already satisfied: cycler>=0.10 in /usr/local/lib/python3.11/dist-packages (from matplotlib>=3.3.0->ultralytics) (0.12.1)\n",
            "Requirement already satisfied: fonttools>=4.22.0 in /usr/local/lib/python3.11/dist-packages (from matplotlib>=3.3.0->ultralytics) (4.59.0)\n",
            "Requirement already satisfied: kiwisolver>=1.3.1 in /usr/local/lib/python3.11/dist-packages (from matplotlib>=3.3.0->ultralytics) (1.4.8)\n",
            "Requirement already satisfied: packaging>=20.0 in /usr/local/lib/python3.11/dist-packages (from matplotlib>=3.3.0->ultralytics) (25.0)\n",
            "Requirement already satisfied: pyparsing>=2.3.1 in /usr/local/lib/python3.11/dist-packages (from matplotlib>=3.3.0->ultralytics) (3.2.3)\n",
            "Requirement already satisfied: python-dateutil>=2.7 in /usr/local/lib/python3.11/dist-packages (from matplotlib>=3.3.0->ultralytics) (2.9.0.post0)\n",
            "Requirement already satisfied: pytz>=2020.1 in /usr/local/lib/python3.11/dist-packages (from pandas>=1.1.4->ultralytics) (2025.2)\n",
            "Requirement already satisfied: tzdata>=2022.7 in /usr/local/lib/python3.11/dist-packages (from pandas>=1.1.4->ultralytics) (2025.2)\n",
            "Requirement already satisfied: charset-normalizer<4,>=2 in /usr/local/lib/python3.11/dist-packages (from requests>=2.23.0->ultralytics) (3.4.2)\n",
            "Requirement already satisfied: idna<4,>=2.5 in /usr/local/lib/python3.11/dist-packages (from requests>=2.23.0->ultralytics) (3.10)\n",
            "Requirement already satisfied: urllib3<3,>=1.21.1 in /usr/local/lib/python3.11/dist-packages (from requests>=2.23.0->ultralytics) (2.5.0)\n",
            "Requirement already satisfied: certifi>=2017.4.17 in /usr/local/lib/python3.11/dist-packages (from requests>=2.23.0->ultralytics) (2025.8.3)\n",
            "Requirement already satisfied: filelock in /usr/local/lib/python3.11/dist-packages (from torch>=1.8.0->ultralytics) (3.18.0)\n",
            "Requirement already satisfied: typing-extensions>=4.10.0 in /usr/local/lib/python3.11/dist-packages (from torch>=1.8.0->ultralytics) (4.14.1)\n",
            "Requirement already satisfied: networkx in /usr/local/lib/python3.11/dist-packages (from torch>=1.8.0->ultralytics) (3.5)\n",
            "Requirement already satisfied: fsspec in /usr/local/lib/python3.11/dist-packages (from torch>=1.8.0->ultralytics) (2025.3.0)\n",
            "Requirement already satisfied: nvidia-cuda-nvrtc-cu12==12.4.127 in /usr/local/lib/python3.11/dist-packages (from torch>=1.8.0->ultralytics) (12.4.127)\n",
            "Requirement already satisfied: nvidia-cuda-runtime-cu12==12.4.127 in /usr/local/lib/python3.11/dist-packages (from torch>=1.8.0->ultralytics) (12.4.127)\n",
            "Requirement already satisfied: nvidia-cuda-cupti-cu12==12.4.127 in /usr/local/lib/python3.11/dist-packages (from torch>=1.8.0->ultralytics) (12.4.127)\n",
            "Requirement already satisfied: nvidia-cudnn-cu12==9.1.0.70 in /usr/local/lib/python3.11/dist-packages (from torch>=1.8.0->ultralytics) (9.1.0.70)\n",
            "Requirement already satisfied: nvidia-cublas-cu12==12.4.5.8 in /usr/local/lib/python3.11/dist-packages (from torch>=1.8.0->ultralytics) (12.4.5.8)\n",
            "Requirement already satisfied: nvidia-cufft-cu12==11.2.1.3 in /usr/local/lib/python3.11/dist-packages (from torch>=1.8.0->ultralytics) (11.2.1.3)\n",
            "Requirement already satisfied: nvidia-curand-cu12==10.3.5.147 in /usr/local/lib/python3.11/dist-packages (from torch>=1.8.0->ultralytics) (10.3.5.147)\n",
            "Requirement already satisfied: nvidia-cusolver-cu12==11.6.1.9 in /usr/local/lib/python3.11/dist-packages (from torch>=1.8.0->ultralytics) (11.6.1.9)\n",
            "Requirement already satisfied: nvidia-cusparse-cu12==12.3.1.170 in /usr/local/lib/python3.11/dist-packages (from torch>=1.8.0->ultralytics) (12.3.1.170)\n",
            "Requirement already satisfied: nvidia-cusparselt-cu12==0.6.2 in /usr/local/lib/python3.11/dist-packages (from torch>=1.8.0->ultralytics) (0.6.2)\n",
            "Requirement already satisfied: nvidia-nccl-cu12==2.21.5 in /usr/local/lib/python3.11/dist-packages (from torch>=1.8.0->ultralytics) (2.21.5)\n",
            "Requirement already satisfied: nvidia-nvtx-cu12==12.4.127 in /usr/local/lib/python3.11/dist-packages (from torch>=1.8.0->ultralytics) (12.4.127)\n",
            "Requirement already satisfied: nvidia-nvjitlink-cu12==12.4.127 in /usr/local/lib/python3.11/dist-packages (from torch>=1.8.0->ultralytics) (12.4.127)\n",
            "Requirement already satisfied: triton==3.2.0 in /usr/local/lib/python3.11/dist-packages (from torch>=1.8.0->ultralytics) (3.2.0)\n",
            "Requirement already satisfied: sympy==1.13.1 in /usr/local/lib/python3.11/dist-packages (from torch>=1.8.0->ultralytics) (1.13.1)\n",
            "Requirement already satisfied: mpmath<1.4,>=1.1.0 in /usr/local/lib/python3.11/dist-packages (from sympy==1.13.1->torch>=1.8.0->ultralytics) (1.3.0)\n",
            "Requirement already satisfied: six>=1.5 in /usr/local/lib/python3.11/dist-packages (from python-dateutil>=2.7->matplotlib>=3.3.0->ultralytics) (1.17.0)\n"
          ]
        }
      ]
    },
    {
      "cell_type": "markdown",
      "source": [
        "## 1. Loading the YOLOv8 Model"
      ],
      "metadata": {
        "id": "52CM3kBwiuO0"
      }
    },
    {
      "cell_type": "code",
      "source": [
        "def load_model(model_path):\n",
        "    \"\"\"\n",
        "    Loads a YOLO object detection model from the specified model_path.\n",
        "\n",
        "    Parameters:\n",
        "        model_path (str): The path to the YOLO model file.\n",
        "\n",
        "    Returns:\n",
        "        A YOLO object detection model.\n",
        "    \"\"\"\n",
        "    model = YOLO(model_path)\n",
        "    return model"
      ],
      "metadata": {
        "id": "6Q8z5A2OyQM1"
      },
      "execution_count": null,
      "outputs": []
    },
    {
      "cell_type": "code",
      "execution_count": null,
      "metadata": {
        "id": "ERYPnYEYie_U"
      },
      "outputs": [],
      "source": [
        "from ultralytics import YOLO\n",
        "yolo_path = \"/content/drive/MyDrive/Colab Notebooks/Object_Detection_App_with_YOLOv8_Streamlit/weights/yolov8n.pt\"\n",
        "model = load_model(yolo_path)"
      ]
    },
    {
      "cell_type": "markdown",
      "source": [
        "## 2. Processing Images"
      ],
      "metadata": {
        "id": "-L1YcF5FiwdR"
      }
    },
    {
      "cell_type": "code",
      "source": [
        "def detect_image_bytes(image_bytes, conf=0.4, tracker=None):\n",
        "    nparr = np.frombuffer(image_bytes, np.uint8)\n",
        "    image = cv2.imdecode(nparr, cv2.IMREAD_COLOR)\n",
        "    image = cv2.resize(image, (720, int(720 * 9 / 16)))\n",
        "\n",
        "    if tracker:\n",
        "        result = model.track(image, conf=conf, persist=True, tracker=tracker)\n",
        "    else:\n",
        "        result = model.predict(image, conf=conf)\n",
        "\n",
        "    plotted = result[0].plot()\n",
        "    _, buffer = cv2.imencode('.jpg', plotted)\n",
        "    return base64.b64encode(buffer).decode()"
      ],
      "metadata": {
        "id": "0bUn1QGaiq4A"
      },
      "execution_count": null,
      "outputs": []
    },
    {
      "cell_type": "markdown",
      "source": [
        "## 3. Processing Videos Youtube through URLs"
      ],
      "metadata": {
        "id": "Ac2n8DUfiyls"
      }
    },
    {
      "cell_type": "code",
      "source": [
        "def move_moov_atom_to_front(input_path):\n",
        "    output_path = input_path.replace(\".mp4\", \"_fixed.mp4\")\n",
        "    (\n",
        "        ffmpeg\n",
        "        .input(input_path)\n",
        "        .output(\n",
        "            output_path,\n",
        "            vcodec='libx264',      # Encode sang H.264 chuẩn\n",
        "            crf=23,                # Chất lượng (thấp hơn = đẹp hơn, file to hơn)\n",
        "            preset='veryfast',     # Tốc độ encode\n",
        "            movflags='faststart',  # Cho phép streaming\n",
        "            pix_fmt='yuv420p'      # Tương thích HTML5 player\n",
        "        )\n",
        "        .run(overwrite_output=True)\n",
        "    )\n",
        "    return output_path\n",
        "\n",
        "def detect_youtube(youtube_url, conf=0.4, tracker=None):\n",
        "    temp_dir = tempfile.mkdtemp()\n",
        "    temp_download_path = os.path.join(temp_dir, \"downloaded.mp4\")\n",
        "\n",
        "    ydl_opts = {\n",
        "        'format': 'best[ext=mp4]',\n",
        "        'quiet': True,\n",
        "        'no_warnings': True,\n",
        "        'noplaylist': True,\n",
        "        'outtmpl': temp_download_path,\n",
        "        'http_headers': {'User-Agent': 'Mozilla/5.0'}\n",
        "    }\n",
        "\n",
        "    with yt_dlp.YoutubeDL(ydl_opts) as ydl:\n",
        "        try:\n",
        "            ydl.download([youtube_url])\n",
        "        except yt_dlp.utils.DownloadError as e:\n",
        "            msg = str(e).lower()\n",
        "            if any(key in msg for key in [\n",
        "                \"members-only\", \"private\", \"sign in\", \"age-restricted\", \"join this channel\"\n",
        "            ]):\n",
        "                raise PermissionError(\"🔒 Video is private or members-only. Please use a public link.\")\n",
        "            elif any(key in msg for key in [\"not found\", \"unavailable\", \"url error\", \"unable to download\"]):\n",
        "                raise ValueError(\"❌ Invalid or unavailable YouTube link.\")\n",
        "            else:\n",
        "                raise RuntimeError(f\"Unable to process YouTube video: {e}\")\n",
        "\n",
        "    cap = cv2.VideoCapture(temp_download_path)\n",
        "    if not cap.isOpened():\n",
        "        shutil.rmtree(temp_dir, ignore_errors=True)\n",
        "        raise RuntimeError(\"Cannot open downloaded YouTube video.\")\n",
        "\n",
        "    fps = cap.get(cv2.CAP_PROP_FPS) or 25\n",
        "    width = 720\n",
        "    height = int(720 * 9 / 16)\n",
        "\n",
        "    temp_video_path = os.path.join(temp_dir, \"processed.mp4\")\n",
        "    fourcc = cv2.VideoWriter_fourcc(*\"mp4v\")\n",
        "    out = cv2.VideoWriter(temp_video_path, fourcc, fps, (width, height))\n",
        "\n",
        "    while True:\n",
        "        ret, frame = cap.read()\n",
        "        if not ret:\n",
        "            break\n",
        "        frame = cv2.resize(frame, (width, height))\n",
        "        if tracker:\n",
        "            result = model.track(frame, conf=conf, persist=True, tracker=tracker)\n",
        "        else:\n",
        "            result = model.predict(frame, conf=conf)\n",
        "        plotted = result[0].plot()\n",
        "        out.write(plotted)\n",
        "\n",
        "    cap.release()\n",
        "    out.release()\n",
        "\n",
        "    fixed_path = move_moov_atom_to_front(temp_video_path)\n",
        "\n",
        "    # Tạo file kết quả ở thư mục tạm hệ thống (ngoài temp_dir)\n",
        "    final_path = tempfile.NamedTemporaryFile(delete=False, suffix=\".mp4\").name\n",
        "    shutil.move(fixed_path, final_path)\n",
        "\n",
        "    # Xóa thư mục tạm\n",
        "    shutil.rmtree(temp_dir, ignore_errors=True)\n",
        "\n",
        "    return final_path"
      ],
      "metadata": {
        "id": "9_rRLiHHi0Og"
      },
      "execution_count": null,
      "outputs": []
    },
    {
      "cell_type": "markdown",
      "source": [
        "## 4. Real-Time Webcam Detection"
      ],
      "metadata": {
        "id": "62pWSSpFi1wI"
      }
    },
    {
      "cell_type": "code",
      "source": [
        "def detect_webcam(conf=0.4, tracker=None, max_frames=100):\n",
        "    cap = cv2.VideoCapture(0)\n",
        "    if not cap.isOpened():\n",
        "        raise RuntimeError(\"Cannot open webcam\")\n",
        "\n",
        "    frames = []\n",
        "    count = 0\n",
        "\n",
        "    while cap.isOpened() and count < max_frames:\n",
        "        ret, frame = cap.read()\n",
        "        if not ret:\n",
        "            break\n",
        "\n",
        "        frame = cv2.resize(frame, (720, int(720 * 9 / 16)))\n",
        "\n",
        "        if tracker:\n",
        "            result = model.track(frame, conf=conf, persist=True, tracker=tracker)\n",
        "        else:\n",
        "            result = model.predict(frame, conf=conf)\n",
        "\n",
        "        plotted = result[0].plot()\n",
        "        _, buffer = cv2.imencode('.jpg', plotted)\n",
        "        frames.append(base64.b64encode(buffer).decode())\n",
        "\n",
        "        count += 1\n",
        "\n",
        "    cap.release()\n",
        "    return frames"
      ],
      "metadata": {
        "id": "yE2vZ2H-i3gR"
      },
      "execution_count": null,
      "outputs": []
    },
    {
      "cell_type": "markdown",
      "source": [
        "## 5. Process video uploaded"
      ],
      "metadata": {
        "id": "Yz8LZDCJ9S5N"
      }
    },
    {
      "cell_type": "code",
      "source": [
        "def detect_video_bytes(video_bytes, conf=0.4, tracker=None):\n",
        "    import uuid\n",
        "    import subprocess\n",
        "\n",
        "    # Lưu video gốc tạm thời\n",
        "    with tempfile.NamedTemporaryFile(delete=False, suffix='.mp4') as temp_vid:\n",
        "        temp_vid.write(video_bytes)\n",
        "        temp_vid_path = temp_vid.name\n",
        "\n",
        "    cap = cv2.VideoCapture(temp_vid_path)\n",
        "    fps = cap.get(cv2.CAP_PROP_FPS)\n",
        "    width = 720\n",
        "    height = int(720 * 9 / 16)\n",
        "\n",
        "    # Tạo file output video\n",
        "    output_filename = f\"/tmp/output_{uuid.uuid4().hex}.mp4\"\n",
        "    fourcc = cv2.VideoWriter_fourcc(*'mp4v')\n",
        "    # fourcc = cv2.VideoWriter_fourcc(*'avc1')  # H.264\n",
        "    out = cv2.VideoWriter(output_filename, fourcc, fps, (width, height))\n",
        "\n",
        "    while cap.isOpened():\n",
        "        ret, frame = cap.read()\n",
        "        if not ret:\n",
        "            break\n",
        "\n",
        "        frame = cv2.resize(frame, (width, height))\n",
        "\n",
        "        if tracker:\n",
        "            result = model.track(frame, conf=conf, persist=True, tracker=tracker)\n",
        "        else:\n",
        "            result = model.predict(frame, conf=conf)\n",
        "\n",
        "        plotted = result[0].plot()\n",
        "        out.write(plotted)\n",
        "\n",
        "    cap.release()\n",
        "    out.release()\n",
        "    os.remove(temp_vid_path)\n",
        "\n",
        "    # Move moov atom to start\n",
        "    fixed_path = move_moov_atom_to_front(output_filename)\n",
        "    os.remove(output_filename)\n",
        "\n",
        "    return fixed_path  # Trả về path file video"
      ],
      "metadata": {
        "id": "b0akF4509WUg"
      },
      "execution_count": null,
      "outputs": []
    },
    {
      "cell_type": "markdown",
      "source": [
        "## Flask API"
      ],
      "metadata": {
        "id": "2UgTtQowy8pW"
      }
    },
    {
      "cell_type": "code",
      "source": [
        "app = Flask(__name__)\n",
        "CORS(app)\n",
        "\n",
        "@app.route('/')\n",
        "def index():\n",
        "    return {'message': 'YOLOv8 backend is running.'}\n",
        "\n",
        "@app.route('/detect/image', methods=['POST'])\n",
        "def detect_image():\n",
        "    file = request.files.get('image')\n",
        "    if not file:\n",
        "        return jsonify({'error': 'No image file provided'}), 400\n",
        "\n",
        "    conf = float(request.form.get('conf', 0.4))\n",
        "    tracker = request.form.get('tracker', None)\n",
        "\n",
        "    try:\n",
        "        result_b64 = detect_image_bytes(file.read(), conf=conf, tracker=tracker)\n",
        "        return jsonify({'result': result_b64})\n",
        "    except Exception as e:\n",
        "        print(\"Error when processing images:\", e)\n",
        "        traceback.print_exc()  # In ra traceback chi tiết\n",
        "        return jsonify({'error': str(e)}), 500\n",
        "\n",
        "@app.route('/detect/youtube', methods=['POST'])\n",
        "def detect_youtube_api():\n",
        "    data = request.get_json()\n",
        "    url = data.get('url', '').strip()\n",
        "    conf = float(data.get('conf', 0.4))\n",
        "    tracker = data.get('tracker') or None\n",
        "\n",
        "    if not url or not url.startswith(\"http\"):\n",
        "        return jsonify({'error': \"❌ Please provide a valid YouTube URL.\"}), 400\n",
        "\n",
        "    try:\n",
        "        output_path = detect_youtube(url, conf=conf, tracker=tracker)\n",
        "        return send_file(output_path, mimetype=\"video/mp4\")\n",
        "    except PermissionError as e:\n",
        "        return jsonify({'error': str(e)}), 401\n",
        "    except ValueError as e:\n",
        "        return jsonify({'error': str(e)}), 400\n",
        "    except Exception as e:\n",
        "        traceback.print_exc()\n",
        "        return jsonify({'error': f\"YouTube processing error: {e}\"}), 500\n",
        "\n",
        "@app.route('/detect/video', methods=['POST'])\n",
        "def detect_video_api():\n",
        "    file = request.files.get('video')\n",
        "\n",
        "    try:\n",
        "        conf = float(request.form.get('conf', 0.4))\n",
        "    except (ValueError, TypeError):\n",
        "        conf = 0.4\n",
        "\n",
        "    tracker = request.form.get('tracker')\n",
        "    if tracker == \"\":\n",
        "        tracker = None\n",
        "\n",
        "    try:\n",
        "        output_path = detect_video_bytes(file.read(), conf=conf, tracker=tracker)\n",
        "        # return send_file(output_path, mimetype=\"video/mp4\", as_attachment=True, download_name=\"detected_video.mp4\")\n",
        "        return send_file(output_path, mimetype=\"video/mp4\")\n",
        "    except Exception as e:\n",
        "        print(\"Error when processing video:\", e)\n",
        "        traceback.print_exc()\n",
        "        return jsonify({'error': str(e)}), 500\n",
        "\n",
        "@app.route('/detect/frame', methods=['POST'])\n",
        "def detect_frame_api():\n",
        "    try:\n",
        "        file = request.files['frame']\n",
        "        conf = float(request.form.get('conf', 0.4))\n",
        "        tracker = request.form.get('tracker', None)\n",
        "\n",
        "        img_bytes = file.read()\n",
        "        np_img = np.frombuffer(img_bytes, np.uint8)\n",
        "        frame = cv2.imdecode(np_img, cv2.IMREAD_COLOR)\n",
        "\n",
        "        if tracker:\n",
        "            result = model.track(frame, conf=conf, persist=True, tracker=tracker)\n",
        "        else:\n",
        "            result = model.predict(frame, conf=conf)\n",
        "\n",
        "        plotted = result[0].plot()\n",
        "        _, buffer = cv2.imencode('.jpg', plotted)\n",
        "        return Response(buffer.tobytes(), mimetype='image/jpeg')\n",
        "\n",
        "    except Exception as e:\n",
        "        return jsonify({'error': str(e)}), 500"
      ],
      "metadata": {
        "id": "k28xmc6orrLq"
      },
      "execution_count": null,
      "outputs": []
    },
    {
      "cell_type": "markdown",
      "source": [
        "## Ngrok Export Port"
      ],
      "metadata": {
        "id": "Pr1L0Mo1zA-J"
      }
    },
    {
      "cell_type": "code",
      "source": [
        "# Đọc token từ file (và không hiển thị ra output)\n",
        "with open('/content/drive/MyDrive/Colab Notebooks/Object_Detection_App_with_YOLOv8_Streamlit/ngrok_token.txt', 'r') as f:\n",
        "    NGROK_AUTH_TOKEN = f.read().strip()\n",
        "!ngrok config add-authtoken {NGROK_AUTH_TOKEN}\n"
      ],
      "metadata": {
        "id": "OUgzrMOvS9k8",
        "colab": {
          "base_uri": "https://localhost:8080/"
        },
        "outputId": "29844ee2-47c8-444e-ec3a-8035c5c8f67b"
      },
      "execution_count": null,
      "outputs": [
        {
          "output_type": "stream",
          "name": "stdout",
          "text": [
            "Authtoken saved to configuration file: /root/.config/ngrok/ngrok.yml\n"
          ]
        }
      ]
    },
    {
      "cell_type": "code",
      "source": [
        "# !ngrok http 8501 > /dev/null 2>&1 &\n",
        "!pkill -f ngrok\n",
        "!pkill -f flask"
      ],
      "metadata": {
        "colab": {
          "base_uri": "https://localhost:8080/"
        },
        "id": "lROFb_Jx1fkG",
        "outputId": "3a378f16-ad9c-43cb-bfc9-bc5ebf606611"
      },
      "execution_count": null,
      "outputs": [
        {
          "output_type": "stream",
          "name": "stdout",
          "text": [
            "0: 384x640 6 cars, 256.0ms\n",
            "Speed: 3.7ms preprocess, 256.0ms inference, 2.1ms postprocess per image at shape (1, 3, 384, 640)\n",
            "\n"
          ]
        }
      ]
    },
    {
      "cell_type": "code",
      "source": [
        "from pyngrok import ngrok\n",
        "public_url = ngrok.connect(5000)\n",
        "print(\"YOLO API public URL:\", public_url)\n",
        "app.run(port=5000)"
      ],
      "metadata": {
        "colab": {
          "base_uri": "https://localhost:8080/"
        },
        "id": "Xr6l8d4TzFu3",
        "outputId": "c97f214c-68e9-4b5e-8042-b46345754780"
      },
      "execution_count": null,
      "outputs": [
        {
          "output_type": "stream",
          "name": "stdout",
          "text": [
            "YOLO API public URL: NgrokTunnel: \"https://1601ccc832df.ngrok-free.app\" -> \"http://localhost:5000\"\n",
            " * Serving Flask app '__main__'\n",
            " * Debug mode: off\n"
          ]
        },
        {
          "output_type": "stream",
          "name": "stderr",
          "text": [
            "INFO:werkzeug:\u001b[31m\u001b[1mWARNING: This is a development server. Do not use it in a production deployment. Use a production WSGI server instead.\u001b[0m\n",
            " * Running on http://127.0.0.1:5000\n",
            "INFO:werkzeug:\u001b[33mPress CTRL+C to quit\u001b[0m\n"
          ]
        },
        {
          "output_type": "stream",
          "name": "stdout",
          "text": [
            "\n",
            "0: 480x640 1 person, 218.6ms\n",
            "Speed: 4.0ms preprocess, 218.6ms inference, 2.3ms postprocess per image at shape (1, 3, 480, 640)\n"
          ]
        },
        {
          "output_type": "stream",
          "name": "stderr",
          "text": [
            "INFO:werkzeug:127.0.0.1 - - [08/Aug/2025 08:15:14] \"POST /detect/frame HTTP/1.1\" 200 -\n"
          ]
        },
        {
          "output_type": "stream",
          "name": "stdout",
          "text": [
            "\n",
            "0: 480x640 1 person, 1 bicycle, 173.5ms\n",
            "Speed: 2.9ms preprocess, 173.5ms inference, 1.5ms postprocess per image at shape (1, 3, 480, 640)\n"
          ]
        },
        {
          "output_type": "stream",
          "name": "stderr",
          "text": [
            "INFO:werkzeug:127.0.0.1 - - [08/Aug/2025 08:15:15] \"POST /detect/frame HTTP/1.1\" 200 -\n"
          ]
        },
        {
          "output_type": "stream",
          "name": "stdout",
          "text": [
            "\n",
            "0: 480x640 1 person, 1 bicycle, 186.2ms\n",
            "Speed: 4.2ms preprocess, 186.2ms inference, 1.9ms postprocess per image at shape (1, 3, 480, 640)\n"
          ]
        },
        {
          "output_type": "stream",
          "name": "stderr",
          "text": [
            "INFO:werkzeug:127.0.0.1 - - [08/Aug/2025 08:15:17] \"POST /detect/frame HTTP/1.1\" 200 -\n"
          ]
        },
        {
          "output_type": "stream",
          "name": "stdout",
          "text": [
            "\n",
            "0: 480x640 1 person, 1 bicycle, 185.1ms\n",
            "Speed: 3.2ms preprocess, 185.1ms inference, 1.6ms postprocess per image at shape (1, 3, 480, 640)\n"
          ]
        },
        {
          "output_type": "stream",
          "name": "stderr",
          "text": [
            "INFO:werkzeug:127.0.0.1 - - [08/Aug/2025 08:15:18] \"POST /detect/frame HTTP/1.1\" 200 -\n"
          ]
        },
        {
          "output_type": "stream",
          "name": "stdout",
          "text": [
            "\n",
            "0: 480x640 1 person, 195.8ms\n",
            "Speed: 5.1ms preprocess, 195.8ms inference, 1.7ms postprocess per image at shape (1, 3, 480, 640)\n"
          ]
        },
        {
          "output_type": "stream",
          "name": "stderr",
          "text": [
            "INFO:werkzeug:127.0.0.1 - - [08/Aug/2025 08:15:19] \"POST /detect/frame HTTP/1.1\" 200 -\n"
          ]
        },
        {
          "output_type": "stream",
          "name": "stdout",
          "text": [
            "\n",
            "0: 480x640 1 person, 186.1ms\n",
            "Speed: 4.6ms preprocess, 186.1ms inference, 2.1ms postprocess per image at shape (1, 3, 480, 640)\n"
          ]
        },
        {
          "output_type": "stream",
          "name": "stderr",
          "text": [
            "INFO:werkzeug:127.0.0.1 - - [08/Aug/2025 08:15:21] \"POST /detect/frame HTTP/1.1\" 200 -\n"
          ]
        },
        {
          "output_type": "stream",
          "name": "stdout",
          "text": [
            "\n",
            "0: 480x640 1 person, 184.7ms\n",
            "Speed: 5.3ms preprocess, 184.7ms inference, 1.7ms postprocess per image at shape (1, 3, 480, 640)\n"
          ]
        },
        {
          "output_type": "stream",
          "name": "stderr",
          "text": [
            "INFO:werkzeug:127.0.0.1 - - [08/Aug/2025 08:15:22] \"POST /detect/frame HTTP/1.1\" 200 -\n"
          ]
        },
        {
          "output_type": "stream",
          "name": "stdout",
          "text": [
            "\n",
            "0: 480x640 1 person, 277.6ms\n",
            "Speed: 3.2ms preprocess, 277.6ms inference, 1.8ms postprocess per image at shape (1, 3, 480, 640)\n"
          ]
        },
        {
          "output_type": "stream",
          "name": "stderr",
          "text": [
            "INFO:werkzeug:127.0.0.1 - - [08/Aug/2025 08:15:24] \"POST /detect/frame HTTP/1.1\" 200 -\n"
          ]
        },
        {
          "output_type": "stream",
          "name": "stdout",
          "text": [
            "\n",
            "0: 480x640 1 person, 286.0ms\n",
            "Speed: 3.7ms preprocess, 286.0ms inference, 2.7ms postprocess per image at shape (1, 3, 480, 640)\n"
          ]
        },
        {
          "output_type": "stream",
          "name": "stderr",
          "text": [
            "INFO:werkzeug:127.0.0.1 - - [08/Aug/2025 08:15:25] \"POST /detect/frame HTTP/1.1\" 200 -\n"
          ]
        },
        {
          "output_type": "stream",
          "name": "stdout",
          "text": [
            "\n",
            "0: 480x640 1 person, 170.2ms\n",
            "Speed: 4.0ms preprocess, 170.2ms inference, 1.5ms postprocess per image at shape (1, 3, 480, 640)\n"
          ]
        },
        {
          "output_type": "stream",
          "name": "stderr",
          "text": [
            "INFO:werkzeug:127.0.0.1 - - [08/Aug/2025 08:15:26] \"POST /detect/frame HTTP/1.1\" 200 -\n"
          ]
        },
        {
          "output_type": "stream",
          "name": "stdout",
          "text": [
            "\n",
            "0: 480x640 1 person, 163.5ms\n",
            "Speed: 3.2ms preprocess, 163.5ms inference, 1.4ms postprocess per image at shape (1, 3, 480, 640)\n"
          ]
        },
        {
          "output_type": "stream",
          "name": "stderr",
          "text": [
            "INFO:werkzeug:127.0.0.1 - - [08/Aug/2025 08:15:28] \"POST /detect/frame HTTP/1.1\" 200 -\n"
          ]
        },
        {
          "output_type": "stream",
          "name": "stdout",
          "text": [
            "\n",
            "0: 480x640 1 person, 168.3ms\n",
            "Speed: 3.2ms preprocess, 168.3ms inference, 1.6ms postprocess per image at shape (1, 3, 480, 640)\n"
          ]
        },
        {
          "output_type": "stream",
          "name": "stderr",
          "text": [
            "INFO:werkzeug:127.0.0.1 - - [08/Aug/2025 08:15:29] \"POST /detect/frame HTTP/1.1\" 200 -\n"
          ]
        },
        {
          "output_type": "stream",
          "name": "stdout",
          "text": [
            "\n",
            "0: 480x640 1 person, 168.4ms\n",
            "Speed: 3.0ms preprocess, 168.4ms inference, 1.7ms postprocess per image at shape (1, 3, 480, 640)\n"
          ]
        },
        {
          "output_type": "stream",
          "name": "stderr",
          "text": [
            "INFO:werkzeug:127.0.0.1 - - [08/Aug/2025 08:15:30] \"POST /detect/frame HTTP/1.1\" 200 -\n"
          ]
        },
        {
          "output_type": "stream",
          "name": "stdout",
          "text": [
            "\n",
            "0: 480x640 1 person, 200.4ms\n",
            "Speed: 4.0ms preprocess, 200.4ms inference, 1.9ms postprocess per image at shape (1, 3, 480, 640)\n"
          ]
        },
        {
          "output_type": "stream",
          "name": "stderr",
          "text": [
            "INFO:werkzeug:127.0.0.1 - - [08/Aug/2025 08:15:32] \"POST /detect/frame HTTP/1.1\" 200 -\n"
          ]
        },
        {
          "output_type": "stream",
          "name": "stdout",
          "text": [
            "\n",
            "0: 480x640 1 person, 175.5ms\n",
            "Speed: 3.6ms preprocess, 175.5ms inference, 1.5ms postprocess per image at shape (1, 3, 480, 640)\n"
          ]
        },
        {
          "output_type": "stream",
          "name": "stderr",
          "text": [
            "INFO:werkzeug:127.0.0.1 - - [08/Aug/2025 08:15:33] \"POST /detect/frame HTTP/1.1\" 200 -\n"
          ]
        },
        {
          "output_type": "stream",
          "name": "stdout",
          "text": [
            "\n",
            "0: 480x640 1 person, 184.5ms\n",
            "Speed: 4.1ms preprocess, 184.5ms inference, 1.7ms postprocess per image at shape (1, 3, 480, 640)\n"
          ]
        },
        {
          "output_type": "stream",
          "name": "stderr",
          "text": [
            "INFO:werkzeug:127.0.0.1 - - [08/Aug/2025 08:15:35] \"POST /detect/frame HTTP/1.1\" 200 -\n"
          ]
        },
        {
          "output_type": "stream",
          "name": "stdout",
          "text": [
            "\n",
            "0: 480x640 1 person, 289.1ms\n",
            "Speed: 4.8ms preprocess, 289.1ms inference, 2.2ms postprocess per image at shape (1, 3, 480, 640)\n"
          ]
        },
        {
          "output_type": "stream",
          "name": "stderr",
          "text": [
            "INFO:werkzeug:127.0.0.1 - - [08/Aug/2025 08:15:36] \"POST /detect/frame HTTP/1.1\" 200 -\n"
          ]
        },
        {
          "output_type": "stream",
          "name": "stdout",
          "text": [
            "\n",
            "0: 480x640 1 person, 281.4ms\n",
            "Speed: 3.8ms preprocess, 281.4ms inference, 2.4ms postprocess per image at shape (1, 3, 480, 640)\n"
          ]
        },
        {
          "output_type": "stream",
          "name": "stderr",
          "text": [
            "INFO:werkzeug:127.0.0.1 - - [08/Aug/2025 08:15:37] \"POST /detect/frame HTTP/1.1\" 200 -\n"
          ]
        },
        {
          "output_type": "stream",
          "name": "stdout",
          "text": [
            "\n",
            "0: 480x640 1 person, 160.0ms\n",
            "Speed: 3.5ms preprocess, 160.0ms inference, 1.4ms postprocess per image at shape (1, 3, 480, 640)\n"
          ]
        },
        {
          "output_type": "stream",
          "name": "stderr",
          "text": [
            "INFO:werkzeug:127.0.0.1 - - [08/Aug/2025 08:15:39] \"POST /detect/frame HTTP/1.1\" 200 -\n"
          ]
        },
        {
          "output_type": "stream",
          "name": "stdout",
          "text": [
            "\n",
            "0: 480x640 1 person, 153.6ms\n",
            "Speed: 3.1ms preprocess, 153.6ms inference, 1.3ms postprocess per image at shape (1, 3, 480, 640)\n"
          ]
        },
        {
          "output_type": "stream",
          "name": "stderr",
          "text": [
            "INFO:werkzeug:127.0.0.1 - - [08/Aug/2025 08:15:40] \"POST /detect/frame HTTP/1.1\" 200 -\n"
          ]
        },
        {
          "output_type": "stream",
          "name": "stdout",
          "text": [
            "\n",
            "0: 480x640 1 person, 164.6ms\n",
            "Speed: 3.5ms preprocess, 164.6ms inference, 1.5ms postprocess per image at shape (1, 3, 480, 640)\n"
          ]
        },
        {
          "output_type": "stream",
          "name": "stderr",
          "text": [
            "INFO:werkzeug:127.0.0.1 - - [08/Aug/2025 08:15:42] \"POST /detect/frame HTTP/1.1\" 200 -\n"
          ]
        },
        {
          "output_type": "stream",
          "name": "stdout",
          "text": [
            "\n",
            "0: 480x640 1 person, 181.0ms\n",
            "Speed: 3.8ms preprocess, 181.0ms inference, 1.7ms postprocess per image at shape (1, 3, 480, 640)\n"
          ]
        },
        {
          "output_type": "stream",
          "name": "stderr",
          "text": [
            "INFO:werkzeug:127.0.0.1 - - [08/Aug/2025 08:15:43] \"POST /detect/frame HTTP/1.1\" 200 -\n"
          ]
        },
        {
          "output_type": "stream",
          "name": "stdout",
          "text": [
            "\n",
            "0: 480x640 1 person, 199.4ms\n",
            "Speed: 4.9ms preprocess, 199.4ms inference, 1.7ms postprocess per image at shape (1, 3, 480, 640)\n"
          ]
        },
        {
          "output_type": "stream",
          "name": "stderr",
          "text": [
            "INFO:werkzeug:127.0.0.1 - - [08/Aug/2025 08:15:44] \"POST /detect/frame HTTP/1.1\" 200 -\n"
          ]
        },
        {
          "output_type": "stream",
          "name": "stdout",
          "text": [
            "\n",
            "0: 480x640 1 person, 169.6ms\n",
            "Speed: 3.6ms preprocess, 169.6ms inference, 1.5ms postprocess per image at shape (1, 3, 480, 640)\n"
          ]
        },
        {
          "output_type": "stream",
          "name": "stderr",
          "text": [
            "INFO:werkzeug:127.0.0.1 - - [08/Aug/2025 08:17:55] \"POST /detect/frame HTTP/1.1\" 200 -\n"
          ]
        },
        {
          "output_type": "stream",
          "name": "stdout",
          "text": [
            "\n",
            "0: 480x640 1 person, 263.6ms\n",
            "Speed: 6.8ms preprocess, 263.6ms inference, 2.2ms postprocess per image at shape (1, 3, 480, 640)\n"
          ]
        },
        {
          "output_type": "stream",
          "name": "stderr",
          "text": [
            "INFO:werkzeug:127.0.0.1 - - [08/Aug/2025 08:17:57] \"POST /detect/frame HTTP/1.1\" 200 -\n"
          ]
        },
        {
          "output_type": "stream",
          "name": "stdout",
          "text": [
            "\n",
            "0: 480x640 1 person, 286.2ms\n",
            "Speed: 5.4ms preprocess, 286.2ms inference, 2.8ms postprocess per image at shape (1, 3, 480, 640)\n"
          ]
        },
        {
          "output_type": "stream",
          "name": "stderr",
          "text": [
            "INFO:werkzeug:127.0.0.1 - - [08/Aug/2025 08:17:58] \"POST /detect/frame HTTP/1.1\" 200 -\n"
          ]
        },
        {
          "output_type": "stream",
          "name": "stdout",
          "text": [
            "\n",
            "0: 480x640 1 person, 174.1ms\n",
            "Speed: 3.6ms preprocess, 174.1ms inference, 1.7ms postprocess per image at shape (1, 3, 480, 640)\n"
          ]
        },
        {
          "output_type": "stream",
          "name": "stderr",
          "text": [
            "INFO:werkzeug:127.0.0.1 - - [08/Aug/2025 08:18:00] \"POST /detect/frame HTTP/1.1\" 200 -\n"
          ]
        },
        {
          "output_type": "stream",
          "name": "stdout",
          "text": [
            "\n",
            "0: 480x640 1 person, 175.5ms\n",
            "Speed: 3.7ms preprocess, 175.5ms inference, 1.5ms postprocess per image at shape (1, 3, 480, 640)\n"
          ]
        },
        {
          "output_type": "stream",
          "name": "stderr",
          "text": [
            "INFO:werkzeug:127.0.0.1 - - [08/Aug/2025 08:18:01] \"POST /detect/frame HTTP/1.1\" 200 -\n"
          ]
        },
        {
          "output_type": "stream",
          "name": "stdout",
          "text": [
            "\n",
            "0: 480x640 1 person, 187.3ms\n",
            "Speed: 3.5ms preprocess, 187.3ms inference, 1.4ms postprocess per image at shape (1, 3, 480, 640)\n"
          ]
        },
        {
          "output_type": "stream",
          "name": "stderr",
          "text": [
            "INFO:werkzeug:127.0.0.1 - - [08/Aug/2025 08:18:02] \"POST /detect/frame HTTP/1.1\" 200 -\n"
          ]
        },
        {
          "output_type": "stream",
          "name": "stdout",
          "text": [
            "\n",
            "0: 480x640 1 person, 164.8ms\n",
            "Speed: 3.0ms preprocess, 164.8ms inference, 2.3ms postprocess per image at shape (1, 3, 480, 640)\n"
          ]
        },
        {
          "output_type": "stream",
          "name": "stderr",
          "text": [
            "INFO:werkzeug:127.0.0.1 - - [08/Aug/2025 08:18:04] \"POST /detect/frame HTTP/1.1\" 200 -\n"
          ]
        },
        {
          "output_type": "stream",
          "name": "stdout",
          "text": [
            "\n",
            "0: 480x640 1 person, 183.3ms\n",
            "Speed: 3.7ms preprocess, 183.3ms inference, 1.5ms postprocess per image at shape (1, 3, 480, 640)\n"
          ]
        },
        {
          "output_type": "stream",
          "name": "stderr",
          "text": [
            "INFO:werkzeug:127.0.0.1 - - [08/Aug/2025 08:18:05] \"POST /detect/frame HTTP/1.1\" 200 -\n"
          ]
        },
        {
          "output_type": "stream",
          "name": "stdout",
          "text": [
            "\n",
            "0: 480x640 1 person, 203.7ms\n",
            "Speed: 4.1ms preprocess, 203.7ms inference, 1.6ms postprocess per image at shape (1, 3, 480, 640)\n"
          ]
        },
        {
          "output_type": "stream",
          "name": "stderr",
          "text": [
            "INFO:werkzeug:127.0.0.1 - - [08/Aug/2025 08:18:06] \"POST /detect/frame HTTP/1.1\" 200 -\n"
          ]
        },
        {
          "output_type": "stream",
          "name": "stdout",
          "text": [
            "\n",
            "0: 480x640 1 person, 175.7ms\n",
            "Speed: 3.3ms preprocess, 175.7ms inference, 1.4ms postprocess per image at shape (1, 3, 480, 640)\n"
          ]
        },
        {
          "output_type": "stream",
          "name": "stderr",
          "text": [
            "INFO:werkzeug:127.0.0.1 - - [08/Aug/2025 08:18:08] \"POST /detect/frame HTTP/1.1\" 200 -\n"
          ]
        },
        {
          "output_type": "stream",
          "name": "stdout",
          "text": [
            "\n",
            "0: 480x640 1 person, 272.5ms\n",
            "Speed: 6.0ms preprocess, 272.5ms inference, 2.4ms postprocess per image at shape (1, 3, 480, 640)\n"
          ]
        },
        {
          "output_type": "stream",
          "name": "stderr",
          "text": [
            "INFO:werkzeug:127.0.0.1 - - [08/Aug/2025 08:18:09] \"POST /detect/frame HTTP/1.1\" 200 -\n"
          ]
        },
        {
          "output_type": "stream",
          "name": "stdout",
          "text": [
            "\n",
            "0: 480x640 1 person, 290.8ms\n",
            "Speed: 3.5ms preprocess, 290.8ms inference, 2.3ms postprocess per image at shape (1, 3, 480, 640)\n"
          ]
        },
        {
          "output_type": "stream",
          "name": "stderr",
          "text": [
            "INFO:werkzeug:127.0.0.1 - - [08/Aug/2025 08:18:11] \"POST /detect/frame HTTP/1.1\" 200 -\n"
          ]
        },
        {
          "output_type": "stream",
          "name": "stdout",
          "text": [
            "\n",
            "0: 480x640 1 person, 160.8ms\n",
            "Speed: 3.0ms preprocess, 160.8ms inference, 1.5ms postprocess per image at shape (1, 3, 480, 640)\n"
          ]
        },
        {
          "output_type": "stream",
          "name": "stderr",
          "text": [
            "INFO:werkzeug:127.0.0.1 - - [08/Aug/2025 08:18:12] \"POST /detect/frame HTTP/1.1\" 200 -\n"
          ]
        },
        {
          "output_type": "stream",
          "name": "stdout",
          "text": [
            "\n",
            "0: 480x640 1 person, 181.3ms\n",
            "Speed: 4.9ms preprocess, 181.3ms inference, 1.7ms postprocess per image at shape (1, 3, 480, 640)\n"
          ]
        },
        {
          "output_type": "stream",
          "name": "stderr",
          "text": [
            "INFO:werkzeug:127.0.0.1 - - [08/Aug/2025 08:18:14] \"POST /detect/frame HTTP/1.1\" 200 -\n"
          ]
        },
        {
          "output_type": "stream",
          "name": "stdout",
          "text": [
            "\n",
            "0: 480x640 1 person, 1 bicycle, 177.2ms\n",
            "Speed: 3.1ms preprocess, 177.2ms inference, 1.9ms postprocess per image at shape (1, 3, 480, 640)\n"
          ]
        },
        {
          "output_type": "stream",
          "name": "stderr",
          "text": [
            "INFO:werkzeug:127.0.0.1 - - [08/Aug/2025 08:18:15] \"POST /detect/frame HTTP/1.1\" 200 -\n"
          ]
        },
        {
          "output_type": "stream",
          "name": "stdout",
          "text": [
            "\n",
            "0: 480x640 1 person, 1 bicycle, 173.5ms\n",
            "Speed: 2.9ms preprocess, 173.5ms inference, 1.8ms postprocess per image at shape (1, 3, 480, 640)\n"
          ]
        },
        {
          "output_type": "stream",
          "name": "stderr",
          "text": [
            "INFO:werkzeug:127.0.0.1 - - [08/Aug/2025 08:18:16] \"POST /detect/frame HTTP/1.1\" 200 -\n"
          ]
        },
        {
          "output_type": "stream",
          "name": "stdout",
          "text": [
            "\n",
            "0: 480x640 1 person, 1 bicycle, 1 chair, 178.2ms\n",
            "Speed: 4.0ms preprocess, 178.2ms inference, 1.8ms postprocess per image at shape (1, 3, 480, 640)\n"
          ]
        },
        {
          "output_type": "stream",
          "name": "stderr",
          "text": [
            "INFO:werkzeug:127.0.0.1 - - [08/Aug/2025 08:18:18] \"POST /detect/frame HTTP/1.1\" 200 -\n"
          ]
        },
        {
          "output_type": "stream",
          "name": "stdout",
          "text": [
            "\n",
            "0: 480x640 1 person, 1 bicycle, 184.5ms\n",
            "Speed: 3.3ms preprocess, 184.5ms inference, 1.5ms postprocess per image at shape (1, 3, 480, 640)\n"
          ]
        },
        {
          "output_type": "stream",
          "name": "stderr",
          "text": [
            "INFO:werkzeug:127.0.0.1 - - [08/Aug/2025 08:18:19] \"POST /detect/frame HTTP/1.1\" 200 -\n"
          ]
        },
        {
          "output_type": "stream",
          "name": "stdout",
          "text": [
            "\n",
            "0: 480x640 1 person, 1 bicycle, 1 chair, 180.3ms\n",
            "Speed: 4.0ms preprocess, 180.3ms inference, 1.9ms postprocess per image at shape (1, 3, 480, 640)\n"
          ]
        },
        {
          "output_type": "stream",
          "name": "stderr",
          "text": [
            "INFO:werkzeug:127.0.0.1 - - [08/Aug/2025 08:18:20] \"POST /detect/frame HTTP/1.1\" 200 -\n"
          ]
        },
        {
          "output_type": "stream",
          "name": "stdout",
          "text": [
            "\n",
            "0: 480x640 1 person, 1 bicycle, 1 chair, 231.8ms\n",
            "Speed: 3.7ms preprocess, 231.8ms inference, 2.7ms postprocess per image at shape (1, 3, 480, 640)\n"
          ]
        },
        {
          "output_type": "stream",
          "name": "stderr",
          "text": [
            "INFO:werkzeug:127.0.0.1 - - [08/Aug/2025 08:18:22] \"POST /detect/frame HTTP/1.1\" 200 -\n"
          ]
        },
        {
          "output_type": "stream",
          "name": "stdout",
          "text": [
            "\n",
            "0: 480x640 1 person, 1 bicycle, 1 chair, 289.4ms\n",
            "Speed: 4.1ms preprocess, 289.4ms inference, 2.3ms postprocess per image at shape (1, 3, 480, 640)\n"
          ]
        },
        {
          "output_type": "stream",
          "name": "stderr",
          "text": [
            "INFO:werkzeug:127.0.0.1 - - [08/Aug/2025 08:18:23] \"POST /detect/frame HTTP/1.1\" 200 -\n"
          ]
        },
        {
          "output_type": "stream",
          "name": "stdout",
          "text": [
            "\n",
            "0: 480x640 1 person, 173.4ms\n",
            "Speed: 4.7ms preprocess, 173.4ms inference, 1.6ms postprocess per image at shape (1, 3, 480, 640)\n"
          ]
        },
        {
          "output_type": "stream",
          "name": "stderr",
          "text": [
            "INFO:werkzeug:127.0.0.1 - - [08/Aug/2025 08:24:11] \"POST /detect/frame HTTP/1.1\" 200 -\n"
          ]
        },
        {
          "output_type": "stream",
          "name": "stdout",
          "text": [
            "\n",
            "0: 480x640 1 person, 187.1ms\n",
            "Speed: 3.5ms preprocess, 187.1ms inference, 1.4ms postprocess per image at shape (1, 3, 480, 640)\n"
          ]
        },
        {
          "output_type": "stream",
          "name": "stderr",
          "text": [
            "INFO:werkzeug:127.0.0.1 - - [08/Aug/2025 08:24:12] \"POST /detect/frame HTTP/1.1\" 200 -\n"
          ]
        },
        {
          "output_type": "stream",
          "name": "stdout",
          "text": [
            "\n",
            "0: 480x640 1 person, 172.4ms\n",
            "Speed: 3.4ms preprocess, 172.4ms inference, 1.5ms postprocess per image at shape (1, 3, 480, 640)\n"
          ]
        },
        {
          "output_type": "stream",
          "name": "stderr",
          "text": [
            "INFO:werkzeug:127.0.0.1 - - [08/Aug/2025 08:24:13] \"POST /detect/frame HTTP/1.1\" 200 -\n"
          ]
        },
        {
          "output_type": "stream",
          "name": "stdout",
          "text": [
            "\n",
            "0: 480x640 1 person, 165.0ms\n",
            "Speed: 3.6ms preprocess, 165.0ms inference, 1.6ms postprocess per image at shape (1, 3, 480, 640)\n"
          ]
        },
        {
          "output_type": "stream",
          "name": "stderr",
          "text": [
            "INFO:werkzeug:127.0.0.1 - - [08/Aug/2025 08:24:15] \"POST /detect/frame HTTP/1.1\" 200 -\n"
          ]
        },
        {
          "output_type": "stream",
          "name": "stdout",
          "text": [
            "\n",
            "0: 480x640 1 person, 1 chair, 197.6ms\n",
            "Speed: 3.3ms preprocess, 197.6ms inference, 1.6ms postprocess per image at shape (1, 3, 480, 640)\n"
          ]
        },
        {
          "output_type": "stream",
          "name": "stderr",
          "text": [
            "INFO:werkzeug:127.0.0.1 - - [08/Aug/2025 08:24:16] \"POST /detect/frame HTTP/1.1\" 200 -\n"
          ]
        },
        {
          "output_type": "stream",
          "name": "stdout",
          "text": [
            "\n",
            "0: 480x640 1 person, 198.5ms\n",
            "Speed: 4.0ms preprocess, 198.5ms inference, 2.2ms postprocess per image at shape (1, 3, 480, 640)\n"
          ]
        },
        {
          "output_type": "stream",
          "name": "stderr",
          "text": [
            "INFO:werkzeug:127.0.0.1 - - [08/Aug/2025 08:24:18] \"POST /detect/frame HTTP/1.1\" 200 -\n"
          ]
        },
        {
          "output_type": "stream",
          "name": "stdout",
          "text": [
            "\n",
            "0: 480x640 1 person, 268.0ms\n",
            "Speed: 5.4ms preprocess, 268.0ms inference, 3.5ms postprocess per image at shape (1, 3, 480, 640)\n"
          ]
        },
        {
          "output_type": "stream",
          "name": "stderr",
          "text": [
            "INFO:werkzeug:127.0.0.1 - - [08/Aug/2025 08:24:19] \"POST /detect/frame HTTP/1.1\" 200 -\n"
          ]
        },
        {
          "output_type": "stream",
          "name": "stdout",
          "text": [
            "\n",
            "0: 480x640 1 person, 277.4ms\n",
            "Speed: 3.1ms preprocess, 277.4ms inference, 2.6ms postprocess per image at shape (1, 3, 480, 640)\n"
          ]
        },
        {
          "output_type": "stream",
          "name": "stderr",
          "text": [
            "INFO:werkzeug:127.0.0.1 - - [08/Aug/2025 08:24:20] \"POST /detect/frame HTTP/1.1\" 200 -\n"
          ]
        },
        {
          "output_type": "stream",
          "name": "stdout",
          "text": [
            "\n",
            "0: 480x640 1 person, 179.9ms\n",
            "Speed: 3.0ms preprocess, 179.9ms inference, 1.5ms postprocess per image at shape (1, 3, 480, 640)\n"
          ]
        },
        {
          "output_type": "stream",
          "name": "stderr",
          "text": [
            "INFO:werkzeug:127.0.0.1 - - [08/Aug/2025 08:24:22] \"POST /detect/frame HTTP/1.1\" 200 -\n"
          ]
        },
        {
          "output_type": "stream",
          "name": "stdout",
          "text": [
            "\n",
            "0: 480x640 1 person, 164.7ms\n",
            "Speed: 3.3ms preprocess, 164.7ms inference, 1.4ms postprocess per image at shape (1, 3, 480, 640)\n"
          ]
        },
        {
          "output_type": "stream",
          "name": "stderr",
          "text": [
            "INFO:werkzeug:127.0.0.1 - - [08/Aug/2025 08:24:23] \"POST /detect/frame HTTP/1.1\" 200 -\n"
          ]
        },
        {
          "output_type": "stream",
          "name": "stdout",
          "text": [
            "\n",
            "0: 480x640 1 person, 157.4ms\n",
            "Speed: 2.9ms preprocess, 157.4ms inference, 1.3ms postprocess per image at shape (1, 3, 480, 640)\n"
          ]
        },
        {
          "output_type": "stream",
          "name": "stderr",
          "text": [
            "INFO:werkzeug:127.0.0.1 - - [08/Aug/2025 08:24:24] \"POST /detect/frame HTTP/1.1\" 200 -\n"
          ]
        },
        {
          "output_type": "stream",
          "name": "stdout",
          "text": [
            "\n",
            "0: 480x640 1 person, 1 chair, 194.1ms\n",
            "Speed: 3.7ms preprocess, 194.1ms inference, 1.8ms postprocess per image at shape (1, 3, 480, 640)\n"
          ]
        },
        {
          "output_type": "stream",
          "name": "stderr",
          "text": [
            "INFO:werkzeug:127.0.0.1 - - [08/Aug/2025 08:24:26] \"POST /detect/frame HTTP/1.1\" 200 -\n"
          ]
        },
        {
          "output_type": "stream",
          "name": "stdout",
          "text": [
            "\n",
            "0: 480x640 1 person, 186.4ms\n",
            "Speed: 4.2ms preprocess, 186.4ms inference, 1.7ms postprocess per image at shape (1, 3, 480, 640)\n"
          ]
        },
        {
          "output_type": "stream",
          "name": "stderr",
          "text": [
            "INFO:werkzeug:127.0.0.1 - - [08/Aug/2025 08:25:39] \"POST /detect/frame HTTP/1.1\" 200 -\n"
          ]
        },
        {
          "output_type": "stream",
          "name": "stdout",
          "text": [
            "\n",
            "0: 480x640 1 person, 181.2ms\n",
            "Speed: 4.0ms preprocess, 181.2ms inference, 1.8ms postprocess per image at shape (1, 3, 480, 640)\n"
          ]
        },
        {
          "output_type": "stream",
          "name": "stderr",
          "text": [
            "INFO:werkzeug:127.0.0.1 - - [08/Aug/2025 08:25:40] \"POST /detect/frame HTTP/1.1\" 200 -\n"
          ]
        },
        {
          "output_type": "stream",
          "name": "stdout",
          "text": [
            "\n",
            "0: 480x640 1 person, 1 chair, 1 sink, 178.5ms\n",
            "Speed: 4.5ms preprocess, 178.5ms inference, 2.1ms postprocess per image at shape (1, 3, 480, 640)\n"
          ]
        },
        {
          "output_type": "stream",
          "name": "stderr",
          "text": [
            "INFO:werkzeug:127.0.0.1 - - [08/Aug/2025 08:25:41] \"POST /detect/frame HTTP/1.1\" 200 -\n"
          ]
        },
        {
          "output_type": "stream",
          "name": "stdout",
          "text": [
            "\n",
            "0: 480x640 1 person, 1 chair, 185.6ms\n",
            "Speed: 4.2ms preprocess, 185.6ms inference, 1.7ms postprocess per image at shape (1, 3, 480, 640)\n"
          ]
        },
        {
          "output_type": "stream",
          "name": "stderr",
          "text": [
            "INFO:werkzeug:127.0.0.1 - - [08/Aug/2025 08:25:43] \"POST /detect/frame HTTP/1.1\" 200 -\n"
          ]
        },
        {
          "output_type": "stream",
          "name": "stdout",
          "text": [
            "\n",
            "0: 480x640 1 person, 1 chair, 163.4ms\n",
            "Speed: 3.0ms preprocess, 163.4ms inference, 1.8ms postprocess per image at shape (1, 3, 480, 640)\n"
          ]
        },
        {
          "output_type": "stream",
          "name": "stderr",
          "text": [
            "INFO:werkzeug:127.0.0.1 - - [08/Aug/2025 08:25:44] \"POST /detect/frame HTTP/1.1\" 200 -\n"
          ]
        },
        {
          "output_type": "stream",
          "name": "stdout",
          "text": [
            "\n",
            "0: 480x640 1 person, 1 chair, 169.5ms\n",
            "Speed: 3.0ms preprocess, 169.5ms inference, 1.5ms postprocess per image at shape (1, 3, 480, 640)\n"
          ]
        },
        {
          "output_type": "stream",
          "name": "stderr",
          "text": [
            "INFO:werkzeug:127.0.0.1 - - [08/Aug/2025 08:25:45] \"POST /detect/frame HTTP/1.1\" 200 -\n"
          ]
        },
        {
          "output_type": "stream",
          "name": "stdout",
          "text": [
            "\n",
            "0: 480x640 1 person, 1 chair, 1 sink, 178.4ms\n",
            "Speed: 3.1ms preprocess, 178.4ms inference, 1.3ms postprocess per image at shape (1, 3, 480, 640)\n"
          ]
        },
        {
          "output_type": "stream",
          "name": "stderr",
          "text": [
            "INFO:werkzeug:127.0.0.1 - - [08/Aug/2025 08:25:47] \"POST /detect/frame HTTP/1.1\" 200 -\n"
          ]
        },
        {
          "output_type": "stream",
          "name": "stdout",
          "text": [
            "\n",
            "0: 480x640 1 person, 1 chair, 1 sink, 178.5ms\n",
            "Speed: 3.7ms preprocess, 178.5ms inference, 1.8ms postprocess per image at shape (1, 3, 480, 640)\n"
          ]
        },
        {
          "output_type": "stream",
          "name": "stderr",
          "text": [
            "INFO:werkzeug:127.0.0.1 - - [08/Aug/2025 08:25:48] \"POST /detect/frame HTTP/1.1\" 200 -\n"
          ]
        },
        {
          "output_type": "stream",
          "name": "stdout",
          "text": [
            "\n",
            "0: 480x640 1 person, 265.9ms\n",
            "Speed: 3.9ms preprocess, 265.9ms inference, 2.7ms postprocess per image at shape (1, 3, 480, 640)\n"
          ]
        },
        {
          "output_type": "stream",
          "name": "stderr",
          "text": [
            "INFO:werkzeug:127.0.0.1 - - [08/Aug/2025 08:25:49] \"POST /detect/frame HTTP/1.1\" 200 -\n"
          ]
        },
        {
          "output_type": "stream",
          "name": "stdout",
          "text": [
            "\n",
            "0: 480x640 1 person, 1 chair, 1 sink, 279.6ms\n",
            "Speed: 4.1ms preprocess, 279.6ms inference, 2.0ms postprocess per image at shape (1, 3, 480, 640)\n"
          ]
        },
        {
          "output_type": "stream",
          "name": "stderr",
          "text": [
            "INFO:werkzeug:127.0.0.1 - - [08/Aug/2025 08:25:51] \"POST /detect/frame HTTP/1.1\" 200 -\n"
          ]
        },
        {
          "output_type": "stream",
          "name": "stdout",
          "text": [
            "\n",
            "0: 480x640 (no detections), 193.5ms\n",
            "Speed: 4.3ms preprocess, 193.5ms inference, 1.4ms postprocess per image at shape (1, 3, 480, 640)\n"
          ]
        },
        {
          "output_type": "stream",
          "name": "stderr",
          "text": [
            "INFO:werkzeug:127.0.0.1 - - [08/Aug/2025 08:31:00] \"POST /detect/frame HTTP/1.1\" 200 -\n"
          ]
        },
        {
          "output_type": "stream",
          "name": "stdout",
          "text": [
            "\n",
            "0: 480x640 1 person, 166.8ms\n",
            "Speed: 3.2ms preprocess, 166.8ms inference, 1.9ms postprocess per image at shape (1, 3, 480, 640)\n"
          ]
        },
        {
          "output_type": "stream",
          "name": "stderr",
          "text": [
            "INFO:werkzeug:127.0.0.1 - - [08/Aug/2025 08:31:01] \"POST /detect/frame HTTP/1.1\" 200 -\n"
          ]
        },
        {
          "output_type": "stream",
          "name": "stdout",
          "text": [
            "\n",
            "0: 480x640 1 person, 1 chair, 172.3ms\n",
            "Speed: 2.9ms preprocess, 172.3ms inference, 1.7ms postprocess per image at shape (1, 3, 480, 640)\n"
          ]
        },
        {
          "output_type": "stream",
          "name": "stderr",
          "text": [
            "INFO:werkzeug:127.0.0.1 - - [08/Aug/2025 08:31:02] \"POST /detect/frame HTTP/1.1\" 200 -\n"
          ]
        },
        {
          "output_type": "stream",
          "name": "stdout",
          "text": [
            "\n",
            "0: 480x640 1 person, 1 chair, 164.6ms\n",
            "Speed: 2.9ms preprocess, 164.6ms inference, 1.4ms postprocess per image at shape (1, 3, 480, 640)\n"
          ]
        },
        {
          "output_type": "stream",
          "name": "stderr",
          "text": [
            "INFO:werkzeug:127.0.0.1 - - [08/Aug/2025 08:31:04] \"POST /detect/frame HTTP/1.1\" 200 -\n"
          ]
        },
        {
          "output_type": "stream",
          "name": "stdout",
          "text": [
            "\n",
            "0: 480x640 1 person, 181.6ms\n",
            "Speed: 3.6ms preprocess, 181.6ms inference, 1.8ms postprocess per image at shape (1, 3, 480, 640)\n"
          ]
        },
        {
          "output_type": "stream",
          "name": "stderr",
          "text": [
            "INFO:werkzeug:127.0.0.1 - - [08/Aug/2025 08:31:05] \"POST /detect/frame HTTP/1.1\" 200 -\n"
          ]
        },
        {
          "output_type": "stream",
          "name": "stdout",
          "text": [
            "\n",
            "0: 480x640 1 person, 249.1ms\n",
            "Speed: 3.6ms preprocess, 249.1ms inference, 2.4ms postprocess per image at shape (1, 3, 480, 640)\n"
          ]
        },
        {
          "output_type": "stream",
          "name": "stderr",
          "text": [
            "INFO:werkzeug:127.0.0.1 - - [08/Aug/2025 08:31:06] \"POST /detect/frame HTTP/1.1\" 200 -\n"
          ]
        },
        {
          "output_type": "stream",
          "name": "stdout",
          "text": [
            "\n",
            "0: 480x640 1 person, 272.5ms\n",
            "Speed: 3.8ms preprocess, 272.5ms inference, 2.3ms postprocess per image at shape (1, 3, 480, 640)\n"
          ]
        },
        {
          "output_type": "stream",
          "name": "stderr",
          "text": [
            "INFO:werkzeug:127.0.0.1 - - [08/Aug/2025 08:31:08] \"POST /detect/frame HTTP/1.1\" 200 -\n"
          ]
        },
        {
          "output_type": "stream",
          "name": "stdout",
          "text": [
            "\n",
            "0: 480x640 1 person, 162.9ms\n",
            "Speed: 3.2ms preprocess, 162.9ms inference, 1.5ms postprocess per image at shape (1, 3, 480, 640)\n"
          ]
        },
        {
          "output_type": "stream",
          "name": "stderr",
          "text": [
            "INFO:werkzeug:127.0.0.1 - - [08/Aug/2025 08:31:09] \"POST /detect/frame HTTP/1.1\" 200 -\n"
          ]
        },
        {
          "output_type": "stream",
          "name": "stdout",
          "text": [
            "\n",
            "0: 480x640 1 person, 188.1ms\n",
            "Speed: 4.0ms preprocess, 188.1ms inference, 2.4ms postprocess per image at shape (1, 3, 480, 640)\n"
          ]
        },
        {
          "output_type": "stream",
          "name": "stderr",
          "text": [
            "INFO:werkzeug:127.0.0.1 - - [08/Aug/2025 08:31:11] \"POST /detect/frame HTTP/1.1\" 200 -\n"
          ]
        },
        {
          "output_type": "stream",
          "name": "stdout",
          "text": [
            "\n",
            "0: 480x640 1 person, 166.4ms\n",
            "Speed: 3.2ms preprocess, 166.4ms inference, 1.5ms postprocess per image at shape (1, 3, 480, 640)\n"
          ]
        },
        {
          "output_type": "stream",
          "name": "stderr",
          "text": [
            "INFO:werkzeug:127.0.0.1 - - [08/Aug/2025 08:31:12] \"POST /detect/frame HTTP/1.1\" 200 -\n"
          ]
        },
        {
          "output_type": "stream",
          "name": "stdout",
          "text": [
            "\n",
            "0: 480x640 1 person, 180.3ms\n",
            "Speed: 3.7ms preprocess, 180.3ms inference, 1.9ms postprocess per image at shape (1, 3, 480, 640)\n"
          ]
        },
        {
          "output_type": "stream",
          "name": "stderr",
          "text": [
            "INFO:werkzeug:127.0.0.1 - - [08/Aug/2025 08:31:13] \"POST /detect/frame HTTP/1.1\" 200 -\n"
          ]
        },
        {
          "output_type": "stream",
          "name": "stdout",
          "text": [
            "\n",
            "0: 480x640 1 person, 183.8ms\n",
            "Speed: 5.0ms preprocess, 183.8ms inference, 1.7ms postprocess per image at shape (1, 3, 480, 640)\n"
          ]
        },
        {
          "output_type": "stream",
          "name": "stderr",
          "text": [
            "INFO:werkzeug:127.0.0.1 - - [08/Aug/2025 08:31:15] \"POST /detect/frame HTTP/1.1\" 200 -\n"
          ]
        },
        {
          "output_type": "stream",
          "name": "stdout",
          "text": [
            "\n",
            "0: 480x640 1 person, 181.2ms\n",
            "Speed: 3.8ms preprocess, 181.2ms inference, 1.7ms postprocess per image at shape (1, 3, 480, 640)\n"
          ]
        },
        {
          "output_type": "stream",
          "name": "stderr",
          "text": [
            "INFO:werkzeug:127.0.0.1 - - [08/Aug/2025 08:31:16] \"POST /detect/frame HTTP/1.1\" 200 -\n"
          ]
        },
        {
          "output_type": "stream",
          "name": "stdout",
          "text": [
            "\n",
            "0: 480x640 1 person, 185.8ms\n",
            "Speed: 3.9ms preprocess, 185.8ms inference, 2.2ms postprocess per image at shape (1, 3, 480, 640)\n"
          ]
        },
        {
          "output_type": "stream",
          "name": "stderr",
          "text": [
            "INFO:werkzeug:127.0.0.1 - - [08/Aug/2025 08:31:17] \"POST /detect/frame HTTP/1.1\" 200 -\n"
          ]
        },
        {
          "output_type": "stream",
          "name": "stdout",
          "text": [
            "\n",
            "0: 480x640 1 person, 160.9ms\n",
            "Speed: 3.3ms preprocess, 160.9ms inference, 1.4ms postprocess per image at shape (1, 3, 480, 640)\n"
          ]
        },
        {
          "output_type": "stream",
          "name": "stderr",
          "text": [
            "INFO:werkzeug:127.0.0.1 - - [08/Aug/2025 08:31:19] \"POST /detect/frame HTTP/1.1\" 200 -\n"
          ]
        },
        {
          "output_type": "stream",
          "name": "stdout",
          "text": [
            "\n",
            "0: 480x640 1 person, 258.3ms\n",
            "Speed: 4.3ms preprocess, 258.3ms inference, 1.6ms postprocess per image at shape (1, 3, 480, 640)\n"
          ]
        },
        {
          "output_type": "stream",
          "name": "stderr",
          "text": [
            "INFO:werkzeug:127.0.0.1 - - [08/Aug/2025 08:31:20] \"POST /detect/frame HTTP/1.1\" 200 -\n"
          ]
        },
        {
          "output_type": "stream",
          "name": "stdout",
          "text": [
            "\n",
            "0: 480x640 1 person, 253.4ms\n",
            "Speed: 5.2ms preprocess, 253.4ms inference, 2.0ms postprocess per image at shape (1, 3, 480, 640)\n"
          ]
        },
        {
          "output_type": "stream",
          "name": "stderr",
          "text": [
            "INFO:werkzeug:127.0.0.1 - - [08/Aug/2025 08:31:22] \"POST /detect/frame HTTP/1.1\" 200 -\n"
          ]
        },
        {
          "output_type": "stream",
          "name": "stdout",
          "text": [
            "\n",
            "0: 480x640 1 person, 161.3ms\n",
            "Speed: 3.3ms preprocess, 161.3ms inference, 1.8ms postprocess per image at shape (1, 3, 480, 640)\n"
          ]
        },
        {
          "output_type": "stream",
          "name": "stderr",
          "text": [
            "INFO:werkzeug:127.0.0.1 - - [08/Aug/2025 08:31:23] \"POST /detect/frame HTTP/1.1\" 200 -\n"
          ]
        },
        {
          "output_type": "stream",
          "name": "stdout",
          "text": [
            "\n",
            "0: 480x640 1 person, 189.9ms\n",
            "Speed: 3.1ms preprocess, 189.9ms inference, 1.4ms postprocess per image at shape (1, 3, 480, 640)\n"
          ]
        },
        {
          "output_type": "stream",
          "name": "stderr",
          "text": [
            "INFO:werkzeug:127.0.0.1 - - [08/Aug/2025 08:31:24] \"POST /detect/frame HTTP/1.1\" 200 -\n"
          ]
        },
        {
          "output_type": "stream",
          "name": "stdout",
          "text": [
            "\n",
            "0: 480x640 (no detections), 182.7ms\n",
            "Speed: 7.2ms preprocess, 182.7ms inference, 1.3ms postprocess per image at shape (1, 3, 480, 640)\n"
          ]
        },
        {
          "output_type": "stream",
          "name": "stderr",
          "text": [
            "INFO:werkzeug:127.0.0.1 - - [08/Aug/2025 08:32:31] \"POST /detect/frame HTTP/1.1\" 200 -\n"
          ]
        },
        {
          "output_type": "stream",
          "name": "stdout",
          "text": [
            "\n",
            "0: 480x640 1 person, 183.6ms\n",
            "Speed: 4.7ms preprocess, 183.6ms inference, 1.5ms postprocess per image at shape (1, 3, 480, 640)\n"
          ]
        },
        {
          "output_type": "stream",
          "name": "stderr",
          "text": [
            "INFO:werkzeug:127.0.0.1 - - [08/Aug/2025 08:32:32] \"POST /detect/frame HTTP/1.1\" 200 -\n"
          ]
        },
        {
          "output_type": "stream",
          "name": "stdout",
          "text": [
            "\n",
            "0: 480x640 1 person, 1 bicycle, 168.1ms\n",
            "Speed: 3.3ms preprocess, 168.1ms inference, 1.4ms postprocess per image at shape (1, 3, 480, 640)\n"
          ]
        },
        {
          "output_type": "stream",
          "name": "stderr",
          "text": [
            "INFO:werkzeug:127.0.0.1 - - [08/Aug/2025 08:32:34] \"POST /detect/frame HTTP/1.1\" 200 -\n"
          ]
        },
        {
          "output_type": "stream",
          "name": "stdout",
          "text": [
            "\n",
            "0: 480x640 1 person, 185.8ms\n",
            "Speed: 5.0ms preprocess, 185.8ms inference, 1.6ms postprocess per image at shape (1, 3, 480, 640)\n"
          ]
        },
        {
          "output_type": "stream",
          "name": "stderr",
          "text": [
            "INFO:werkzeug:127.0.0.1 - - [08/Aug/2025 08:32:35] \"POST /detect/frame HTTP/1.1\" 200 -\n"
          ]
        },
        {
          "output_type": "stream",
          "name": "stdout",
          "text": [
            "\n",
            "0: 480x640 1 person, 260.6ms\n",
            "Speed: 3.6ms preprocess, 260.6ms inference, 2.6ms postprocess per image at shape (1, 3, 480, 640)\n"
          ]
        },
        {
          "output_type": "stream",
          "name": "stderr",
          "text": [
            "INFO:werkzeug:127.0.0.1 - - [08/Aug/2025 08:32:37] \"POST /detect/frame HTTP/1.1\" 200 -\n"
          ]
        },
        {
          "output_type": "stream",
          "name": "stdout",
          "text": [
            "\n",
            "0: 480x640 1 person, 2 bicycles, 254.4ms\n",
            "Speed: 6.4ms preprocess, 254.4ms inference, 2.1ms postprocess per image at shape (1, 3, 480, 640)\n"
          ]
        },
        {
          "output_type": "stream",
          "name": "stderr",
          "text": [
            "INFO:werkzeug:127.0.0.1 - - [08/Aug/2025 08:32:38] \"POST /detect/frame HTTP/1.1\" 200 -\n"
          ]
        },
        {
          "output_type": "stream",
          "name": "stdout",
          "text": [
            "\n",
            "0: 480x640 1 person, 179.5ms\n",
            "Speed: 3.8ms preprocess, 179.5ms inference, 1.9ms postprocess per image at shape (1, 3, 480, 640)\n"
          ]
        },
        {
          "output_type": "stream",
          "name": "stderr",
          "text": [
            "INFO:werkzeug:127.0.0.1 - - [08/Aug/2025 08:32:39] \"POST /detect/frame HTTP/1.1\" 200 -\n"
          ]
        },
        {
          "output_type": "stream",
          "name": "stdout",
          "text": [
            "\n",
            "0: 480x640 2 persons, 176.7ms\n",
            "Speed: 3.7ms preprocess, 176.7ms inference, 1.7ms postprocess per image at shape (1, 3, 480, 640)\n"
          ]
        },
        {
          "output_type": "stream",
          "name": "stderr",
          "text": [
            "INFO:werkzeug:127.0.0.1 - - [08/Aug/2025 08:32:41] \"POST /detect/frame HTTP/1.1\" 200 -\n"
          ]
        },
        {
          "output_type": "stream",
          "name": "stdout",
          "text": [
            "\n",
            "0: 480x640 1 person, 209.9ms\n",
            "Speed: 4.0ms preprocess, 209.9ms inference, 2.2ms postprocess per image at shape (1, 3, 480, 640)\n"
          ]
        },
        {
          "output_type": "stream",
          "name": "stderr",
          "text": [
            "INFO:werkzeug:127.0.0.1 - - [08/Aug/2025 08:32:42] \"POST /detect/frame HTTP/1.1\" 200 -\n"
          ]
        },
        {
          "output_type": "stream",
          "name": "stdout",
          "text": [
            "\n",
            "0: 480x640 1 person, 156.0ms\n",
            "Speed: 3.2ms preprocess, 156.0ms inference, 1.9ms postprocess per image at shape (1, 3, 480, 640)\n"
          ]
        },
        {
          "output_type": "stream",
          "name": "stderr",
          "text": [
            "INFO:werkzeug:127.0.0.1 - - [08/Aug/2025 08:32:43] \"POST /detect/frame HTTP/1.1\" 200 -\n"
          ]
        },
        {
          "output_type": "stream",
          "name": "stdout",
          "text": [
            "\n",
            "0: 480x640 1 person, 189.7ms\n",
            "Speed: 5.4ms preprocess, 189.7ms inference, 1.9ms postprocess per image at shape (1, 3, 480, 640)\n"
          ]
        },
        {
          "output_type": "stream",
          "name": "stderr",
          "text": [
            "INFO:werkzeug:127.0.0.1 - - [08/Aug/2025 08:32:45] \"POST /detect/frame HTTP/1.1\" 200 -\n"
          ]
        },
        {
          "output_type": "stream",
          "name": "stdout",
          "text": [
            "\n",
            "0: 480x640 1 person, 198.2ms\n",
            "Speed: 3.3ms preprocess, 198.2ms inference, 1.5ms postprocess per image at shape (1, 3, 480, 640)\n"
          ]
        },
        {
          "output_type": "stream",
          "name": "stderr",
          "text": [
            "INFO:werkzeug:127.0.0.1 - - [08/Aug/2025 08:32:46] \"POST /detect/frame HTTP/1.1\" 200 -\n"
          ]
        },
        {
          "output_type": "stream",
          "name": "stdout",
          "text": [
            "\n",
            "0: 480x640 2 persons, 179.8ms\n",
            "Speed: 3.8ms preprocess, 179.8ms inference, 1.7ms postprocess per image at shape (1, 3, 480, 640)\n"
          ]
        },
        {
          "output_type": "stream",
          "name": "stderr",
          "text": [
            "INFO:werkzeug:127.0.0.1 - - [08/Aug/2025 08:32:47] \"POST /detect/frame HTTP/1.1\" 200 -\n"
          ]
        },
        {
          "output_type": "stream",
          "name": "stdout",
          "text": [
            "\n",
            "0: 480x640 2 persons, 260.7ms\n",
            "Speed: 3.9ms preprocess, 260.7ms inference, 1.8ms postprocess per image at shape (1, 3, 480, 640)\n"
          ]
        },
        {
          "output_type": "stream",
          "name": "stderr",
          "text": [
            "INFO:werkzeug:127.0.0.1 - - [08/Aug/2025 08:32:49] \"POST /detect/frame HTTP/1.1\" 200 -\n"
          ]
        },
        {
          "output_type": "stream",
          "name": "stdout",
          "text": [
            "\n",
            "0: 480x640 1 person, 313.8ms\n",
            "Speed: 6.0ms preprocess, 313.8ms inference, 2.2ms postprocess per image at shape (1, 3, 480, 640)\n"
          ]
        },
        {
          "output_type": "stream",
          "name": "stderr",
          "text": [
            "INFO:werkzeug:127.0.0.1 - - [08/Aug/2025 08:32:50] \"POST /detect/frame HTTP/1.1\" 200 -\n"
          ]
        },
        {
          "output_type": "stream",
          "name": "stdout",
          "text": [
            "\n",
            "0: 480x640 1 person, 280.7ms\n",
            "Speed: 3.3ms preprocess, 280.7ms inference, 1.8ms postprocess per image at shape (1, 3, 480, 640)\n"
          ]
        },
        {
          "output_type": "stream",
          "name": "stderr",
          "text": [
            "INFO:werkzeug:127.0.0.1 - - [08/Aug/2025 08:32:52] \"POST /detect/frame HTTP/1.1\" 200 -\n"
          ]
        },
        {
          "output_type": "stream",
          "name": "stdout",
          "text": [
            "\n",
            "0: 480x640 1 person, 261.8ms\n",
            "Speed: 3.1ms preprocess, 261.8ms inference, 2.2ms postprocess per image at shape (1, 3, 480, 640)\n"
          ]
        },
        {
          "output_type": "stream",
          "name": "stderr",
          "text": [
            "INFO:werkzeug:127.0.0.1 - - [08/Aug/2025 08:32:53] \"POST /detect/frame HTTP/1.1\" 200 -\n"
          ]
        },
        {
          "output_type": "stream",
          "name": "stdout",
          "text": [
            "\n",
            "0: 480x640 1 person, 177.5ms\n",
            "Speed: 3.8ms preprocess, 177.5ms inference, 1.8ms postprocess per image at shape (1, 3, 480, 640)\n"
          ]
        },
        {
          "output_type": "stream",
          "name": "stderr",
          "text": [
            "INFO:werkzeug:127.0.0.1 - - [08/Aug/2025 08:32:55] \"POST /detect/frame HTTP/1.1\" 200 -\n"
          ]
        },
        {
          "output_type": "stream",
          "name": "stdout",
          "text": [
            "\n",
            "0: 480x640 1 person, 184.0ms\n",
            "Speed: 3.3ms preprocess, 184.0ms inference, 2.1ms postprocess per image at shape (1, 3, 480, 640)\n"
          ]
        },
        {
          "output_type": "stream",
          "name": "stderr",
          "text": [
            "INFO:werkzeug:127.0.0.1 - - [08/Aug/2025 08:32:56] \"POST /detect/frame HTTP/1.1\" 200 -\n"
          ]
        },
        {
          "output_type": "stream",
          "name": "stdout",
          "text": [
            "\n",
            "0: 480x640 1 person, 164.3ms\n",
            "Speed: 3.0ms preprocess, 164.3ms inference, 1.6ms postprocess per image at shape (1, 3, 480, 640)\n"
          ]
        },
        {
          "output_type": "stream",
          "name": "stderr",
          "text": [
            "INFO:werkzeug:127.0.0.1 - - [08/Aug/2025 08:32:57] \"POST /detect/frame HTTP/1.1\" 200 -\n"
          ]
        },
        {
          "output_type": "stream",
          "name": "stdout",
          "text": [
            "\n",
            "0: 480x640 1 person, 1 bicycle, 159.3ms\n",
            "Speed: 3.0ms preprocess, 159.3ms inference, 1.5ms postprocess per image at shape (1, 3, 480, 640)\n"
          ]
        },
        {
          "output_type": "stream",
          "name": "stderr",
          "text": [
            "INFO:werkzeug:127.0.0.1 - - [08/Aug/2025 08:32:59] \"POST /detect/frame HTTP/1.1\" 200 -\n"
          ]
        },
        {
          "output_type": "stream",
          "name": "stdout",
          "text": [
            "\n",
            "0: 480x640 1 person, 1 bicycle, 186.6ms\n",
            "Speed: 3.1ms preprocess, 186.6ms inference, 1.4ms postprocess per image at shape (1, 3, 480, 640)\n"
          ]
        },
        {
          "output_type": "stream",
          "name": "stderr",
          "text": [
            "INFO:werkzeug:127.0.0.1 - - [08/Aug/2025 08:33:00] \"POST /detect/frame HTTP/1.1\" 200 -\n"
          ]
        },
        {
          "output_type": "stream",
          "name": "stdout",
          "text": [
            "\n",
            "0: 480x640 1 person, 1 bicycle, 161.5ms\n",
            "Speed: 5.3ms preprocess, 161.5ms inference, 1.5ms postprocess per image at shape (1, 3, 480, 640)\n"
          ]
        },
        {
          "output_type": "stream",
          "name": "stderr",
          "text": [
            "INFO:werkzeug:127.0.0.1 - - [08/Aug/2025 08:33:01] \"POST /detect/frame HTTP/1.1\" 200 -\n"
          ]
        },
        {
          "output_type": "stream",
          "name": "stdout",
          "text": [
            "\n",
            "0: 480x640 1 person, 1 bicycle, 163.0ms\n",
            "Speed: 2.8ms preprocess, 163.0ms inference, 1.3ms postprocess per image at shape (1, 3, 480, 640)\n"
          ]
        },
        {
          "output_type": "stream",
          "name": "stderr",
          "text": [
            "INFO:werkzeug:127.0.0.1 - - [08/Aug/2025 08:33:03] \"POST /detect/frame HTTP/1.1\" 200 -\n"
          ]
        },
        {
          "output_type": "stream",
          "name": "stdout",
          "text": [
            "\n",
            "0: 480x640 1 person, 1 bicycle, 285.7ms\n",
            "Speed: 4.7ms preprocess, 285.7ms inference, 2.0ms postprocess per image at shape (1, 3, 480, 640)\n"
          ]
        },
        {
          "output_type": "stream",
          "name": "stderr",
          "text": [
            "INFO:werkzeug:127.0.0.1 - - [08/Aug/2025 08:33:04] \"POST /detect/frame HTTP/1.1\" 200 -\n"
          ]
        },
        {
          "output_type": "stream",
          "name": "stdout",
          "text": [
            "\n",
            "0: 480x640 1 person, 1 bicycle, 251.9ms\n",
            "Speed: 2.8ms preprocess, 251.9ms inference, 1.8ms postprocess per image at shape (1, 3, 480, 640)\n"
          ]
        },
        {
          "output_type": "stream",
          "name": "stderr",
          "text": [
            "INFO:werkzeug:127.0.0.1 - - [08/Aug/2025 08:33:05] \"POST /detect/frame HTTP/1.1\" 200 -\n"
          ]
        },
        {
          "output_type": "stream",
          "name": "stdout",
          "text": [
            "\n",
            "0: 480x640 1 person, 167.5ms\n",
            "Speed: 3.3ms preprocess, 167.5ms inference, 1.4ms postprocess per image at shape (1, 3, 480, 640)\n"
          ]
        },
        {
          "output_type": "stream",
          "name": "stderr",
          "text": [
            "INFO:werkzeug:127.0.0.1 - - [08/Aug/2025 08:35:43] \"POST /detect/frame HTTP/1.1\" 200 -\n"
          ]
        },
        {
          "output_type": "stream",
          "name": "stdout",
          "text": [
            "\n",
            "0: 480x640 1 person, 160.0ms\n",
            "Speed: 4.6ms preprocess, 160.0ms inference, 1.7ms postprocess per image at shape (1, 3, 480, 640)\n"
          ]
        },
        {
          "output_type": "stream",
          "name": "stderr",
          "text": [
            "INFO:werkzeug:127.0.0.1 - - [08/Aug/2025 08:35:44] \"POST /detect/frame HTTP/1.1\" 200 -\n"
          ]
        },
        {
          "output_type": "stream",
          "name": "stdout",
          "text": [
            "\n",
            "0: 480x640 1 person, 166.7ms\n",
            "Speed: 2.9ms preprocess, 166.7ms inference, 1.9ms postprocess per image at shape (1, 3, 480, 640)\n"
          ]
        },
        {
          "output_type": "stream",
          "name": "stderr",
          "text": [
            "INFO:werkzeug:127.0.0.1 - - [08/Aug/2025 08:35:45] \"POST /detect/frame HTTP/1.1\" 200 -\n"
          ]
        },
        {
          "output_type": "stream",
          "name": "stdout",
          "text": [
            "\n",
            "0: 480x640 1 person, 174.9ms\n",
            "Speed: 4.5ms preprocess, 174.9ms inference, 1.9ms postprocess per image at shape (1, 3, 480, 640)\n"
          ]
        },
        {
          "output_type": "stream",
          "name": "stderr",
          "text": [
            "INFO:werkzeug:127.0.0.1 - - [08/Aug/2025 08:35:47] \"POST /detect/frame HTTP/1.1\" 200 -\n"
          ]
        },
        {
          "output_type": "stream",
          "name": "stdout",
          "text": [
            "\n",
            "0: 480x640 2 persons, 277.2ms\n",
            "Speed: 3.5ms preprocess, 277.2ms inference, 1.9ms postprocess per image at shape (1, 3, 480, 640)\n"
          ]
        },
        {
          "output_type": "stream",
          "name": "stderr",
          "text": [
            "INFO:werkzeug:127.0.0.1 - - [08/Aug/2025 08:35:48] \"POST /detect/frame HTTP/1.1\" 200 -\n"
          ]
        },
        {
          "output_type": "stream",
          "name": "stdout",
          "text": [
            "\n",
            "0: 480x640 1 person, 300.5ms\n",
            "Speed: 6.7ms preprocess, 300.5ms inference, 2.2ms postprocess per image at shape (1, 3, 480, 640)\n"
          ]
        },
        {
          "output_type": "stream",
          "name": "stderr",
          "text": [
            "INFO:werkzeug:127.0.0.1 - - [08/Aug/2025 08:35:50] \"POST /detect/frame HTTP/1.1\" 200 -\n"
          ]
        },
        {
          "output_type": "stream",
          "name": "stdout",
          "text": [
            "\n",
            "0: 480x640 1 person, 172.9ms\n",
            "Speed: 3.2ms preprocess, 172.9ms inference, 1.9ms postprocess per image at shape (1, 3, 480, 640)\n"
          ]
        },
        {
          "output_type": "stream",
          "name": "stderr",
          "text": [
            "INFO:werkzeug:127.0.0.1 - - [08/Aug/2025 08:35:51] \"POST /detect/frame HTTP/1.1\" 200 -\n"
          ]
        },
        {
          "output_type": "stream",
          "name": "stdout",
          "text": [
            "\n",
            "0: 480x640 1 person, 161.1ms\n",
            "Speed: 3.1ms preprocess, 161.1ms inference, 1.3ms postprocess per image at shape (1, 3, 480, 640)\n"
          ]
        },
        {
          "output_type": "stream",
          "name": "stderr",
          "text": [
            "INFO:werkzeug:127.0.0.1 - - [08/Aug/2025 08:35:52] \"POST /detect/frame HTTP/1.1\" 200 -\n"
          ]
        },
        {
          "output_type": "stream",
          "name": "stdout",
          "text": [
            "\n",
            "0: 480x640 1 person, 184.5ms\n",
            "Speed: 3.7ms preprocess, 184.5ms inference, 1.6ms postprocess per image at shape (1, 3, 480, 640)\n"
          ]
        },
        {
          "output_type": "stream",
          "name": "stderr",
          "text": [
            "INFO:werkzeug:127.0.0.1 - - [08/Aug/2025 08:35:54] \"POST /detect/frame HTTP/1.1\" 200 -\n"
          ]
        },
        {
          "output_type": "stream",
          "name": "stdout",
          "text": [
            "\n",
            "0: 480x640 1 person, 179.5ms\n",
            "Speed: 3.6ms preprocess, 179.5ms inference, 1.5ms postprocess per image at shape (1, 3, 480, 640)\n"
          ]
        },
        {
          "output_type": "stream",
          "name": "stderr",
          "text": [
            "INFO:werkzeug:127.0.0.1 - - [08/Aug/2025 08:35:55] \"POST /detect/frame HTTP/1.1\" 200 -\n"
          ]
        },
        {
          "output_type": "stream",
          "name": "stdout",
          "text": [
            "\n",
            "0: 480x640 1 person, 165.1ms\n",
            "Speed: 3.1ms preprocess, 165.1ms inference, 1.4ms postprocess per image at shape (1, 3, 480, 640)\n"
          ]
        },
        {
          "output_type": "stream",
          "name": "stderr",
          "text": [
            "INFO:werkzeug:127.0.0.1 - - [08/Aug/2025 08:35:56] \"POST /detect/frame HTTP/1.1\" 200 -\n"
          ]
        },
        {
          "output_type": "stream",
          "name": "stdout",
          "text": [
            "\n",
            "0: 480x640 1 person, 1 bicycle, 160.4ms\n",
            "Speed: 3.6ms preprocess, 160.4ms inference, 1.3ms postprocess per image at shape (1, 3, 480, 640)\n"
          ]
        },
        {
          "output_type": "stream",
          "name": "stderr",
          "text": [
            "INFO:werkzeug:127.0.0.1 - - [08/Aug/2025 08:35:58] \"POST /detect/frame HTTP/1.1\" 200 -\n"
          ]
        },
        {
          "output_type": "stream",
          "name": "stdout",
          "text": [
            "\n",
            "0: 480x640 1 person, 1 bicycle, 182.0ms\n",
            "Speed: 3.1ms preprocess, 182.0ms inference, 1.5ms postprocess per image at shape (1, 3, 480, 640)\n"
          ]
        },
        {
          "output_type": "stream",
          "name": "stderr",
          "text": [
            "INFO:werkzeug:127.0.0.1 - - [08/Aug/2025 08:35:59] \"POST /detect/frame HTTP/1.1\" 200 -\n"
          ]
        },
        {
          "output_type": "stream",
          "name": "stdout",
          "text": [
            "\n",
            "0: 480x640 1 person, 1 bicycle, 179.4ms\n",
            "Speed: 3.6ms preprocess, 179.4ms inference, 1.6ms postprocess per image at shape (1, 3, 480, 640)\n"
          ]
        },
        {
          "output_type": "stream",
          "name": "stderr",
          "text": [
            "INFO:werkzeug:127.0.0.1 - - [08/Aug/2025 08:36:00] \"POST /detect/frame HTTP/1.1\" 200 -\n"
          ]
        },
        {
          "output_type": "stream",
          "name": "stdout",
          "text": [
            "\n",
            "0: 480x640 1 person, 1 bicycle, 306.5ms\n",
            "Speed: 7.9ms preprocess, 306.5ms inference, 2.8ms postprocess per image at shape (1, 3, 480, 640)\n"
          ]
        },
        {
          "output_type": "stream",
          "name": "stderr",
          "text": [
            "INFO:werkzeug:127.0.0.1 - - [08/Aug/2025 08:36:02] \"POST /detect/frame HTTP/1.1\" 200 -\n"
          ]
        },
        {
          "output_type": "stream",
          "name": "stdout",
          "text": [
            "\n",
            "0: 480x640 1 person, 1 bicycle, 261.3ms\n",
            "Speed: 6.7ms preprocess, 261.3ms inference, 1.9ms postprocess per image at shape (1, 3, 480, 640)\n"
          ]
        },
        {
          "output_type": "stream",
          "name": "stderr",
          "text": [
            "INFO:werkzeug:127.0.0.1 - - [08/Aug/2025 08:36:03] \"POST /detect/frame HTTP/1.1\" 200 -\n"
          ]
        },
        {
          "output_type": "stream",
          "name": "stdout",
          "text": [
            "\n",
            "0: 480x640 1 person, 1 bicycle, 161.7ms\n",
            "Speed: 4.9ms preprocess, 161.7ms inference, 1.3ms postprocess per image at shape (1, 3, 480, 640)\n"
          ]
        },
        {
          "output_type": "stream",
          "name": "stderr",
          "text": [
            "INFO:werkzeug:127.0.0.1 - - [08/Aug/2025 08:36:05] \"POST /detect/frame HTTP/1.1\" 200 -\n"
          ]
        },
        {
          "output_type": "stream",
          "name": "stdout",
          "text": [
            "\n",
            "0: 480x640 1 person, 1 bicycle, 177.5ms\n",
            "Speed: 3.0ms preprocess, 177.5ms inference, 1.4ms postprocess per image at shape (1, 3, 480, 640)\n"
          ]
        },
        {
          "output_type": "stream",
          "name": "stderr",
          "text": [
            "INFO:werkzeug:127.0.0.1 - - [08/Aug/2025 08:36:06] \"POST /detect/frame HTTP/1.1\" 200 -\n"
          ]
        },
        {
          "output_type": "stream",
          "name": "stdout",
          "text": [
            "\n",
            "0: 480x640 1 person, 1 bicycle, 172.1ms\n",
            "Speed: 3.8ms preprocess, 172.1ms inference, 1.9ms postprocess per image at shape (1, 3, 480, 640)\n"
          ]
        },
        {
          "output_type": "stream",
          "name": "stderr",
          "text": [
            "INFO:werkzeug:127.0.0.1 - - [08/Aug/2025 08:36:07] \"POST /detect/frame HTTP/1.1\" 200 -\n"
          ]
        },
        {
          "output_type": "stream",
          "name": "stdout",
          "text": [
            "\n",
            "0: 480x640 1 person, 1 bicycle, 179.1ms\n",
            "Speed: 5.3ms preprocess, 179.1ms inference, 1.8ms postprocess per image at shape (1, 3, 480, 640)\n"
          ]
        },
        {
          "output_type": "stream",
          "name": "stderr",
          "text": [
            "INFO:werkzeug:127.0.0.1 - - [08/Aug/2025 08:36:09] \"POST /detect/frame HTTP/1.1\" 200 -\n"
          ]
        },
        {
          "output_type": "stream",
          "name": "stdout",
          "text": [
            "\n",
            "0: 480x640 (no detections), 171.7ms\n",
            "Speed: 4.7ms preprocess, 171.7ms inference, 1.1ms postprocess per image at shape (1, 3, 480, 640)\n"
          ]
        },
        {
          "output_type": "stream",
          "name": "stderr",
          "text": [
            "INFO:werkzeug:127.0.0.1 - - [08/Aug/2025 08:39:08] \"POST /detect/frame HTTP/1.1\" 200 -\n"
          ]
        },
        {
          "output_type": "stream",
          "name": "stdout",
          "text": [
            "\n",
            "0: 480x640 1 person, 168.0ms\n",
            "Speed: 3.1ms preprocess, 168.0ms inference, 1.5ms postprocess per image at shape (1, 3, 480, 640)\n"
          ]
        },
        {
          "output_type": "stream",
          "name": "stderr",
          "text": [
            "INFO:werkzeug:127.0.0.1 - - [08/Aug/2025 08:39:09] \"POST /detect/frame HTTP/1.1\" 200 -\n"
          ]
        },
        {
          "output_type": "stream",
          "name": "stdout",
          "text": [
            "\n",
            "0: 480x640 2 persons, 175.5ms\n",
            "Speed: 3.0ms preprocess, 175.5ms inference, 1.4ms postprocess per image at shape (1, 3, 480, 640)\n"
          ]
        },
        {
          "output_type": "stream",
          "name": "stderr",
          "text": [
            "INFO:werkzeug:127.0.0.1 - - [08/Aug/2025 08:39:10] \"POST /detect/frame HTTP/1.1\" 200 -\n"
          ]
        },
        {
          "output_type": "stream",
          "name": "stdout",
          "text": [
            "\n",
            "0: 480x640 1 person, 212.6ms\n",
            "Speed: 3.6ms preprocess, 212.6ms inference, 2.7ms postprocess per image at shape (1, 3, 480, 640)\n"
          ]
        },
        {
          "output_type": "stream",
          "name": "stderr",
          "text": [
            "INFO:werkzeug:127.0.0.1 - - [08/Aug/2025 08:39:11] \"POST /detect/frame HTTP/1.1\" 200 -\n"
          ]
        },
        {
          "output_type": "stream",
          "name": "stdout",
          "text": [
            "\n",
            "0: 480x640 1 person, 256.5ms\n",
            "Speed: 3.3ms preprocess, 256.5ms inference, 1.8ms postprocess per image at shape (1, 3, 480, 640)\n"
          ]
        },
        {
          "output_type": "stream",
          "name": "stderr",
          "text": [
            "INFO:werkzeug:127.0.0.1 - - [08/Aug/2025 08:39:13] \"POST /detect/frame HTTP/1.1\" 200 -\n"
          ]
        },
        {
          "output_type": "stream",
          "name": "stdout",
          "text": [
            "\n",
            "0: 480x640 1 person, 256.3ms\n",
            "Speed: 3.0ms preprocess, 256.3ms inference, 2.4ms postprocess per image at shape (1, 3, 480, 640)\n"
          ]
        },
        {
          "output_type": "stream",
          "name": "stderr",
          "text": [
            "INFO:werkzeug:127.0.0.1 - - [08/Aug/2025 08:39:14] \"POST /detect/frame HTTP/1.1\" 200 -\n"
          ]
        },
        {
          "output_type": "stream",
          "name": "stdout",
          "text": [
            "\n",
            "0: 480x640 1 person, 205.0ms\n",
            "Speed: 4.8ms preprocess, 205.0ms inference, 2.0ms postprocess per image at shape (1, 3, 480, 640)\n"
          ]
        },
        {
          "output_type": "stream",
          "name": "stderr",
          "text": [
            "INFO:werkzeug:127.0.0.1 - - [08/Aug/2025 08:39:16] \"POST /detect/frame HTTP/1.1\" 200 -\n"
          ]
        },
        {
          "output_type": "stream",
          "name": "stdout",
          "text": [
            "\n",
            "0: 480x640 1 person, 169.0ms\n",
            "Speed: 3.2ms preprocess, 169.0ms inference, 1.5ms postprocess per image at shape (1, 3, 480, 640)\n"
          ]
        },
        {
          "output_type": "stream",
          "name": "stderr",
          "text": [
            "INFO:werkzeug:127.0.0.1 - - [08/Aug/2025 08:39:17] \"POST /detect/frame HTTP/1.1\" 200 -\n"
          ]
        },
        {
          "output_type": "stream",
          "name": "stdout",
          "text": [
            "\n",
            "0: 480x640 1 person, 179.4ms\n",
            "Speed: 4.8ms preprocess, 179.4ms inference, 1.9ms postprocess per image at shape (1, 3, 480, 640)\n"
          ]
        },
        {
          "output_type": "stream",
          "name": "stderr",
          "text": [
            "INFO:werkzeug:127.0.0.1 - - [08/Aug/2025 08:39:18] \"POST /detect/frame HTTP/1.1\" 200 -\n"
          ]
        },
        {
          "output_type": "stream",
          "name": "stdout",
          "text": [
            "\n",
            "0: 480x640 1 person, 170.6ms\n",
            "Speed: 3.3ms preprocess, 170.6ms inference, 1.6ms postprocess per image at shape (1, 3, 480, 640)\n"
          ]
        },
        {
          "output_type": "stream",
          "name": "stderr",
          "text": [
            "INFO:werkzeug:127.0.0.1 - - [08/Aug/2025 08:39:20] \"POST /detect/frame HTTP/1.1\" 200 -\n"
          ]
        },
        {
          "output_type": "stream",
          "name": "stdout",
          "text": [
            "\n",
            "0: 480x640 1 person, 175.0ms\n",
            "Speed: 3.1ms preprocess, 175.0ms inference, 1.6ms postprocess per image at shape (1, 3, 480, 640)\n"
          ]
        },
        {
          "output_type": "stream",
          "name": "stderr",
          "text": [
            "INFO:werkzeug:127.0.0.1 - - [08/Aug/2025 08:39:21] \"POST /detect/frame HTTP/1.1\" 200 -\n"
          ]
        },
        {
          "output_type": "stream",
          "name": "stdout",
          "text": [
            "\n",
            "0: 480x640 1 person, 179.4ms\n",
            "Speed: 4.1ms preprocess, 179.4ms inference, 1.9ms postprocess per image at shape (1, 3, 480, 640)\n"
          ]
        },
        {
          "output_type": "stream",
          "name": "stderr",
          "text": [
            "INFO:werkzeug:127.0.0.1 - - [08/Aug/2025 08:39:22] \"POST /detect/frame HTTP/1.1\" 200 -\n"
          ]
        },
        {
          "output_type": "stream",
          "name": "stdout",
          "text": [
            "\n",
            "0: 480x640 1 person, 174.5ms\n",
            "Speed: 3.8ms preprocess, 174.5ms inference, 1.6ms postprocess per image at shape (1, 3, 480, 640)\n"
          ]
        },
        {
          "output_type": "stream",
          "name": "stderr",
          "text": [
            "INFO:werkzeug:127.0.0.1 - - [08/Aug/2025 08:39:24] \"POST /detect/frame HTTP/1.1\" 200 -\n"
          ]
        },
        {
          "output_type": "stream",
          "name": "stdout",
          "text": [
            "\n",
            "0: 480x640 1 person, 280.2ms\n",
            "Speed: 3.2ms preprocess, 280.2ms inference, 3.0ms postprocess per image at shape (1, 3, 480, 640)\n"
          ]
        },
        {
          "output_type": "stream",
          "name": "stderr",
          "text": [
            "INFO:werkzeug:127.0.0.1 - - [08/Aug/2025 08:39:25] \"POST /detect/frame HTTP/1.1\" 200 -\n"
          ]
        },
        {
          "output_type": "stream",
          "name": "stdout",
          "text": [
            "\n",
            "0: 480x640 1 person, 270.1ms\n",
            "Speed: 5.5ms preprocess, 270.1ms inference, 2.1ms postprocess per image at shape (1, 3, 480, 640)\n"
          ]
        },
        {
          "output_type": "stream",
          "name": "stderr",
          "text": [
            "INFO:werkzeug:127.0.0.1 - - [08/Aug/2025 08:39:27] \"POST /detect/frame HTTP/1.1\" 200 -\n"
          ]
        },
        {
          "output_type": "stream",
          "name": "stdout",
          "text": [
            "\n",
            "0: 480x640 1 person, 179.9ms\n",
            "Speed: 3.6ms preprocess, 179.9ms inference, 1.8ms postprocess per image at shape (1, 3, 480, 640)\n"
          ]
        },
        {
          "output_type": "stream",
          "name": "stderr",
          "text": [
            "INFO:werkzeug:127.0.0.1 - - [08/Aug/2025 08:39:28] \"POST /detect/frame HTTP/1.1\" 200 -\n"
          ]
        },
        {
          "output_type": "stream",
          "name": "stdout",
          "text": [
            "\n",
            "0: 480x640 1 person, 176.0ms\n",
            "Speed: 3.1ms preprocess, 176.0ms inference, 1.3ms postprocess per image at shape (1, 3, 480, 640)\n"
          ]
        },
        {
          "output_type": "stream",
          "name": "stderr",
          "text": [
            "INFO:werkzeug:127.0.0.1 - - [08/Aug/2025 08:39:29] \"POST /detect/frame HTTP/1.1\" 200 -\n"
          ]
        },
        {
          "output_type": "stream",
          "name": "stdout",
          "text": [
            "\n",
            "0: 480x640 1 person, 161.1ms\n",
            "Speed: 3.4ms preprocess, 161.1ms inference, 1.5ms postprocess per image at shape (1, 3, 480, 640)\n"
          ]
        },
        {
          "output_type": "stream",
          "name": "stderr",
          "text": [
            "INFO:werkzeug:127.0.0.1 - - [08/Aug/2025 08:39:31] \"POST /detect/frame HTTP/1.1\" 200 -\n"
          ]
        },
        {
          "output_type": "stream",
          "name": "stdout",
          "text": [
            "\n",
            "0: 480x640 1 person, 195.3ms\n",
            "Speed: 4.0ms preprocess, 195.3ms inference, 1.9ms postprocess per image at shape (1, 3, 480, 640)\n"
          ]
        },
        {
          "output_type": "stream",
          "name": "stderr",
          "text": [
            "INFO:werkzeug:127.0.0.1 - - [08/Aug/2025 08:41:00] \"POST /detect/frame HTTP/1.1\" 200 -\n"
          ]
        },
        {
          "output_type": "stream",
          "name": "stdout",
          "text": [
            "\n",
            "0: 480x640 1 person, 1 bicycle, 202.1ms\n",
            "Speed: 4.0ms preprocess, 202.1ms inference, 1.7ms postprocess per image at shape (1, 3, 480, 640)\n"
          ]
        },
        {
          "output_type": "stream",
          "name": "stderr",
          "text": [
            "INFO:werkzeug:127.0.0.1 - - [08/Aug/2025 08:41:01] \"POST /detect/frame HTTP/1.1\" 200 -\n"
          ]
        },
        {
          "output_type": "stream",
          "name": "stdout",
          "text": [
            "\n",
            "0: 480x640 1 person, 1 bicycle, 187.9ms\n",
            "Speed: 3.6ms preprocess, 187.9ms inference, 2.0ms postprocess per image at shape (1, 3, 480, 640)\n"
          ]
        },
        {
          "output_type": "stream",
          "name": "stderr",
          "text": [
            "INFO:werkzeug:127.0.0.1 - - [08/Aug/2025 08:41:03] \"POST /detect/frame HTTP/1.1\" 200 -\n"
          ]
        },
        {
          "output_type": "stream",
          "name": "stdout",
          "text": [
            "\n",
            "0: 480x640 1 person, 1 bicycle, 183.0ms\n",
            "Speed: 3.5ms preprocess, 183.0ms inference, 1.6ms postprocess per image at shape (1, 3, 480, 640)\n"
          ]
        },
        {
          "output_type": "stream",
          "name": "stderr",
          "text": [
            "INFO:werkzeug:127.0.0.1 - - [08/Aug/2025 08:41:05] \"POST /detect/frame HTTP/1.1\" 200 -\n"
          ]
        },
        {
          "output_type": "stream",
          "name": "stdout",
          "text": [
            "\n",
            "0: 480x640 1 person, 1 bicycle, 167.2ms\n",
            "Speed: 3.5ms preprocess, 167.2ms inference, 1.5ms postprocess per image at shape (1, 3, 480, 640)\n"
          ]
        },
        {
          "output_type": "stream",
          "name": "stderr",
          "text": [
            "INFO:werkzeug:127.0.0.1 - - [08/Aug/2025 08:41:06] \"POST /detect/frame HTTP/1.1\" 200 -\n"
          ]
        },
        {
          "output_type": "stream",
          "name": "stdout",
          "text": [
            "\n",
            "0: 480x640 1 person, 1 bicycle, 282.0ms\n",
            "Speed: 5.8ms preprocess, 282.0ms inference, 2.7ms postprocess per image at shape (1, 3, 480, 640)\n"
          ]
        },
        {
          "output_type": "stream",
          "name": "stderr",
          "text": [
            "INFO:werkzeug:127.0.0.1 - - [08/Aug/2025 08:41:07] \"POST /detect/frame HTTP/1.1\" 200 -\n"
          ]
        },
        {
          "output_type": "stream",
          "name": "stdout",
          "text": [
            "\n",
            "0: 480x640 1 person, 1 bicycle, 287.4ms\n",
            "Speed: 5.1ms preprocess, 287.4ms inference, 2.5ms postprocess per image at shape (1, 3, 480, 640)\n"
          ]
        },
        {
          "output_type": "stream",
          "name": "stderr",
          "text": [
            "INFO:werkzeug:127.0.0.1 - - [08/Aug/2025 08:41:09] \"POST /detect/frame HTTP/1.1\" 200 -\n"
          ]
        },
        {
          "output_type": "stream",
          "name": "stdout",
          "text": [
            "\n",
            "0: 480x640 1 person, 1 bicycle, 182.2ms\n",
            "Speed: 4.1ms preprocess, 182.2ms inference, 1.8ms postprocess per image at shape (1, 3, 480, 640)\n"
          ]
        },
        {
          "output_type": "stream",
          "name": "stderr",
          "text": [
            "INFO:werkzeug:127.0.0.1 - - [08/Aug/2025 08:41:10] \"POST /detect/frame HTTP/1.1\" 200 -\n"
          ]
        },
        {
          "output_type": "stream",
          "name": "stdout",
          "text": [
            "\n",
            "0: 480x640 1 person, 1 bicycle, 173.1ms\n",
            "Speed: 3.3ms preprocess, 173.1ms inference, 1.7ms postprocess per image at shape (1, 3, 480, 640)\n"
          ]
        },
        {
          "output_type": "stream",
          "name": "stderr",
          "text": [
            "INFO:werkzeug:127.0.0.1 - - [08/Aug/2025 08:41:11] \"POST /detect/frame HTTP/1.1\" 200 -\n"
          ]
        },
        {
          "output_type": "stream",
          "name": "stdout",
          "text": [
            "\n",
            "0: 480x640 1 person, 1 bicycle, 190.0ms\n",
            "Speed: 3.8ms preprocess, 190.0ms inference, 1.9ms postprocess per image at shape (1, 3, 480, 640)\n"
          ]
        },
        {
          "output_type": "stream",
          "name": "stderr",
          "text": [
            "INFO:werkzeug:127.0.0.1 - - [08/Aug/2025 08:41:13] \"POST /detect/frame HTTP/1.1\" 200 -\n"
          ]
        },
        {
          "output_type": "stream",
          "name": "stdout",
          "text": [
            "\n",
            "0: 480x640 1 person, 1 bicycle, 169.5ms\n",
            "Speed: 3.1ms preprocess, 169.5ms inference, 1.5ms postprocess per image at shape (1, 3, 480, 640)\n"
          ]
        },
        {
          "output_type": "stream",
          "name": "stderr",
          "text": [
            "INFO:werkzeug:127.0.0.1 - - [08/Aug/2025 08:41:14] \"POST /detect/frame HTTP/1.1\" 200 -\n"
          ]
        },
        {
          "output_type": "stream",
          "name": "stdout",
          "text": [
            "\n",
            "0: 480x640 (no detections), 279.1ms\n",
            "Speed: 3.6ms preprocess, 279.1ms inference, 1.4ms postprocess per image at shape (1, 3, 480, 640)\n"
          ]
        },
        {
          "output_type": "stream",
          "name": "stderr",
          "text": [
            "INFO:werkzeug:127.0.0.1 - - [08/Aug/2025 08:43:02] \"POST /detect/frame HTTP/1.1\" 200 -\n"
          ]
        },
        {
          "output_type": "stream",
          "name": "stdout",
          "text": [
            "\n",
            "0: 480x640 2 persons, 259.3ms\n",
            "Speed: 3.0ms preprocess, 259.3ms inference, 1.8ms postprocess per image at shape (1, 3, 480, 640)\n"
          ]
        },
        {
          "output_type": "stream",
          "name": "stderr",
          "text": [
            "INFO:werkzeug:127.0.0.1 - - [08/Aug/2025 08:43:03] \"POST /detect/frame HTTP/1.1\" 200 -\n"
          ]
        },
        {
          "output_type": "stream",
          "name": "stdout",
          "text": [
            "\n",
            "0: 480x640 2 persons, 157.4ms\n",
            "Speed: 3.0ms preprocess, 157.4ms inference, 1.5ms postprocess per image at shape (1, 3, 480, 640)\n"
          ]
        },
        {
          "output_type": "stream",
          "name": "stderr",
          "text": [
            "INFO:werkzeug:127.0.0.1 - - [08/Aug/2025 08:43:04] \"POST /detect/frame HTTP/1.1\" 200 -\n"
          ]
        },
        {
          "output_type": "stream",
          "name": "stdout",
          "text": [
            "\n",
            "0: 480x640 1 person, 200.0ms\n",
            "Speed: 3.9ms preprocess, 200.0ms inference, 1.9ms postprocess per image at shape (1, 3, 480, 640)\n"
          ]
        },
        {
          "output_type": "stream",
          "name": "stderr",
          "text": [
            "INFO:werkzeug:127.0.0.1 - - [08/Aug/2025 08:43:06] \"POST /detect/frame HTTP/1.1\" 200 -\n"
          ]
        },
        {
          "output_type": "stream",
          "name": "stdout",
          "text": [
            "\n",
            "0: 480x640 1 person, 187.7ms\n",
            "Speed: 5.0ms preprocess, 187.7ms inference, 1.8ms postprocess per image at shape (1, 3, 480, 640)\n"
          ]
        },
        {
          "output_type": "stream",
          "name": "stderr",
          "text": [
            "INFO:werkzeug:127.0.0.1 - - [08/Aug/2025 08:43:07] \"POST /detect/frame HTTP/1.1\" 200 -\n"
          ]
        },
        {
          "output_type": "stream",
          "name": "stdout",
          "text": [
            "\n",
            "0: 480x640 1 person, 178.4ms\n",
            "Speed: 3.0ms preprocess, 178.4ms inference, 1.8ms postprocess per image at shape (1, 3, 480, 640)\n"
          ]
        },
        {
          "output_type": "stream",
          "name": "stderr",
          "text": [
            "INFO:werkzeug:127.0.0.1 - - [08/Aug/2025 08:43:08] \"POST /detect/frame HTTP/1.1\" 200 -\n"
          ]
        },
        {
          "output_type": "stream",
          "name": "stdout",
          "text": [
            "\n",
            "0: 480x640 1 person, 180.7ms\n",
            "Speed: 3.6ms preprocess, 180.7ms inference, 1.9ms postprocess per image at shape (1, 3, 480, 640)\n"
          ]
        },
        {
          "output_type": "stream",
          "name": "stderr",
          "text": [
            "INFO:werkzeug:127.0.0.1 - - [08/Aug/2025 08:43:10] \"POST /detect/frame HTTP/1.1\" 200 -\n"
          ]
        },
        {
          "output_type": "stream",
          "name": "stdout",
          "text": [
            "\n",
            "0: 480x640 1 person, 189.9ms\n",
            "Speed: 3.5ms preprocess, 189.9ms inference, 1.8ms postprocess per image at shape (1, 3, 480, 640)\n"
          ]
        },
        {
          "output_type": "stream",
          "name": "stderr",
          "text": [
            "INFO:werkzeug:127.0.0.1 - - [08/Aug/2025 08:43:11] \"POST /detect/frame HTTP/1.1\" 200 -\n"
          ]
        },
        {
          "output_type": "stream",
          "name": "stdout",
          "text": [
            "\n",
            "0: 480x640 1 person, 161.9ms\n",
            "Speed: 4.1ms preprocess, 161.9ms inference, 1.3ms postprocess per image at shape (1, 3, 480, 640)\n"
          ]
        },
        {
          "output_type": "stream",
          "name": "stderr",
          "text": [
            "INFO:werkzeug:127.0.0.1 - - [08/Aug/2025 08:43:12] \"POST /detect/frame HTTP/1.1\" 200 -\n"
          ]
        },
        {
          "output_type": "stream",
          "name": "stdout",
          "text": [
            "\n",
            "0: 480x640 1 person, 187.8ms\n",
            "Speed: 3.8ms preprocess, 187.8ms inference, 2.6ms postprocess per image at shape (1, 3, 480, 640)\n"
          ]
        },
        {
          "output_type": "stream",
          "name": "stderr",
          "text": [
            "INFO:werkzeug:127.0.0.1 - - [08/Aug/2025 08:43:14] \"POST /detect/frame HTTP/1.1\" 200 -\n"
          ]
        },
        {
          "output_type": "stream",
          "name": "stdout",
          "text": [
            "\n",
            "0: 480x640 1 person, 258.3ms\n",
            "Speed: 3.3ms preprocess, 258.3ms inference, 1.9ms postprocess per image at shape (1, 3, 480, 640)\n"
          ]
        },
        {
          "output_type": "stream",
          "name": "stderr",
          "text": [
            "INFO:werkzeug:127.0.0.1 - - [08/Aug/2025 08:43:15] \"POST /detect/frame HTTP/1.1\" 200 -\n"
          ]
        },
        {
          "output_type": "stream",
          "name": "stdout",
          "text": [
            "\n",
            "0: 480x640 1 person, 249.8ms\n",
            "Speed: 3.8ms preprocess, 249.8ms inference, 2.3ms postprocess per image at shape (1, 3, 480, 640)\n"
          ]
        },
        {
          "output_type": "stream",
          "name": "stderr",
          "text": [
            "INFO:werkzeug:127.0.0.1 - - [08/Aug/2025 08:43:17] \"POST /detect/frame HTTP/1.1\" 200 -\n"
          ]
        },
        {
          "output_type": "stream",
          "name": "stdout",
          "text": [
            "\n",
            "0: 480x640 1 person, 191.2ms\n",
            "Speed: 3.8ms preprocess, 191.2ms inference, 1.8ms postprocess per image at shape (1, 3, 480, 640)\n"
          ]
        },
        {
          "output_type": "stream",
          "name": "stderr",
          "text": [
            "INFO:werkzeug:127.0.0.1 - - [08/Aug/2025 08:43:18] \"POST /detect/frame HTTP/1.1\" 200 -\n"
          ]
        },
        {
          "output_type": "stream",
          "name": "stdout",
          "text": [
            "\n",
            "0: 480x640 1 person, 182.7ms\n",
            "Speed: 5.1ms preprocess, 182.7ms inference, 1.4ms postprocess per image at shape (1, 3, 480, 640)\n"
          ]
        },
        {
          "output_type": "stream",
          "name": "stderr",
          "text": [
            "INFO:werkzeug:127.0.0.1 - - [08/Aug/2025 08:43:19] \"POST /detect/frame HTTP/1.1\" 200 -\n"
          ]
        },
        {
          "output_type": "stream",
          "name": "stdout",
          "text": [
            "\n",
            "0: 480x640 1 person, 1 bicycle, 173.2ms\n",
            "Speed: 3.8ms preprocess, 173.2ms inference, 1.4ms postprocess per image at shape (1, 3, 480, 640)\n"
          ]
        },
        {
          "output_type": "stream",
          "name": "stderr",
          "text": [
            "INFO:werkzeug:127.0.0.1 - - [08/Aug/2025 08:43:21] \"POST /detect/frame HTTP/1.1\" 200 -\n"
          ]
        },
        {
          "output_type": "stream",
          "name": "stdout",
          "text": [
            "\n",
            "0: 480x640 1 person, 1 bicycle, 168.2ms\n",
            "Speed: 3.2ms preprocess, 168.2ms inference, 1.5ms postprocess per image at shape (1, 3, 480, 640)\n"
          ]
        },
        {
          "output_type": "stream",
          "name": "stderr",
          "text": [
            "INFO:werkzeug:127.0.0.1 - - [08/Aug/2025 08:43:22] \"POST /detect/frame HTTP/1.1\" 200 -\n"
          ]
        },
        {
          "output_type": "stream",
          "name": "stdout",
          "text": [
            "\n",
            "0: 480x640 1 person, 1 bicycle, 174.8ms\n",
            "Speed: 5.8ms preprocess, 174.8ms inference, 1.8ms postprocess per image at shape (1, 3, 480, 640)\n"
          ]
        },
        {
          "output_type": "stream",
          "name": "stderr",
          "text": [
            "INFO:werkzeug:127.0.0.1 - - [08/Aug/2025 08:43:23] \"POST /detect/frame HTTP/1.1\" 200 -\n"
          ]
        },
        {
          "output_type": "stream",
          "name": "stdout",
          "text": [
            "\n",
            "0: 480x640 1 person, 1 bicycle, 182.1ms\n",
            "Speed: 3.5ms preprocess, 182.1ms inference, 1.5ms postprocess per image at shape (1, 3, 480, 640)\n"
          ]
        },
        {
          "output_type": "stream",
          "name": "stderr",
          "text": [
            "INFO:werkzeug:127.0.0.1 - - [08/Aug/2025 08:43:25] \"POST /detect/frame HTTP/1.1\" 200 -\n"
          ]
        },
        {
          "output_type": "stream",
          "name": "stdout",
          "text": [
            "\n",
            "0: 480x640 1 person, 1 bicycle, 182.8ms\n",
            "Speed: 3.7ms preprocess, 182.8ms inference, 1.8ms postprocess per image at shape (1, 3, 480, 640)\n"
          ]
        },
        {
          "output_type": "stream",
          "name": "stderr",
          "text": [
            "INFO:werkzeug:127.0.0.1 - - [08/Aug/2025 08:43:26] \"POST /detect/frame HTTP/1.1\" 200 -\n"
          ]
        },
        {
          "output_type": "stream",
          "name": "stdout",
          "text": [
            "\n",
            "0: 480x640 1 person, 1 bicycle, 248.8ms\n",
            "Speed: 3.0ms preprocess, 248.8ms inference, 1.7ms postprocess per image at shape (1, 3, 480, 640)\n"
          ]
        },
        {
          "output_type": "stream",
          "name": "stderr",
          "text": [
            "INFO:werkzeug:127.0.0.1 - - [08/Aug/2025 08:43:27] \"POST /detect/frame HTTP/1.1\" 200 -\n"
          ]
        },
        {
          "output_type": "stream",
          "name": "stdout",
          "text": [
            "\n",
            "0: 480x640 1 person, 1 bicycle, 269.9ms\n",
            "Speed: 4.8ms preprocess, 269.9ms inference, 2.2ms postprocess per image at shape (1, 3, 480, 640)\n"
          ]
        },
        {
          "output_type": "stream",
          "name": "stderr",
          "text": [
            "INFO:werkzeug:127.0.0.1 - - [08/Aug/2025 08:43:29] \"POST /detect/frame HTTP/1.1\" 200 -\n"
          ]
        },
        {
          "output_type": "stream",
          "name": "stdout",
          "text": [
            "\n",
            "0: 480x640 1 person, 1 bicycle, 164.3ms\n",
            "Speed: 3.3ms preprocess, 164.3ms inference, 1.6ms postprocess per image at shape (1, 3, 480, 640)\n"
          ]
        },
        {
          "output_type": "stream",
          "name": "stderr",
          "text": [
            "INFO:werkzeug:127.0.0.1 - - [08/Aug/2025 08:43:30] \"POST /detect/frame HTTP/1.1\" 200 -\n"
          ]
        },
        {
          "output_type": "stream",
          "name": "stdout",
          "text": [
            "\n",
            "0: 480x640 1 person, 1 bicycle, 167.3ms\n",
            "Speed: 3.6ms preprocess, 167.3ms inference, 1.4ms postprocess per image at shape (1, 3, 480, 640)\n"
          ]
        },
        {
          "output_type": "stream",
          "name": "stderr",
          "text": [
            "INFO:werkzeug:127.0.0.1 - - [08/Aug/2025 08:43:32] \"POST /detect/frame HTTP/1.1\" 200 -\n"
          ]
        },
        {
          "output_type": "stream",
          "name": "stdout",
          "text": [
            "\n",
            "0: 480x640 1 person, 1 bicycle, 180.4ms\n",
            "Speed: 3.2ms preprocess, 180.4ms inference, 2.2ms postprocess per image at shape (1, 3, 480, 640)\n"
          ]
        },
        {
          "output_type": "stream",
          "name": "stderr",
          "text": [
            "INFO:werkzeug:127.0.0.1 - - [08/Aug/2025 08:43:33] \"POST /detect/frame HTTP/1.1\" 200 -\n"
          ]
        },
        {
          "output_type": "stream",
          "name": "stdout",
          "text": [
            "\n",
            "0: 480x640 1 person, 1 bicycle, 1 chair, 172.2ms\n",
            "Speed: 4.8ms preprocess, 172.2ms inference, 1.5ms postprocess per image at shape (1, 3, 480, 640)\n"
          ]
        },
        {
          "output_type": "stream",
          "name": "stderr",
          "text": [
            "INFO:werkzeug:127.0.0.1 - - [08/Aug/2025 08:43:34] \"POST /detect/frame HTTP/1.1\" 200 -\n"
          ]
        },
        {
          "output_type": "stream",
          "name": "stdout",
          "text": [
            "\n",
            "0: 480x640 1 person, 1 bicycle, 178.5ms\n",
            "Speed: 5.0ms preprocess, 178.5ms inference, 1.8ms postprocess per image at shape (1, 3, 480, 640)\n"
          ]
        },
        {
          "output_type": "stream",
          "name": "stderr",
          "text": [
            "INFO:werkzeug:127.0.0.1 - - [08/Aug/2025 08:43:36] \"POST /detect/frame HTTP/1.1\" 200 -\n"
          ]
        },
        {
          "output_type": "stream",
          "name": "stdout",
          "text": [
            "\n",
            "0: 480x640 1 person, 1 bicycle, 195.7ms\n",
            "Speed: 3.1ms preprocess, 195.7ms inference, 1.6ms postprocess per image at shape (1, 3, 480, 640)\n"
          ]
        },
        {
          "output_type": "stream",
          "name": "stderr",
          "text": [
            "INFO:werkzeug:127.0.0.1 - - [08/Aug/2025 08:43:37] \"POST /detect/frame HTTP/1.1\" 200 -\n"
          ]
        },
        {
          "output_type": "stream",
          "name": "stdout",
          "text": [
            "\n",
            "0: 480x640 1 person, 1 bicycle, 1 chair, 164.2ms\n",
            "Speed: 3.0ms preprocess, 164.2ms inference, 1.4ms postprocess per image at shape (1, 3, 480, 640)\n"
          ]
        },
        {
          "output_type": "stream",
          "name": "stderr",
          "text": [
            "INFO:werkzeug:127.0.0.1 - - [08/Aug/2025 08:43:38] \"POST /detect/frame HTTP/1.1\" 200 -\n"
          ]
        },
        {
          "output_type": "stream",
          "name": "stdout",
          "text": [
            "\n",
            "0: 480x640 1 person, 1 bicycle, 202.4ms\n",
            "Speed: 5.7ms preprocess, 202.4ms inference, 2.2ms postprocess per image at shape (1, 3, 480, 640)\n"
          ]
        },
        {
          "output_type": "stream",
          "name": "stderr",
          "text": [
            "INFO:werkzeug:127.0.0.1 - - [08/Aug/2025 08:43:40] \"POST /detect/frame HTTP/1.1\" 200 -\n"
          ]
        },
        {
          "output_type": "stream",
          "name": "stdout",
          "text": [
            "\n",
            "0: 480x640 1 person, 1 bicycle, 1 bottle, 269.9ms\n",
            "Speed: 5.6ms preprocess, 269.9ms inference, 2.1ms postprocess per image at shape (1, 3, 480, 640)\n"
          ]
        },
        {
          "output_type": "stream",
          "name": "stderr",
          "text": [
            "INFO:werkzeug:127.0.0.1 - - [08/Aug/2025 08:43:41] \"POST /detect/frame HTTP/1.1\" 200 -\n"
          ]
        },
        {
          "output_type": "stream",
          "name": "stdout",
          "text": [
            "\n",
            "0: 480x640 1 person, 1 bicycle, 254.2ms\n",
            "Speed: 5.2ms preprocess, 254.2ms inference, 2.1ms postprocess per image at shape (1, 3, 480, 640)\n"
          ]
        },
        {
          "output_type": "stream",
          "name": "stderr",
          "text": [
            "INFO:werkzeug:127.0.0.1 - - [08/Aug/2025 08:43:43] \"POST /detect/frame HTTP/1.1\" 200 -\n"
          ]
        },
        {
          "output_type": "stream",
          "name": "stdout",
          "text": [
            "\n",
            "0: 480x640 1 person, 1 bicycle, 184.9ms\n",
            "Speed: 3.8ms preprocess, 184.9ms inference, 1.6ms postprocess per image at shape (1, 3, 480, 640)\n"
          ]
        },
        {
          "output_type": "stream",
          "name": "stderr",
          "text": [
            "INFO:werkzeug:127.0.0.1 - - [08/Aug/2025 08:43:44] \"POST /detect/frame HTTP/1.1\" 200 -\n"
          ]
        },
        {
          "output_type": "stream",
          "name": "stdout",
          "text": [
            "\n",
            "0: 480x640 1 person, 1 bicycle, 179.9ms\n",
            "Speed: 3.8ms preprocess, 179.9ms inference, 1.6ms postprocess per image at shape (1, 3, 480, 640)\n"
          ]
        },
        {
          "output_type": "stream",
          "name": "stderr",
          "text": [
            "INFO:werkzeug:127.0.0.1 - - [08/Aug/2025 08:43:45] \"POST /detect/frame HTTP/1.1\" 200 -\n"
          ]
        },
        {
          "output_type": "stream",
          "name": "stdout",
          "text": [
            "\n",
            "0: 480x640 1 person, 1 bicycle, 192.5ms\n",
            "Speed: 3.7ms preprocess, 192.5ms inference, 1.8ms postprocess per image at shape (1, 3, 480, 640)\n"
          ]
        },
        {
          "output_type": "stream",
          "name": "stderr",
          "text": [
            "INFO:werkzeug:127.0.0.1 - - [08/Aug/2025 08:43:47] \"POST /detect/frame HTTP/1.1\" 200 -\n"
          ]
        },
        {
          "output_type": "stream",
          "name": "stdout",
          "text": [
            "\n",
            "0: 480x640 1 person, 1 bicycle, 161.8ms\n",
            "Speed: 3.2ms preprocess, 161.8ms inference, 1.4ms postprocess per image at shape (1, 3, 480, 640)\n"
          ]
        },
        {
          "output_type": "stream",
          "name": "stderr",
          "text": [
            "INFO:werkzeug:127.0.0.1 - - [08/Aug/2025 08:43:48] \"POST /detect/frame HTTP/1.1\" 200 -\n"
          ]
        },
        {
          "output_type": "stream",
          "name": "stdout",
          "text": [
            "\n",
            "0: 480x640 1 person, 1 bicycle, 170.0ms\n",
            "Speed: 5.2ms preprocess, 170.0ms inference, 1.7ms postprocess per image at shape (1, 3, 480, 640)\n"
          ]
        },
        {
          "output_type": "stream",
          "name": "stderr",
          "text": [
            "INFO:werkzeug:127.0.0.1 - - [08/Aug/2025 08:43:49] \"POST /detect/frame HTTP/1.1\" 200 -\n"
          ]
        },
        {
          "output_type": "stream",
          "name": "stdout",
          "text": [
            "\n",
            "0: 480x640 1 person, 1 bicycle, 177.1ms\n",
            "Speed: 5.4ms preprocess, 177.1ms inference, 1.6ms postprocess per image at shape (1, 3, 480, 640)\n"
          ]
        },
        {
          "output_type": "stream",
          "name": "stderr",
          "text": [
            "INFO:werkzeug:127.0.0.1 - - [08/Aug/2025 08:43:51] \"POST /detect/frame HTTP/1.1\" 200 -\n"
          ]
        },
        {
          "output_type": "stream",
          "name": "stdout",
          "text": [
            "\n",
            "0: 480x640 1 person, 1 bicycle, 255.7ms\n",
            "Speed: 3.8ms preprocess, 255.7ms inference, 1.8ms postprocess per image at shape (1, 3, 480, 640)\n"
          ]
        },
        {
          "output_type": "stream",
          "name": "stderr",
          "text": [
            "INFO:werkzeug:127.0.0.1 - - [08/Aug/2025 08:43:52] \"POST /detect/frame HTTP/1.1\" 200 -\n"
          ]
        },
        {
          "output_type": "stream",
          "name": "stdout",
          "text": [
            "\n",
            "0: 480x640 1 person, 1 bicycle, 313.6ms\n",
            "Speed: 3.3ms preprocess, 313.6ms inference, 2.5ms postprocess per image at shape (1, 3, 480, 640)\n"
          ]
        },
        {
          "output_type": "stream",
          "name": "stderr",
          "text": [
            "INFO:werkzeug:127.0.0.1 - - [08/Aug/2025 08:43:54] \"POST /detect/frame HTTP/1.1\" 200 -\n"
          ]
        },
        {
          "output_type": "stream",
          "name": "stdout",
          "text": [
            "\n",
            "0: 480x640 1 person, 1 bicycle, 282.1ms\n",
            "Speed: 7.4ms preprocess, 282.1ms inference, 2.3ms postprocess per image at shape (1, 3, 480, 640)\n"
          ]
        },
        {
          "output_type": "stream",
          "name": "stderr",
          "text": [
            "INFO:werkzeug:127.0.0.1 - - [08/Aug/2025 08:43:55] \"POST /detect/frame HTTP/1.1\" 200 -\n"
          ]
        },
        {
          "output_type": "stream",
          "name": "stdout",
          "text": [
            "\n",
            "0: 480x640 1 person, 1 bicycle, 212.1ms\n",
            "Speed: 3.5ms preprocess, 212.1ms inference, 1.4ms postprocess per image at shape (1, 3, 480, 640)\n"
          ]
        },
        {
          "output_type": "stream",
          "name": "stderr",
          "text": [
            "INFO:werkzeug:127.0.0.1 - - [08/Aug/2025 08:43:56] \"POST /detect/frame HTTP/1.1\" 200 -\n"
          ]
        },
        {
          "output_type": "stream",
          "name": "stdout",
          "text": [
            "\n",
            "0: 480x640 1 person, 1 bicycle, 168.8ms\n",
            "Speed: 3.2ms preprocess, 168.8ms inference, 1.8ms postprocess per image at shape (1, 3, 480, 640)\n"
          ]
        },
        {
          "output_type": "stream",
          "name": "stderr",
          "text": [
            "INFO:werkzeug:127.0.0.1 - - [08/Aug/2025 08:43:58] \"POST /detect/frame HTTP/1.1\" 200 -\n"
          ]
        },
        {
          "output_type": "stream",
          "name": "stdout",
          "text": [
            "\n",
            "0: 480x640 1 person, 1 bicycle, 165.7ms\n",
            "Speed: 3.1ms preprocess, 165.7ms inference, 1.5ms postprocess per image at shape (1, 3, 480, 640)\n"
          ]
        },
        {
          "output_type": "stream",
          "name": "stderr",
          "text": [
            "INFO:werkzeug:127.0.0.1 - - [08/Aug/2025 08:43:59] \"POST /detect/frame HTTP/1.1\" 200 -\n"
          ]
        },
        {
          "output_type": "stream",
          "name": "stdout",
          "text": [
            "\n",
            "0: 480x640 1 person, 1 bicycle, 176.2ms\n",
            "Speed: 3.6ms preprocess, 176.2ms inference, 1.7ms postprocess per image at shape (1, 3, 480, 640)\n"
          ]
        },
        {
          "output_type": "stream",
          "name": "stderr",
          "text": [
            "INFO:werkzeug:127.0.0.1 - - [08/Aug/2025 08:44:00] \"POST /detect/frame HTTP/1.1\" 200 -\n"
          ]
        },
        {
          "output_type": "stream",
          "name": "stdout",
          "text": [
            "\n",
            "0: 480x640 1 person, 1 bicycle, 174.5ms\n",
            "Speed: 3.4ms preprocess, 174.5ms inference, 1.7ms postprocess per image at shape (1, 3, 480, 640)\n"
          ]
        },
        {
          "output_type": "stream",
          "name": "stderr",
          "text": [
            "INFO:werkzeug:127.0.0.1 - - [08/Aug/2025 08:44:02] \"POST /detect/frame HTTP/1.1\" 200 -\n"
          ]
        },
        {
          "output_type": "stream",
          "name": "stdout",
          "text": [
            "\n",
            "0: 480x640 1 person, 1 bicycle, 197.7ms\n",
            "Speed: 7.0ms preprocess, 197.7ms inference, 1.6ms postprocess per image at shape (1, 3, 480, 640)\n"
          ]
        },
        {
          "output_type": "stream",
          "name": "stderr",
          "text": [
            "INFO:werkzeug:127.0.0.1 - - [08/Aug/2025 08:44:03] \"POST /detect/frame HTTP/1.1\" 200 -\n"
          ]
        },
        {
          "output_type": "stream",
          "name": "stdout",
          "text": [
            "\n",
            "0: 480x640 1 person, 1 bicycle, 177.5ms\n",
            "Speed: 3.6ms preprocess, 177.5ms inference, 1.7ms postprocess per image at shape (1, 3, 480, 640)\n"
          ]
        },
        {
          "output_type": "stream",
          "name": "stderr",
          "text": [
            "INFO:werkzeug:127.0.0.1 - - [08/Aug/2025 08:44:04] \"POST /detect/frame HTTP/1.1\" 200 -\n"
          ]
        },
        {
          "output_type": "stream",
          "name": "stdout",
          "text": [
            "\n",
            "0: 480x640 1 person, 1 bicycle, 163.7ms\n",
            "Speed: 3.5ms preprocess, 163.7ms inference, 1.3ms postprocess per image at shape (1, 3, 480, 640)\n"
          ]
        },
        {
          "output_type": "stream",
          "name": "stderr",
          "text": [
            "INFO:werkzeug:127.0.0.1 - - [08/Aug/2025 08:44:06] \"POST /detect/frame HTTP/1.1\" 200 -\n"
          ]
        },
        {
          "output_type": "stream",
          "name": "stdout",
          "text": [
            "\n",
            "0: 480x640 1 person, 1 bicycle, 252.8ms\n",
            "Speed: 5.4ms preprocess, 252.8ms inference, 1.8ms postprocess per image at shape (1, 3, 480, 640)\n"
          ]
        },
        {
          "output_type": "stream",
          "name": "stderr",
          "text": [
            "INFO:werkzeug:127.0.0.1 - - [08/Aug/2025 08:44:07] \"POST /detect/frame HTTP/1.1\" 200 -\n"
          ]
        },
        {
          "output_type": "stream",
          "name": "stdout",
          "text": [
            "\n",
            "0: 480x640 1 person, 1 bicycle, 1 chair, 264.8ms\n",
            "Speed: 6.8ms preprocess, 264.8ms inference, 2.1ms postprocess per image at shape (1, 3, 480, 640)\n"
          ]
        },
        {
          "output_type": "stream",
          "name": "stderr",
          "text": [
            "INFO:werkzeug:127.0.0.1 - - [08/Aug/2025 08:44:08] \"POST /detect/frame HTTP/1.1\" 200 -\n"
          ]
        },
        {
          "output_type": "stream",
          "name": "stdout",
          "text": [
            "\n",
            "0: 480x640 1 person, 1 bicycle, 179.7ms\n",
            "Speed: 3.7ms preprocess, 179.7ms inference, 1.7ms postprocess per image at shape (1, 3, 480, 640)\n"
          ]
        },
        {
          "output_type": "stream",
          "name": "stderr",
          "text": [
            "INFO:werkzeug:127.0.0.1 - - [08/Aug/2025 08:44:10] \"POST /detect/frame HTTP/1.1\" 200 -\n"
          ]
        },
        {
          "output_type": "stream",
          "name": "stdout",
          "text": [
            "\n",
            "0: 480x640 1 person, 1 bicycle, 177.7ms\n",
            "Speed: 3.6ms preprocess, 177.7ms inference, 1.6ms postprocess per image at shape (1, 3, 480, 640)\n"
          ]
        },
        {
          "output_type": "stream",
          "name": "stderr",
          "text": [
            "INFO:werkzeug:127.0.0.1 - - [08/Aug/2025 08:44:11] \"POST /detect/frame HTTP/1.1\" 200 -\n"
          ]
        },
        {
          "output_type": "stream",
          "name": "stdout",
          "text": [
            "\n",
            "0: 480x640 1 person, 1 bicycle, 168.0ms\n",
            "Speed: 3.2ms preprocess, 168.0ms inference, 1.5ms postprocess per image at shape (1, 3, 480, 640)\n"
          ]
        },
        {
          "output_type": "stream",
          "name": "stderr",
          "text": [
            "INFO:werkzeug:127.0.0.1 - - [08/Aug/2025 08:44:13] \"POST /detect/frame HTTP/1.1\" 200 -\n"
          ]
        },
        {
          "output_type": "stream",
          "name": "stdout",
          "text": [
            "\n",
            "0: 480x640 1 person, 1 bicycle, 179.5ms\n",
            "Speed: 3.7ms preprocess, 179.5ms inference, 1.4ms postprocess per image at shape (1, 3, 480, 640)\n"
          ]
        },
        {
          "output_type": "stream",
          "name": "stderr",
          "text": [
            "INFO:werkzeug:127.0.0.1 - - [08/Aug/2025 08:44:14] \"POST /detect/frame HTTP/1.1\" 200 -\n"
          ]
        },
        {
          "output_type": "stream",
          "name": "stdout",
          "text": [
            "\n",
            "0: 480x640 1 person, 1 bicycle, 182.3ms\n",
            "Speed: 3.7ms preprocess, 182.3ms inference, 1.9ms postprocess per image at shape (1, 3, 480, 640)\n"
          ]
        },
        {
          "output_type": "stream",
          "name": "stderr",
          "text": [
            "INFO:werkzeug:127.0.0.1 - - [08/Aug/2025 08:44:15] \"POST /detect/frame HTTP/1.1\" 200 -\n"
          ]
        },
        {
          "output_type": "stream",
          "name": "stdout",
          "text": [
            "\n",
            "0: 480x640 1 person, 1 bicycle, 194.3ms\n",
            "Speed: 4.4ms preprocess, 194.3ms inference, 1.9ms postprocess per image at shape (1, 3, 480, 640)\n"
          ]
        },
        {
          "output_type": "stream",
          "name": "stderr",
          "text": [
            "INFO:werkzeug:127.0.0.1 - - [08/Aug/2025 08:44:16] \"POST /detect/frame HTTP/1.1\" 200 -\n"
          ]
        },
        {
          "output_type": "stream",
          "name": "stdout",
          "text": [
            "\n",
            "0: 480x640 1 person, 1 bicycle, 160.0ms\n",
            "Speed: 3.2ms preprocess, 160.0ms inference, 1.7ms postprocess per image at shape (1, 3, 480, 640)\n"
          ]
        },
        {
          "output_type": "stream",
          "name": "stderr",
          "text": [
            "INFO:werkzeug:127.0.0.1 - - [08/Aug/2025 08:44:18] \"POST /detect/frame HTTP/1.1\" 200 -\n"
          ]
        },
        {
          "output_type": "stream",
          "name": "stdout",
          "text": [
            "\n",
            "0: 480x640 1 person, 1 bicycle, 231.5ms\n",
            "Speed: 3.9ms preprocess, 231.5ms inference, 2.4ms postprocess per image at shape (1, 3, 480, 640)\n"
          ]
        },
        {
          "output_type": "stream",
          "name": "stderr",
          "text": [
            "INFO:werkzeug:127.0.0.1 - - [08/Aug/2025 08:44:19] \"POST /detect/frame HTTP/1.1\" 200 -\n"
          ]
        },
        {
          "output_type": "stream",
          "name": "stdout",
          "text": [
            "\n",
            "0: 480x640 1 person, 1 bicycle, 264.2ms\n",
            "Speed: 5.4ms preprocess, 264.2ms inference, 2.3ms postprocess per image at shape (1, 3, 480, 640)\n"
          ]
        },
        {
          "output_type": "stream",
          "name": "stderr",
          "text": [
            "INFO:werkzeug:127.0.0.1 - - [08/Aug/2025 08:44:21] \"POST /detect/frame HTTP/1.1\" 200 -\n"
          ]
        },
        {
          "output_type": "stream",
          "name": "stdout",
          "text": [
            "\n",
            "0: 480x640 1 person, 1 bicycle, 163.7ms\n",
            "Speed: 3.9ms preprocess, 163.7ms inference, 1.3ms postprocess per image at shape (1, 3, 480, 640)\n"
          ]
        },
        {
          "output_type": "stream",
          "name": "stderr",
          "text": [
            "INFO:werkzeug:127.0.0.1 - - [08/Aug/2025 08:44:25] \"POST /detect/frame HTTP/1.1\" 200 -\n"
          ]
        },
        {
          "output_type": "stream",
          "name": "stdout",
          "text": [
            "\n",
            "0: 480x640 1 person, 1 bicycle, 169.2ms\n",
            "Speed: 3.2ms preprocess, 169.2ms inference, 1.4ms postprocess per image at shape (1, 3, 480, 640)\n"
          ]
        },
        {
          "output_type": "stream",
          "name": "stderr",
          "text": [
            "INFO:werkzeug:127.0.0.1 - - [08/Aug/2025 08:44:27] \"POST /detect/frame HTTP/1.1\" 200 -\n"
          ]
        },
        {
          "output_type": "stream",
          "name": "stdout",
          "text": [
            "\n",
            "0: 480x640 1 person, 1 bicycle, 180.3ms\n",
            "Speed: 3.6ms preprocess, 180.3ms inference, 1.8ms postprocess per image at shape (1, 3, 480, 640)\n"
          ]
        },
        {
          "output_type": "stream",
          "name": "stderr",
          "text": [
            "INFO:werkzeug:127.0.0.1 - - [08/Aug/2025 08:44:28] \"POST /detect/frame HTTP/1.1\" 200 -\n"
          ]
        },
        {
          "output_type": "stream",
          "name": "stdout",
          "text": [
            "\n",
            "0: 480x640 1 person, 1 bicycle, 163.8ms\n",
            "Speed: 4.3ms preprocess, 163.8ms inference, 1.5ms postprocess per image at shape (1, 3, 480, 640)\n"
          ]
        },
        {
          "output_type": "stream",
          "name": "stderr",
          "text": [
            "INFO:werkzeug:127.0.0.1 - - [08/Aug/2025 08:44:30] \"POST /detect/frame HTTP/1.1\" 200 -\n"
          ]
        },
        {
          "output_type": "stream",
          "name": "stdout",
          "text": [
            "\n",
            "0: 480x640 1 person, 1 bicycle, 211.6ms\n",
            "Speed: 4.8ms preprocess, 211.6ms inference, 2.0ms postprocess per image at shape (1, 3, 480, 640)\n"
          ]
        },
        {
          "output_type": "stream",
          "name": "stderr",
          "text": [
            "INFO:werkzeug:127.0.0.1 - - [08/Aug/2025 08:44:31] \"POST /detect/frame HTTP/1.1\" 200 -\n"
          ]
        },
        {
          "output_type": "stream",
          "name": "stdout",
          "text": [
            "\n",
            "0: 480x640 1 person, 1 bicycle, 207.7ms\n",
            "Speed: 3.2ms preprocess, 207.7ms inference, 2.9ms postprocess per image at shape (1, 3, 480, 640)\n"
          ]
        },
        {
          "output_type": "stream",
          "name": "stderr",
          "text": [
            "INFO:werkzeug:127.0.0.1 - - [08/Aug/2025 08:44:32] \"POST /detect/frame HTTP/1.1\" 200 -\n"
          ]
        },
        {
          "output_type": "stream",
          "name": "stdout",
          "text": [
            "\n",
            "0: 480x640 1 person, 1 bicycle, 277.2ms\n",
            "Speed: 3.6ms preprocess, 277.2ms inference, 2.3ms postprocess per image at shape (1, 3, 480, 640)\n"
          ]
        },
        {
          "output_type": "stream",
          "name": "stderr",
          "text": [
            "INFO:werkzeug:127.0.0.1 - - [08/Aug/2025 08:44:34] \"POST /detect/frame HTTP/1.1\" 200 -\n"
          ]
        },
        {
          "output_type": "stream",
          "name": "stdout",
          "text": [
            "\n",
            "0: 480x640 1 person, 1 bicycle, 278.3ms\n",
            "Speed: 3.4ms preprocess, 278.3ms inference, 2.0ms postprocess per image at shape (1, 3, 480, 640)\n"
          ]
        },
        {
          "output_type": "stream",
          "name": "stderr",
          "text": [
            "INFO:werkzeug:127.0.0.1 - - [08/Aug/2025 08:44:35] \"POST /detect/frame HTTP/1.1\" 200 -\n"
          ]
        },
        {
          "output_type": "stream",
          "name": "stdout",
          "text": [
            "\n",
            "0: 480x640 1 person, 1 bicycle, 159.7ms\n",
            "Speed: 2.9ms preprocess, 159.7ms inference, 1.4ms postprocess per image at shape (1, 3, 480, 640)\n"
          ]
        },
        {
          "output_type": "stream",
          "name": "stderr",
          "text": [
            "INFO:werkzeug:127.0.0.1 - - [08/Aug/2025 08:44:37] \"POST /detect/frame HTTP/1.1\" 200 -\n"
          ]
        },
        {
          "output_type": "stream",
          "name": "stdout",
          "text": [
            "\n",
            "0: 480x640 1 person, 1 bicycle, 182.7ms\n",
            "Speed: 4.5ms preprocess, 182.7ms inference, 1.7ms postprocess per image at shape (1, 3, 480, 640)\n"
          ]
        },
        {
          "output_type": "stream",
          "name": "stderr",
          "text": [
            "INFO:werkzeug:127.0.0.1 - - [08/Aug/2025 08:44:38] \"POST /detect/frame HTTP/1.1\" 200 -\n"
          ]
        },
        {
          "output_type": "stream",
          "name": "stdout",
          "text": [
            "\n",
            "0: 480x640 1 person, 1 bicycle, 185.8ms\n",
            "Speed: 3.4ms preprocess, 185.8ms inference, 1.5ms postprocess per image at shape (1, 3, 480, 640)\n"
          ]
        },
        {
          "output_type": "stream",
          "name": "stderr",
          "text": [
            "INFO:werkzeug:127.0.0.1 - - [08/Aug/2025 08:44:39] \"POST /detect/frame HTTP/1.1\" 200 -\n"
          ]
        },
        {
          "output_type": "stream",
          "name": "stdout",
          "text": [
            "\n",
            "0: 480x640 1 person, 1 bicycle, 162.1ms\n",
            "Speed: 3.1ms preprocess, 162.1ms inference, 1.4ms postprocess per image at shape (1, 3, 480, 640)\n"
          ]
        },
        {
          "output_type": "stream",
          "name": "stderr",
          "text": [
            "INFO:werkzeug:127.0.0.1 - - [08/Aug/2025 08:44:41] \"POST /detect/frame HTTP/1.1\" 200 -\n"
          ]
        },
        {
          "output_type": "stream",
          "name": "stdout",
          "text": [
            "\n",
            "0: 480x640 1 person, 1 bicycle, 181.9ms\n",
            "Speed: 3.8ms preprocess, 181.9ms inference, 2.1ms postprocess per image at shape (1, 3, 480, 640)\n"
          ]
        },
        {
          "output_type": "stream",
          "name": "stderr",
          "text": [
            "INFO:werkzeug:127.0.0.1 - - [08/Aug/2025 08:44:42] \"POST /detect/frame HTTP/1.1\" 200 -\n"
          ]
        },
        {
          "output_type": "stream",
          "name": "stdout",
          "text": [
            "\n",
            "0: 480x640 1 person, 1 bicycle, 174.2ms\n",
            "Speed: 5.4ms preprocess, 174.2ms inference, 1.5ms postprocess per image at shape (1, 3, 480, 640)\n"
          ]
        },
        {
          "output_type": "stream",
          "name": "stderr",
          "text": [
            "INFO:werkzeug:127.0.0.1 - - [08/Aug/2025 08:44:43] \"POST /detect/frame HTTP/1.1\" 200 -\n"
          ]
        },
        {
          "output_type": "stream",
          "name": "stdout",
          "text": [
            "\n",
            "0: 480x640 1 person, 1 bicycle, 178.6ms\n",
            "Speed: 3.4ms preprocess, 178.6ms inference, 1.3ms postprocess per image at shape (1, 3, 480, 640)\n"
          ]
        },
        {
          "output_type": "stream",
          "name": "stderr",
          "text": [
            "INFO:werkzeug:127.0.0.1 - - [08/Aug/2025 08:44:45] \"POST /detect/frame HTTP/1.1\" 200 -\n"
          ]
        },
        {
          "output_type": "stream",
          "name": "stdout",
          "text": [
            "\n",
            "0: 480x640 1 person, 1 bicycle, 264.9ms\n",
            "Speed: 3.1ms preprocess, 264.9ms inference, 1.9ms postprocess per image at shape (1, 3, 480, 640)\n"
          ]
        },
        {
          "output_type": "stream",
          "name": "stderr",
          "text": [
            "INFO:werkzeug:127.0.0.1 - - [08/Aug/2025 08:44:46] \"POST /detect/frame HTTP/1.1\" 200 -\n"
          ]
        },
        {
          "output_type": "stream",
          "name": "stdout",
          "text": [
            "\n",
            "0: 480x640 1 person, 1 bicycle, 270.3ms\n",
            "Speed: 6.4ms preprocess, 270.3ms inference, 2.3ms postprocess per image at shape (1, 3, 480, 640)\n"
          ]
        },
        {
          "output_type": "stream",
          "name": "stderr",
          "text": [
            "INFO:werkzeug:127.0.0.1 - - [08/Aug/2025 08:44:47] \"POST /detect/frame HTTP/1.1\" 200 -\n"
          ]
        },
        {
          "output_type": "stream",
          "name": "stdout",
          "text": [
            "\n",
            "0: 480x640 1 person, 1 bicycle, 186.1ms\n",
            "Speed: 3.5ms preprocess, 186.1ms inference, 1.8ms postprocess per image at shape (1, 3, 480, 640)\n"
          ]
        },
        {
          "output_type": "stream",
          "name": "stderr",
          "text": [
            "INFO:werkzeug:127.0.0.1 - - [08/Aug/2025 08:44:49] \"POST /detect/frame HTTP/1.1\" 200 -\n"
          ]
        },
        {
          "output_type": "stream",
          "name": "stdout",
          "text": [
            "\n",
            "0: 480x640 1 person, 1 bicycle, 179.4ms\n",
            "Speed: 3.2ms preprocess, 179.4ms inference, 1.5ms postprocess per image at shape (1, 3, 480, 640)\n"
          ]
        },
        {
          "output_type": "stream",
          "name": "stderr",
          "text": [
            "INFO:werkzeug:127.0.0.1 - - [08/Aug/2025 08:44:50] \"POST /detect/frame HTTP/1.1\" 200 -\n"
          ]
        },
        {
          "output_type": "stream",
          "name": "stdout",
          "text": [
            "\n",
            "0: 480x640 1 person, 1 bicycle, 158.6ms\n",
            "Speed: 2.9ms preprocess, 158.6ms inference, 1.4ms postprocess per image at shape (1, 3, 480, 640)\n"
          ]
        },
        {
          "output_type": "stream",
          "name": "stderr",
          "text": [
            "INFO:werkzeug:127.0.0.1 - - [08/Aug/2025 08:44:51] \"POST /detect/frame HTTP/1.1\" 200 -\n"
          ]
        },
        {
          "output_type": "stream",
          "name": "stdout",
          "text": [
            "\n",
            "0: 480x640 1 person, 1 bicycle, 202.5ms\n",
            "Speed: 3.7ms preprocess, 202.5ms inference, 1.6ms postprocess per image at shape (1, 3, 480, 640)\n"
          ]
        },
        {
          "output_type": "stream",
          "name": "stderr",
          "text": [
            "INFO:werkzeug:127.0.0.1 - - [08/Aug/2025 08:44:53] \"POST /detect/frame HTTP/1.1\" 200 -\n"
          ]
        },
        {
          "output_type": "stream",
          "name": "stdout",
          "text": [
            "\n",
            "0: 480x640 1 person, 1 bicycle, 179.8ms\n",
            "Speed: 4.6ms preprocess, 179.8ms inference, 1.7ms postprocess per image at shape (1, 3, 480, 640)\n"
          ]
        },
        {
          "output_type": "stream",
          "name": "stderr",
          "text": [
            "INFO:werkzeug:127.0.0.1 - - [08/Aug/2025 08:44:54] \"POST /detect/frame HTTP/1.1\" 200 -\n"
          ]
        },
        {
          "output_type": "stream",
          "name": "stdout",
          "text": [
            "\n",
            "0: 480x640 1 person, 1 bicycle, 180.7ms\n",
            "Speed: 3.7ms preprocess, 180.7ms inference, 1.7ms postprocess per image at shape (1, 3, 480, 640)\n"
          ]
        },
        {
          "output_type": "stream",
          "name": "stderr",
          "text": [
            "INFO:werkzeug:127.0.0.1 - - [08/Aug/2025 08:44:55] \"POST /detect/frame HTTP/1.1\" 200 -\n"
          ]
        },
        {
          "output_type": "stream",
          "name": "stdout",
          "text": [
            "\n",
            "0: 480x640 1 person, 1 bicycle, 185.9ms\n",
            "Speed: 3.7ms preprocess, 185.9ms inference, 2.5ms postprocess per image at shape (1, 3, 480, 640)\n"
          ]
        },
        {
          "output_type": "stream",
          "name": "stderr",
          "text": [
            "INFO:werkzeug:127.0.0.1 - - [08/Aug/2025 08:44:57] \"POST /detect/frame HTTP/1.1\" 200 -\n"
          ]
        },
        {
          "output_type": "stream",
          "name": "stdout",
          "text": [
            "\n",
            "0: 480x640 1 person, 1 chair, 179.4ms\n",
            "Speed: 4.1ms preprocess, 179.4ms inference, 1.8ms postprocess per image at shape (1, 3, 480, 640)\n"
          ]
        },
        {
          "output_type": "stream",
          "name": "stderr",
          "text": [
            "INFO:werkzeug:127.0.0.1 - - [08/Aug/2025 08:44:58] \"POST /detect/frame HTTP/1.1\" 200 -\n"
          ]
        },
        {
          "output_type": "stream",
          "name": "stdout",
          "text": [
            "\n",
            "0: 480x640 1 person, 272.7ms\n",
            "Speed: 3.5ms preprocess, 272.7ms inference, 2.1ms postprocess per image at shape (1, 3, 480, 640)\n"
          ]
        },
        {
          "output_type": "stream",
          "name": "stderr",
          "text": [
            "INFO:werkzeug:127.0.0.1 - - [08/Aug/2025 08:45:00] \"POST /detect/frame HTTP/1.1\" 200 -\n"
          ]
        },
        {
          "output_type": "stream",
          "name": "stdout",
          "text": [
            "\n",
            "0: 480x640 1 person, 1 bicycle, 293.3ms\n",
            "Speed: 5.5ms preprocess, 293.3ms inference, 2.5ms postprocess per image at shape (1, 3, 480, 640)\n"
          ]
        },
        {
          "output_type": "stream",
          "name": "stderr",
          "text": [
            "INFO:werkzeug:127.0.0.1 - - [08/Aug/2025 08:45:01] \"POST /detect/frame HTTP/1.1\" 200 -\n"
          ]
        },
        {
          "output_type": "stream",
          "name": "stdout",
          "text": [
            "\n",
            "0: 480x640 1 person, 1 bicycle, 182.5ms\n",
            "Speed: 3.8ms preprocess, 182.5ms inference, 1.9ms postprocess per image at shape (1, 3, 480, 640)\n"
          ]
        },
        {
          "output_type": "stream",
          "name": "stderr",
          "text": [
            "INFO:werkzeug:127.0.0.1 - - [08/Aug/2025 08:45:03] \"POST /detect/frame HTTP/1.1\" 200 -\n"
          ]
        },
        {
          "output_type": "stream",
          "name": "stdout",
          "text": [
            "\n",
            "0: 480x640 1 person, 185.3ms\n",
            "Speed: 3.5ms preprocess, 185.3ms inference, 1.6ms postprocess per image at shape (1, 3, 480, 640)\n"
          ]
        },
        {
          "output_type": "stream",
          "name": "stderr",
          "text": [
            "INFO:werkzeug:127.0.0.1 - - [08/Aug/2025 08:45:04] \"POST /detect/frame HTTP/1.1\" 200 -\n"
          ]
        },
        {
          "output_type": "stream",
          "name": "stdout",
          "text": [
            "\n",
            "0: 480x640 1 person, 1 bicycle, 164.6ms\n",
            "Speed: 3.1ms preprocess, 164.6ms inference, 1.7ms postprocess per image at shape (1, 3, 480, 640)\n"
          ]
        },
        {
          "output_type": "stream",
          "name": "stderr",
          "text": [
            "INFO:werkzeug:127.0.0.1 - - [08/Aug/2025 08:45:05] \"POST /detect/frame HTTP/1.1\" 200 -\n"
          ]
        },
        {
          "output_type": "stream",
          "name": "stdout",
          "text": [
            "\n",
            "0: 480x640 1 person, 1 bicycle, 183.6ms\n",
            "Speed: 6.8ms preprocess, 183.6ms inference, 1.6ms postprocess per image at shape (1, 3, 480, 640)\n"
          ]
        },
        {
          "output_type": "stream",
          "name": "stderr",
          "text": [
            "INFO:werkzeug:127.0.0.1 - - [08/Aug/2025 08:45:07] \"POST /detect/frame HTTP/1.1\" 200 -\n"
          ]
        },
        {
          "output_type": "stream",
          "name": "stdout",
          "text": [
            "\n",
            "0: 480x640 1 person, 1 bicycle, 159.4ms\n",
            "Speed: 5.8ms preprocess, 159.4ms inference, 1.3ms postprocess per image at shape (1, 3, 480, 640)\n"
          ]
        },
        {
          "output_type": "stream",
          "name": "stderr",
          "text": [
            "INFO:werkzeug:127.0.0.1 - - [08/Aug/2025 08:45:08] \"POST /detect/frame HTTP/1.1\" 200 -\n"
          ]
        },
        {
          "output_type": "stream",
          "name": "stdout",
          "text": [
            "\n",
            "0: 480x640 1 person, 1 bicycle, 174.6ms\n",
            "Speed: 3.0ms preprocess, 174.6ms inference, 1.5ms postprocess per image at shape (1, 3, 480, 640)\n"
          ]
        },
        {
          "output_type": "stream",
          "name": "stderr",
          "text": [
            "INFO:werkzeug:127.0.0.1 - - [08/Aug/2025 08:45:09] \"POST /detect/frame HTTP/1.1\" 200 -\n"
          ]
        },
        {
          "output_type": "stream",
          "name": "stdout",
          "text": [
            "\n",
            "0: 480x640 1 person, 1 bicycle, 192.7ms\n",
            "Speed: 3.8ms preprocess, 192.7ms inference, 1.8ms postprocess per image at shape (1, 3, 480, 640)\n"
          ]
        },
        {
          "output_type": "stream",
          "name": "stderr",
          "text": [
            "INFO:werkzeug:127.0.0.1 - - [08/Aug/2025 08:45:11] \"POST /detect/frame HTTP/1.1\" 200 -\n"
          ]
        },
        {
          "output_type": "stream",
          "name": "stdout",
          "text": [
            "\n",
            "0: 480x640 1 person, 1 bicycle, 258.5ms\n",
            "Speed: 3.3ms preprocess, 258.5ms inference, 1.9ms postprocess per image at shape (1, 3, 480, 640)\n"
          ]
        },
        {
          "output_type": "stream",
          "name": "stderr",
          "text": [
            "INFO:werkzeug:127.0.0.1 - - [08/Aug/2025 08:45:12] \"POST /detect/frame HTTP/1.1\" 200 -\n"
          ]
        },
        {
          "output_type": "stream",
          "name": "stdout",
          "text": [
            "\n",
            "0: 480x640 1 person, 1 bicycle, 268.4ms\n",
            "Speed: 9.4ms preprocess, 268.4ms inference, 2.4ms postprocess per image at shape (1, 3, 480, 640)\n"
          ]
        },
        {
          "output_type": "stream",
          "name": "stderr",
          "text": [
            "INFO:werkzeug:127.0.0.1 - - [08/Aug/2025 08:45:13] \"POST /detect/frame HTTP/1.1\" 200 -\n"
          ]
        },
        {
          "output_type": "stream",
          "name": "stdout",
          "text": [
            "\n",
            "0: 480x640 1 person, 169.1ms\n",
            "Speed: 3.9ms preprocess, 169.1ms inference, 1.5ms postprocess per image at shape (1, 3, 480, 640)\n"
          ]
        },
        {
          "output_type": "stream",
          "name": "stderr",
          "text": [
            "INFO:werkzeug:127.0.0.1 - - [08/Aug/2025 08:45:49] \"POST /detect/frame HTTP/1.1\" 200 -\n"
          ]
        },
        {
          "output_type": "stream",
          "name": "stdout",
          "text": [
            "\n",
            "0: 480x640 1 person, 269.5ms\n",
            "Speed: 3.3ms preprocess, 269.5ms inference, 1.8ms postprocess per image at shape (1, 3, 480, 640)\n"
          ]
        },
        {
          "output_type": "stream",
          "name": "stderr",
          "text": [
            "INFO:werkzeug:127.0.0.1 - - [08/Aug/2025 08:45:51] \"POST /detect/frame HTTP/1.1\" 200 -\n"
          ]
        },
        {
          "output_type": "stream",
          "name": "stdout",
          "text": [
            "\n",
            "0: 480x640 1 person, 1 bicycle, 274.6ms\n",
            "Speed: 6.2ms preprocess, 274.6ms inference, 1.9ms postprocess per image at shape (1, 3, 480, 640)\n"
          ]
        },
        {
          "output_type": "stream",
          "name": "stderr",
          "text": [
            "INFO:werkzeug:127.0.0.1 - - [08/Aug/2025 08:45:52] \"POST /detect/frame HTTP/1.1\" 200 -\n"
          ]
        },
        {
          "output_type": "stream",
          "name": "stdout",
          "text": [
            "\n",
            "0: 480x640 1 person, 1 bicycle, 180.2ms\n",
            "Speed: 4.8ms preprocess, 180.2ms inference, 1.9ms postprocess per image at shape (1, 3, 480, 640)\n"
          ]
        },
        {
          "output_type": "stream",
          "name": "stderr",
          "text": [
            "INFO:werkzeug:127.0.0.1 - - [08/Aug/2025 08:45:53] \"POST /detect/frame HTTP/1.1\" 200 -\n"
          ]
        },
        {
          "output_type": "stream",
          "name": "stdout",
          "text": [
            "\n",
            "0: 480x640 1 person, 1 bicycle, 180.8ms\n",
            "Speed: 4.0ms preprocess, 180.8ms inference, 1.8ms postprocess per image at shape (1, 3, 480, 640)\n"
          ]
        },
        {
          "output_type": "stream",
          "name": "stderr",
          "text": [
            "INFO:werkzeug:127.0.0.1 - - [08/Aug/2025 08:45:55] \"POST /detect/frame HTTP/1.1\" 200 -\n"
          ]
        },
        {
          "output_type": "stream",
          "name": "stdout",
          "text": [
            "\n",
            "0: 480x640 1 person, 1 bicycle, 211.6ms\n",
            "Speed: 3.4ms preprocess, 211.6ms inference, 1.7ms postprocess per image at shape (1, 3, 480, 640)\n"
          ]
        },
        {
          "output_type": "stream",
          "name": "stderr",
          "text": [
            "INFO:werkzeug:127.0.0.1 - - [08/Aug/2025 08:45:56] \"POST /detect/frame HTTP/1.1\" 200 -\n"
          ]
        },
        {
          "output_type": "stream",
          "name": "stdout",
          "text": [
            "\n",
            "0: 480x640 1 person, 1 bicycle, 178.7ms\n",
            "Speed: 3.8ms preprocess, 178.7ms inference, 1.8ms postprocess per image at shape (1, 3, 480, 640)\n"
          ]
        },
        {
          "output_type": "stream",
          "name": "stderr",
          "text": [
            "INFO:werkzeug:127.0.0.1 - - [08/Aug/2025 08:45:58] \"POST /detect/frame HTTP/1.1\" 200 -\n"
          ]
        },
        {
          "output_type": "stream",
          "name": "stdout",
          "text": [
            "\n",
            "0: 480x640 1 person, 1 bicycle, 184.0ms\n",
            "Speed: 3.7ms preprocess, 184.0ms inference, 1.8ms postprocess per image at shape (1, 3, 480, 640)\n"
          ]
        },
        {
          "output_type": "stream",
          "name": "stderr",
          "text": [
            "INFO:werkzeug:127.0.0.1 - - [08/Aug/2025 08:45:59] \"POST /detect/frame HTTP/1.1\" 200 -\n"
          ]
        },
        {
          "output_type": "stream",
          "name": "stdout",
          "text": [
            "\n",
            "0: 480x640 1 person, 1 bicycle, 203.8ms\n",
            "Speed: 5.8ms preprocess, 203.8ms inference, 1.9ms postprocess per image at shape (1, 3, 480, 640)\n"
          ]
        },
        {
          "output_type": "stream",
          "name": "stderr",
          "text": [
            "INFO:werkzeug:127.0.0.1 - - [08/Aug/2025 08:46:00] \"POST /detect/frame HTTP/1.1\" 200 -\n"
          ]
        },
        {
          "output_type": "stream",
          "name": "stdout",
          "text": [
            "\n",
            "0: 480x640 1 person, 1 bicycle, 180.3ms\n",
            "Speed: 3.6ms preprocess, 180.3ms inference, 1.9ms postprocess per image at shape (1, 3, 480, 640)\n"
          ]
        },
        {
          "output_type": "stream",
          "name": "stderr",
          "text": [
            "INFO:werkzeug:127.0.0.1 - - [08/Aug/2025 08:46:02] \"POST /detect/frame HTTP/1.1\" 200 -\n"
          ]
        },
        {
          "output_type": "stream",
          "name": "stdout",
          "text": [
            "\n",
            "0: 480x640 1 person, 1 bicycle, 291.2ms\n",
            "Speed: 3.3ms preprocess, 291.2ms inference, 2.2ms postprocess per image at shape (1, 3, 480, 640)\n"
          ]
        },
        {
          "output_type": "stream",
          "name": "stderr",
          "text": [
            "INFO:werkzeug:127.0.0.1 - - [08/Aug/2025 08:46:04] \"POST /detect/frame HTTP/1.1\" 200 -\n"
          ]
        },
        {
          "output_type": "stream",
          "name": "stdout",
          "text": [
            "\n",
            "0: 480x640 1 person, 1 bicycle, 269.2ms\n",
            "Speed: 3.2ms preprocess, 269.2ms inference, 1.8ms postprocess per image at shape (1, 3, 480, 640)\n"
          ]
        },
        {
          "output_type": "stream",
          "name": "stderr",
          "text": [
            "INFO:werkzeug:127.0.0.1 - - [08/Aug/2025 08:46:05] \"POST /detect/frame HTTP/1.1\" 200 -\n"
          ]
        },
        {
          "output_type": "stream",
          "name": "stdout",
          "text": [
            "\n",
            "0: 480x640 1 person, 1 bicycle, 186.6ms\n",
            "Speed: 4.4ms preprocess, 186.6ms inference, 2.0ms postprocess per image at shape (1, 3, 480, 640)\n"
          ]
        },
        {
          "output_type": "stream",
          "name": "stderr",
          "text": [
            "INFO:werkzeug:127.0.0.1 - - [08/Aug/2025 08:46:06] \"POST /detect/frame HTTP/1.1\" 200 -\n"
          ]
        },
        {
          "output_type": "stream",
          "name": "stdout",
          "text": [
            "\n",
            "0: 480x640 1 person, 1 bicycle, 183.6ms\n",
            "Speed: 3.5ms preprocess, 183.6ms inference, 1.5ms postprocess per image at shape (1, 3, 480, 640)\n"
          ]
        },
        {
          "output_type": "stream",
          "name": "stderr",
          "text": [
            "INFO:werkzeug:127.0.0.1 - - [08/Aug/2025 08:46:08] \"POST /detect/frame HTTP/1.1\" 200 -\n"
          ]
        },
        {
          "output_type": "stream",
          "name": "stdout",
          "text": [
            "\n",
            "0: 480x640 1 person, 1 bicycle, 190.7ms\n",
            "Speed: 3.8ms preprocess, 190.7ms inference, 2.0ms postprocess per image at shape (1, 3, 480, 640)\n"
          ]
        },
        {
          "output_type": "stream",
          "name": "stderr",
          "text": [
            "INFO:werkzeug:127.0.0.1 - - [08/Aug/2025 08:46:09] \"POST /detect/frame HTTP/1.1\" 200 -\n"
          ]
        },
        {
          "output_type": "stream",
          "name": "stdout",
          "text": [
            "\n",
            "0: 480x640 1 person, 179.1ms\n",
            "Speed: 4.6ms preprocess, 179.1ms inference, 1.6ms postprocess per image at shape (1, 3, 480, 640)\n"
          ]
        },
        {
          "output_type": "stream",
          "name": "stderr",
          "text": [
            "INFO:werkzeug:127.0.0.1 - - [08/Aug/2025 08:46:10] \"POST /detect/frame HTTP/1.1\" 200 -\n"
          ]
        },
        {
          "output_type": "stream",
          "name": "stdout",
          "text": [
            "\n",
            "0: 480x640 1 person, 1 bicycle, 177.3ms\n",
            "Speed: 3.9ms preprocess, 177.3ms inference, 2.1ms postprocess per image at shape (1, 3, 480, 640)\n"
          ]
        },
        {
          "output_type": "stream",
          "name": "stderr",
          "text": [
            "INFO:werkzeug:127.0.0.1 - - [08/Aug/2025 08:46:12] \"POST /detect/frame HTTP/1.1\" 200 -\n"
          ]
        },
        {
          "output_type": "stream",
          "name": "stdout",
          "text": [
            "\n",
            "0: 480x640 1 person, 1 bicycle, 164.3ms\n",
            "Speed: 2.9ms preprocess, 164.3ms inference, 1.4ms postprocess per image at shape (1, 3, 480, 640)\n"
          ]
        },
        {
          "output_type": "stream",
          "name": "stderr",
          "text": [
            "INFO:werkzeug:127.0.0.1 - - [08/Aug/2025 08:46:13] \"POST /detect/frame HTTP/1.1\" 200 -\n"
          ]
        },
        {
          "output_type": "stream",
          "name": "stdout",
          "text": [
            "\n",
            "0: 480x640 1 person, 1 bicycle, 177.7ms\n",
            "Speed: 3.5ms preprocess, 177.7ms inference, 1.8ms postprocess per image at shape (1, 3, 480, 640)\n"
          ]
        },
        {
          "output_type": "stream",
          "name": "stderr",
          "text": [
            "INFO:werkzeug:127.0.0.1 - - [08/Aug/2025 08:46:14] \"POST /detect/frame HTTP/1.1\" 200 -\n"
          ]
        },
        {
          "output_type": "stream",
          "name": "stdout",
          "text": [
            "\n",
            "0: 480x640 1 person, 1 bicycle, 163.5ms\n",
            "Speed: 3.8ms preprocess, 163.5ms inference, 1.9ms postprocess per image at shape (1, 3, 480, 640)\n"
          ]
        },
        {
          "output_type": "stream",
          "name": "stderr",
          "text": [
            "INFO:werkzeug:127.0.0.1 - - [08/Aug/2025 08:46:16] \"POST /detect/frame HTTP/1.1\" 200 -\n"
          ]
        },
        {
          "output_type": "stream",
          "name": "stdout",
          "text": [
            "\n",
            "0: 480x640 1 person, 1 bicycle, 277.8ms\n",
            "Speed: 3.5ms preprocess, 277.8ms inference, 2.5ms postprocess per image at shape (1, 3, 480, 640)\n"
          ]
        },
        {
          "output_type": "stream",
          "name": "stderr",
          "text": [
            "INFO:werkzeug:127.0.0.1 - - [08/Aug/2025 08:46:17] \"POST /detect/frame HTTP/1.1\" 200 -\n"
          ]
        },
        {
          "output_type": "stream",
          "name": "stdout",
          "text": [
            "\n",
            "0: 480x640 1 person, 1 bicycle, 293.3ms\n",
            "Speed: 3.7ms preprocess, 293.3ms inference, 2.5ms postprocess per image at shape (1, 3, 480, 640)\n"
          ]
        },
        {
          "output_type": "stream",
          "name": "stderr",
          "text": [
            "INFO:werkzeug:127.0.0.1 - - [08/Aug/2025 08:46:19] \"POST /detect/frame HTTP/1.1\" 200 -\n"
          ]
        },
        {
          "output_type": "stream",
          "name": "stdout",
          "text": [
            "\n",
            "0: 480x640 1 person, 1 bicycle, 179.0ms\n",
            "Speed: 5.6ms preprocess, 179.0ms inference, 1.9ms postprocess per image at shape (1, 3, 480, 640)\n"
          ]
        },
        {
          "output_type": "stream",
          "name": "stderr",
          "text": [
            "INFO:werkzeug:127.0.0.1 - - [08/Aug/2025 08:46:20] \"POST /detect/frame HTTP/1.1\" 200 -\n"
          ]
        },
        {
          "output_type": "stream",
          "name": "stdout",
          "text": [
            "\n",
            "0: 480x640 1 person, 1 bicycle, 179.7ms\n",
            "Speed: 3.3ms preprocess, 179.7ms inference, 1.5ms postprocess per image at shape (1, 3, 480, 640)\n"
          ]
        },
        {
          "output_type": "stream",
          "name": "stderr",
          "text": [
            "INFO:werkzeug:127.0.0.1 - - [08/Aug/2025 08:46:21] \"POST /detect/frame HTTP/1.1\" 200 -\n"
          ]
        },
        {
          "output_type": "stream",
          "name": "stdout",
          "text": [
            "\n",
            "0: 480x640 1 person, 1 bicycle, 181.4ms\n",
            "Speed: 4.7ms preprocess, 181.4ms inference, 1.8ms postprocess per image at shape (1, 3, 480, 640)\n"
          ]
        },
        {
          "output_type": "stream",
          "name": "stderr",
          "text": [
            "INFO:werkzeug:127.0.0.1 - - [08/Aug/2025 08:46:23] \"POST /detect/frame HTTP/1.1\" 200 -\n"
          ]
        },
        {
          "output_type": "stream",
          "name": "stdout",
          "text": [
            "\n",
            "0: 480x640 1 person, 1 bicycle, 188.0ms\n",
            "Speed: 3.8ms preprocess, 188.0ms inference, 1.7ms postprocess per image at shape (1, 3, 480, 640)\n"
          ]
        },
        {
          "output_type": "stream",
          "name": "stderr",
          "text": [
            "INFO:werkzeug:127.0.0.1 - - [08/Aug/2025 08:46:24] \"POST /detect/frame HTTP/1.1\" 200 -\n"
          ]
        },
        {
          "output_type": "stream",
          "name": "stdout",
          "text": [
            "\n",
            "0: 480x640 1 person, 1 bicycle, 188.9ms\n",
            "Speed: 3.2ms preprocess, 188.9ms inference, 2.3ms postprocess per image at shape (1, 3, 480, 640)\n"
          ]
        },
        {
          "output_type": "stream",
          "name": "stderr",
          "text": [
            "INFO:werkzeug:127.0.0.1 - - [08/Aug/2025 08:46:25] \"POST /detect/frame HTTP/1.1\" 200 -\n"
          ]
        },
        {
          "output_type": "stream",
          "name": "stdout",
          "text": [
            "\n",
            "0: 480x640 1 person, 1 bicycle, 171.9ms\n",
            "Speed: 3.1ms preprocess, 171.9ms inference, 1.4ms postprocess per image at shape (1, 3, 480, 640)\n"
          ]
        },
        {
          "output_type": "stream",
          "name": "stderr",
          "text": [
            "INFO:werkzeug:127.0.0.1 - - [08/Aug/2025 08:46:27] \"POST /detect/frame HTTP/1.1\" 200 -\n"
          ]
        },
        {
          "output_type": "stream",
          "name": "stdout",
          "text": [
            "\n",
            "0: 480x640 1 person, 1 bicycle, 170.7ms\n",
            "Speed: 3.1ms preprocess, 170.7ms inference, 1.6ms postprocess per image at shape (1, 3, 480, 640)\n"
          ]
        },
        {
          "output_type": "stream",
          "name": "stderr",
          "text": [
            "INFO:werkzeug:127.0.0.1 - - [08/Aug/2025 08:46:28] \"POST /detect/frame HTTP/1.1\" 200 -\n"
          ]
        },
        {
          "output_type": "stream",
          "name": "stdout",
          "text": [
            "\n",
            "0: 480x640 1 person, 1 bicycle, 242.2ms\n",
            "Speed: 3.2ms preprocess, 242.2ms inference, 1.8ms postprocess per image at shape (1, 3, 480, 640)\n"
          ]
        },
        {
          "output_type": "stream",
          "name": "stderr",
          "text": [
            "INFO:werkzeug:127.0.0.1 - - [08/Aug/2025 08:46:29] \"POST /detect/frame HTTP/1.1\" 200 -\n"
          ]
        },
        {
          "output_type": "stream",
          "name": "stdout",
          "text": [
            "\n",
            "0: 480x640 1 person, 1 bicycle, 283.5ms\n",
            "Speed: 3.7ms preprocess, 283.5ms inference, 2.2ms postprocess per image at shape (1, 3, 480, 640)\n"
          ]
        },
        {
          "output_type": "stream",
          "name": "stderr",
          "text": [
            "INFO:werkzeug:127.0.0.1 - - [08/Aug/2025 08:46:31] \"POST /detect/frame HTTP/1.1\" 200 -\n"
          ]
        },
        {
          "output_type": "stream",
          "name": "stdout",
          "text": [
            "\n",
            "0: 480x640 1 person, 1 bicycle, 224.8ms\n",
            "Speed: 5.3ms preprocess, 224.8ms inference, 1.4ms postprocess per image at shape (1, 3, 480, 640)\n"
          ]
        },
        {
          "output_type": "stream",
          "name": "stderr",
          "text": [
            "INFO:werkzeug:127.0.0.1 - - [08/Aug/2025 08:46:32] \"POST /detect/frame HTTP/1.1\" 200 -\n"
          ]
        },
        {
          "output_type": "stream",
          "name": "stdout",
          "text": [
            "\n",
            "0: 480x640 1 person, 1 bicycle, 178.1ms\n",
            "Speed: 3.8ms preprocess, 178.1ms inference, 1.5ms postprocess per image at shape (1, 3, 480, 640)\n"
          ]
        },
        {
          "output_type": "stream",
          "name": "stderr",
          "text": [
            "INFO:werkzeug:127.0.0.1 - - [08/Aug/2025 08:46:33] \"POST /detect/frame HTTP/1.1\" 200 -\n"
          ]
        },
        {
          "output_type": "stream",
          "name": "stdout",
          "text": [
            "\n",
            "0: 480x640 1 person, 1 bicycle, 175.1ms\n",
            "Speed: 3.3ms preprocess, 175.1ms inference, 1.5ms postprocess per image at shape (1, 3, 480, 640)\n"
          ]
        },
        {
          "output_type": "stream",
          "name": "stderr",
          "text": [
            "INFO:werkzeug:127.0.0.1 - - [08/Aug/2025 08:46:35] \"POST /detect/frame HTTP/1.1\" 200 -\n"
          ]
        },
        {
          "output_type": "stream",
          "name": "stdout",
          "text": [
            "\n",
            "0: 480x640 1 person, 1 bicycle, 165.3ms\n",
            "Speed: 2.9ms preprocess, 165.3ms inference, 1.4ms postprocess per image at shape (1, 3, 480, 640)\n"
          ]
        },
        {
          "output_type": "stream",
          "name": "stderr",
          "text": [
            "INFO:werkzeug:127.0.0.1 - - [08/Aug/2025 08:46:36] \"POST /detect/frame HTTP/1.1\" 200 -\n"
          ]
        },
        {
          "output_type": "stream",
          "name": "stdout",
          "text": [
            "\n",
            "0: 480x640 1 person, 1 bicycle, 180.0ms\n",
            "Speed: 4.7ms preprocess, 180.0ms inference, 1.6ms postprocess per image at shape (1, 3, 480, 640)\n"
          ]
        },
        {
          "output_type": "stream",
          "name": "stderr",
          "text": [
            "INFO:werkzeug:127.0.0.1 - - [08/Aug/2025 08:46:37] \"POST /detect/frame HTTP/1.1\" 200 -\n"
          ]
        },
        {
          "output_type": "stream",
          "name": "stdout",
          "text": [
            "\n",
            "0: 480x640 1 person, 1 bicycle, 173.7ms\n",
            "Speed: 5.4ms preprocess, 173.7ms inference, 1.9ms postprocess per image at shape (1, 3, 480, 640)\n"
          ]
        },
        {
          "output_type": "stream",
          "name": "stderr",
          "text": [
            "INFO:werkzeug:127.0.0.1 - - [08/Aug/2025 08:46:39] \"POST /detect/frame HTTP/1.1\" 200 -\n"
          ]
        },
        {
          "output_type": "stream",
          "name": "stdout",
          "text": [
            "\n",
            "0: 480x640 1 person, 1 bicycle, 179.2ms\n",
            "Speed: 4.5ms preprocess, 179.2ms inference, 1.9ms postprocess per image at shape (1, 3, 480, 640)\n"
          ]
        },
        {
          "output_type": "stream",
          "name": "stderr",
          "text": [
            "INFO:werkzeug:127.0.0.1 - - [08/Aug/2025 08:46:40] \"POST /detect/frame HTTP/1.1\" 200 -\n"
          ]
        },
        {
          "output_type": "stream",
          "name": "stdout",
          "text": [
            "\n",
            "0: 480x640 1 person, 1 bicycle, 165.7ms\n",
            "Speed: 3.3ms preprocess, 165.7ms inference, 1.8ms postprocess per image at shape (1, 3, 480, 640)\n"
          ]
        },
        {
          "output_type": "stream",
          "name": "stderr",
          "text": [
            "INFO:werkzeug:127.0.0.1 - - [08/Aug/2025 08:46:41] \"POST /detect/frame HTTP/1.1\" 200 -\n"
          ]
        },
        {
          "output_type": "stream",
          "name": "stdout",
          "text": [
            "\n",
            "0: 480x640 1 person, 1 bicycle, 251.4ms\n",
            "Speed: 5.2ms preprocess, 251.4ms inference, 2.1ms postprocess per image at shape (1, 3, 480, 640)\n"
          ]
        },
        {
          "output_type": "stream",
          "name": "stderr",
          "text": [
            "INFO:werkzeug:127.0.0.1 - - [08/Aug/2025 08:46:43] \"POST /detect/frame HTTP/1.1\" 200 -\n"
          ]
        },
        {
          "output_type": "stream",
          "name": "stdout",
          "text": [
            "\n",
            "0: 480x640 1 person, 1 bicycle, 263.3ms\n",
            "Speed: 6.1ms preprocess, 263.3ms inference, 1.8ms postprocess per image at shape (1, 3, 480, 640)\n"
          ]
        },
        {
          "output_type": "stream",
          "name": "stderr",
          "text": [
            "INFO:werkzeug:127.0.0.1 - - [08/Aug/2025 08:46:44] \"POST /detect/frame HTTP/1.1\" 200 -\n"
          ]
        },
        {
          "output_type": "stream",
          "name": "stdout",
          "text": [
            "\n",
            "0: 480x640 1 person, 1 bicycle, 177.7ms\n",
            "Speed: 3.3ms preprocess, 177.7ms inference, 1.8ms postprocess per image at shape (1, 3, 480, 640)\n"
          ]
        },
        {
          "output_type": "stream",
          "name": "stderr",
          "text": [
            "INFO:werkzeug:127.0.0.1 - - [08/Aug/2025 08:46:45] \"POST /detect/frame HTTP/1.1\" 200 -\n"
          ]
        },
        {
          "output_type": "stream",
          "name": "stdout",
          "text": [
            "\n",
            "0: 480x640 1 person, 1 bicycle, 165.8ms\n",
            "Speed: 2.9ms preprocess, 165.8ms inference, 1.3ms postprocess per image at shape (1, 3, 480, 640)\n"
          ]
        },
        {
          "output_type": "stream",
          "name": "stderr",
          "text": [
            "INFO:werkzeug:127.0.0.1 - - [08/Aug/2025 08:46:47] \"POST /detect/frame HTTP/1.1\" 200 -\n"
          ]
        },
        {
          "output_type": "stream",
          "name": "stdout",
          "text": [
            "\n",
            "0: 480x640 1 person, 1 bicycle, 164.3ms\n",
            "Speed: 2.9ms preprocess, 164.3ms inference, 1.8ms postprocess per image at shape (1, 3, 480, 640)\n"
          ]
        },
        {
          "output_type": "stream",
          "name": "stderr",
          "text": [
            "INFO:werkzeug:127.0.0.1 - - [08/Aug/2025 08:46:48] \"POST /detect/frame HTTP/1.1\" 200 -\n"
          ]
        },
        {
          "output_type": "stream",
          "name": "stdout",
          "text": [
            "\n",
            "0: 480x640 1 person, 1 bicycle, 172.9ms\n",
            "Speed: 3.7ms preprocess, 172.9ms inference, 1.5ms postprocess per image at shape (1, 3, 480, 640)\n"
          ]
        },
        {
          "output_type": "stream",
          "name": "stderr",
          "text": [
            "INFO:werkzeug:127.0.0.1 - - [08/Aug/2025 08:46:49] \"POST /detect/frame HTTP/1.1\" 200 -\n"
          ]
        },
        {
          "output_type": "stream",
          "name": "stdout",
          "text": [
            "\n",
            "0: 480x640 1 person, 1 bicycle, 187.0ms\n",
            "Speed: 3.6ms preprocess, 187.0ms inference, 1.3ms postprocess per image at shape (1, 3, 480, 640)\n"
          ]
        },
        {
          "output_type": "stream",
          "name": "stderr",
          "text": [
            "INFO:werkzeug:127.0.0.1 - - [08/Aug/2025 08:46:51] \"POST /detect/frame HTTP/1.1\" 200 -\n"
          ]
        },
        {
          "output_type": "stream",
          "name": "stdout",
          "text": [
            "\n",
            "0: 480x640 1 person, 1 bicycle, 164.0ms\n",
            "Speed: 3.6ms preprocess, 164.0ms inference, 1.3ms postprocess per image at shape (1, 3, 480, 640)\n"
          ]
        },
        {
          "output_type": "stream",
          "name": "stderr",
          "text": [
            "INFO:werkzeug:127.0.0.1 - - [08/Aug/2025 08:46:52] \"POST /detect/frame HTTP/1.1\" 200 -\n"
          ]
        },
        {
          "output_type": "stream",
          "name": "stdout",
          "text": [
            "\n",
            "0: 480x640 1 person, 1 bicycle, 192.3ms\n",
            "Speed: 3.7ms preprocess, 192.3ms inference, 1.8ms postprocess per image at shape (1, 3, 480, 640)\n"
          ]
        },
        {
          "output_type": "stream",
          "name": "stderr",
          "text": [
            "INFO:werkzeug:127.0.0.1 - - [08/Aug/2025 08:46:53] \"POST /detect/frame HTTP/1.1\" 200 -\n"
          ]
        },
        {
          "output_type": "stream",
          "name": "stdout",
          "text": [
            "\n",
            "0: 480x640 1 person, 1 bicycle, 178.9ms\n",
            "Speed: 4.2ms preprocess, 178.9ms inference, 1.8ms postprocess per image at shape (1, 3, 480, 640)\n"
          ]
        },
        {
          "output_type": "stream",
          "name": "stderr",
          "text": [
            "INFO:werkzeug:127.0.0.1 - - [08/Aug/2025 08:46:55] \"POST /detect/frame HTTP/1.1\" 200 -\n"
          ]
        },
        {
          "output_type": "stream",
          "name": "stdout",
          "text": [
            "\n",
            "0: 480x640 1 person, 1 bicycle, 264.1ms\n",
            "Speed: 4.9ms preprocess, 264.1ms inference, 2.3ms postprocess per image at shape (1, 3, 480, 640)\n"
          ]
        },
        {
          "output_type": "stream",
          "name": "stderr",
          "text": [
            "INFO:werkzeug:127.0.0.1 - - [08/Aug/2025 08:46:56] \"POST /detect/frame HTTP/1.1\" 200 -\n"
          ]
        },
        {
          "output_type": "stream",
          "name": "stdout",
          "text": [
            "\n",
            "0: 480x640 1 person, 1 bicycle, 274.4ms\n",
            "Speed: 5.2ms preprocess, 274.4ms inference, 2.0ms postprocess per image at shape (1, 3, 480, 640)\n"
          ]
        },
        {
          "output_type": "stream",
          "name": "stderr",
          "text": [
            "INFO:werkzeug:127.0.0.1 - - [08/Aug/2025 08:46:58] \"POST /detect/frame HTTP/1.1\" 200 -\n"
          ]
        },
        {
          "output_type": "stream",
          "name": "stdout",
          "text": [
            "\n",
            "0: 480x640 1 person, 1 bicycle, 189.4ms\n",
            "Speed: 3.8ms preprocess, 189.4ms inference, 1.8ms postprocess per image at shape (1, 3, 480, 640)\n"
          ]
        },
        {
          "output_type": "stream",
          "name": "stderr",
          "text": [
            "INFO:werkzeug:127.0.0.1 - - [08/Aug/2025 08:46:59] \"POST /detect/frame HTTP/1.1\" 200 -\n"
          ]
        },
        {
          "output_type": "stream",
          "name": "stdout",
          "text": [
            "\n",
            "0: 480x640 1 person, 1 bicycle, 182.2ms\n",
            "Speed: 3.6ms preprocess, 182.2ms inference, 1.7ms postprocess per image at shape (1, 3, 480, 640)\n"
          ]
        },
        {
          "output_type": "stream",
          "name": "stderr",
          "text": [
            "INFO:werkzeug:127.0.0.1 - - [08/Aug/2025 08:47:00] \"POST /detect/frame HTTP/1.1\" 200 -\n"
          ]
        },
        {
          "output_type": "stream",
          "name": "stdout",
          "text": [
            "\n",
            "0: 480x640 1 person, 1 bicycle, 180.1ms\n",
            "Speed: 3.7ms preprocess, 180.1ms inference, 1.8ms postprocess per image at shape (1, 3, 480, 640)\n"
          ]
        },
        {
          "output_type": "stream",
          "name": "stderr",
          "text": [
            "INFO:werkzeug:127.0.0.1 - - [08/Aug/2025 08:47:02] \"POST /detect/frame HTTP/1.1\" 200 -\n"
          ]
        },
        {
          "output_type": "stream",
          "name": "stdout",
          "text": [
            "\n",
            "0: 480x640 1 person, 1 bicycle, 180.1ms\n",
            "Speed: 3.6ms preprocess, 180.1ms inference, 1.6ms postprocess per image at shape (1, 3, 480, 640)\n"
          ]
        },
        {
          "output_type": "stream",
          "name": "stderr",
          "text": [
            "INFO:werkzeug:127.0.0.1 - - [08/Aug/2025 08:47:03] \"POST /detect/frame HTTP/1.1\" 200 -\n"
          ]
        },
        {
          "output_type": "stream",
          "name": "stdout",
          "text": [
            "\n",
            "0: 480x640 1 person, 1 bicycle, 166.7ms\n",
            "Speed: 3.3ms preprocess, 166.7ms inference, 1.5ms postprocess per image at shape (1, 3, 480, 640)\n"
          ]
        },
        {
          "output_type": "stream",
          "name": "stderr",
          "text": [
            "INFO:werkzeug:127.0.0.1 - - [08/Aug/2025 08:47:04] \"POST /detect/frame HTTP/1.1\" 200 -\n"
          ]
        },
        {
          "output_type": "stream",
          "name": "stdout",
          "text": [
            "\n",
            "0: 480x640 1 person, 1 bicycle, 162.4ms\n",
            "Speed: 3.0ms preprocess, 162.4ms inference, 1.5ms postprocess per image at shape (1, 3, 480, 640)\n"
          ]
        },
        {
          "output_type": "stream",
          "name": "stderr",
          "text": [
            "INFO:werkzeug:127.0.0.1 - - [08/Aug/2025 08:47:06] \"POST /detect/frame HTTP/1.1\" 200 -\n"
          ]
        },
        {
          "output_type": "stream",
          "name": "stdout",
          "text": [
            "\n",
            "0: 480x640 1 person, 1 bicycle, 190.2ms\n",
            "Speed: 3.8ms preprocess, 190.2ms inference, 1.4ms postprocess per image at shape (1, 3, 480, 640)\n"
          ]
        },
        {
          "output_type": "stream",
          "name": "stderr",
          "text": [
            "INFO:werkzeug:127.0.0.1 - - [08/Aug/2025 08:47:07] \"POST /detect/frame HTTP/1.1\" 200 -\n"
          ]
        },
        {
          "output_type": "stream",
          "name": "stdout",
          "text": [
            "\n",
            "0: 480x640 1 person, 1 bicycle, 273.5ms\n",
            "Speed: 3.8ms preprocess, 273.5ms inference, 2.1ms postprocess per image at shape (1, 3, 480, 640)\n"
          ]
        },
        {
          "output_type": "stream",
          "name": "stderr",
          "text": [
            "INFO:werkzeug:127.0.0.1 - - [08/Aug/2025 08:47:08] \"POST /detect/frame HTTP/1.1\" 200 -\n"
          ]
        },
        {
          "output_type": "stream",
          "name": "stdout",
          "text": [
            "\n",
            "0: 480x640 1 person, 1 bicycle, 245.4ms\n",
            "Speed: 6.4ms preprocess, 245.4ms inference, 1.6ms postprocess per image at shape (1, 3, 480, 640)\n"
          ]
        },
        {
          "output_type": "stream",
          "name": "stderr",
          "text": [
            "INFO:werkzeug:127.0.0.1 - - [08/Aug/2025 08:47:10] \"POST /detect/frame HTTP/1.1\" 200 -\n"
          ]
        },
        {
          "output_type": "stream",
          "name": "stdout",
          "text": [
            "\n",
            "0: 480x640 1 person, 1 bicycle, 179.7ms\n",
            "Speed: 4.5ms preprocess, 179.7ms inference, 1.5ms postprocess per image at shape (1, 3, 480, 640)\n"
          ]
        },
        {
          "output_type": "stream",
          "name": "stderr",
          "text": [
            "INFO:werkzeug:127.0.0.1 - - [08/Aug/2025 08:47:11] \"POST /detect/frame HTTP/1.1\" 200 -\n"
          ]
        },
        {
          "output_type": "stream",
          "name": "stdout",
          "text": [
            "\n",
            "0: 480x640 1 person, 1 bicycle, 160.0ms\n",
            "Speed: 3.1ms preprocess, 160.0ms inference, 1.3ms postprocess per image at shape (1, 3, 480, 640)\n"
          ]
        },
        {
          "output_type": "stream",
          "name": "stderr",
          "text": [
            "INFO:werkzeug:127.0.0.1 - - [08/Aug/2025 08:47:12] \"POST /detect/frame HTTP/1.1\" 200 -\n"
          ]
        },
        {
          "output_type": "stream",
          "name": "stdout",
          "text": [
            "\n",
            "0: 480x640 1 person, 1 bicycle, 181.6ms\n",
            "Speed: 3.7ms preprocess, 181.6ms inference, 1.7ms postprocess per image at shape (1, 3, 480, 640)\n"
          ]
        },
        {
          "output_type": "stream",
          "name": "stderr",
          "text": [
            "INFO:werkzeug:127.0.0.1 - - [08/Aug/2025 08:47:14] \"POST /detect/frame HTTP/1.1\" 200 -\n"
          ]
        },
        {
          "output_type": "stream",
          "name": "stdout",
          "text": [
            "\n",
            "0: 480x640 1 person, 1 bicycle, 172.0ms\n",
            "Speed: 3.7ms preprocess, 172.0ms inference, 2.1ms postprocess per image at shape (1, 3, 480, 640)\n"
          ]
        },
        {
          "output_type": "stream",
          "name": "stderr",
          "text": [
            "INFO:werkzeug:127.0.0.1 - - [08/Aug/2025 08:47:15] \"POST /detect/frame HTTP/1.1\" 200 -\n"
          ]
        },
        {
          "output_type": "stream",
          "name": "stdout",
          "text": [
            "\n",
            "0: 480x640 1 person, 1 bicycle, 165.8ms\n",
            "Speed: 3.2ms preprocess, 165.8ms inference, 1.3ms postprocess per image at shape (1, 3, 480, 640)\n"
          ]
        },
        {
          "output_type": "stream",
          "name": "stderr",
          "text": [
            "INFO:werkzeug:127.0.0.1 - - [08/Aug/2025 08:47:16] \"POST /detect/frame HTTP/1.1\" 200 -\n"
          ]
        },
        {
          "output_type": "stream",
          "name": "stdout",
          "text": [
            "\n",
            "0: 480x640 1 person, 1 bicycle, 178.6ms\n",
            "Speed: 4.7ms preprocess, 178.6ms inference, 1.7ms postprocess per image at shape (1, 3, 480, 640)\n"
          ]
        },
        {
          "output_type": "stream",
          "name": "stderr",
          "text": [
            "INFO:werkzeug:127.0.0.1 - - [08/Aug/2025 08:47:18] \"POST /detect/frame HTTP/1.1\" 200 -\n"
          ]
        },
        {
          "output_type": "stream",
          "name": "stdout",
          "text": [
            "\n",
            "0: 480x640 1 person, 1 bicycle, 182.1ms\n",
            "Speed: 3.9ms preprocess, 182.1ms inference, 1.7ms postprocess per image at shape (1, 3, 480, 640)\n"
          ]
        },
        {
          "output_type": "stream",
          "name": "stderr",
          "text": [
            "INFO:werkzeug:127.0.0.1 - - [08/Aug/2025 08:47:19] \"POST /detect/frame HTTP/1.1\" 200 -\n"
          ]
        },
        {
          "output_type": "stream",
          "name": "stdout",
          "text": [
            "\n",
            "0: 480x640 1 person, 1 bicycle, 174.8ms\n",
            "Speed: 4.0ms preprocess, 174.8ms inference, 1.3ms postprocess per image at shape (1, 3, 480, 640)\n"
          ]
        },
        {
          "output_type": "stream",
          "name": "stderr",
          "text": [
            "INFO:werkzeug:127.0.0.1 - - [08/Aug/2025 08:47:20] \"POST /detect/frame HTTP/1.1\" 200 -\n"
          ]
        },
        {
          "output_type": "stream",
          "name": "stdout",
          "text": [
            "\n",
            "0: 480x640 1 person, 1 bicycle, 260.5ms\n",
            "Speed: 3.1ms preprocess, 260.5ms inference, 2.0ms postprocess per image at shape (1, 3, 480, 640)\n"
          ]
        },
        {
          "output_type": "stream",
          "name": "stderr",
          "text": [
            "INFO:werkzeug:127.0.0.1 - - [08/Aug/2025 08:47:22] \"POST /detect/frame HTTP/1.1\" 200 -\n"
          ]
        },
        {
          "output_type": "stream",
          "name": "stdout",
          "text": [
            "\n",
            "0: 480x640 1 person, 1 bicycle, 239.1ms\n",
            "Speed: 2.8ms preprocess, 239.1ms inference, 2.0ms postprocess per image at shape (1, 3, 480, 640)\n"
          ]
        },
        {
          "output_type": "stream",
          "name": "stderr",
          "text": [
            "INFO:werkzeug:127.0.0.1 - - [08/Aug/2025 08:47:23] \"POST /detect/frame HTTP/1.1\" 200 -\n"
          ]
        },
        {
          "output_type": "stream",
          "name": "stdout",
          "text": [
            "\n",
            "0: 480x640 1 person, 1 bicycle, 189.0ms\n",
            "Speed: 4.4ms preprocess, 189.0ms inference, 2.9ms postprocess per image at shape (1, 3, 480, 640)\n"
          ]
        },
        {
          "output_type": "stream",
          "name": "stderr",
          "text": [
            "INFO:werkzeug:127.0.0.1 - - [08/Aug/2025 08:47:25] \"POST /detect/frame HTTP/1.1\" 200 -\n"
          ]
        },
        {
          "output_type": "stream",
          "name": "stdout",
          "text": [
            "\n",
            "0: 480x640 1 person, 1 bicycle, 165.4ms\n",
            "Speed: 4.4ms preprocess, 165.4ms inference, 1.4ms postprocess per image at shape (1, 3, 480, 640)\n"
          ]
        },
        {
          "output_type": "stream",
          "name": "stderr",
          "text": [
            "INFO:werkzeug:127.0.0.1 - - [08/Aug/2025 08:47:26] \"POST /detect/frame HTTP/1.1\" 200 -\n"
          ]
        },
        {
          "output_type": "stream",
          "name": "stdout",
          "text": [
            "\n",
            "0: 480x640 1 person, 1 bicycle, 175.9ms\n",
            "Speed: 3.8ms preprocess, 175.9ms inference, 1.9ms postprocess per image at shape (1, 3, 480, 640)\n"
          ]
        },
        {
          "output_type": "stream",
          "name": "stderr",
          "text": [
            "INFO:werkzeug:127.0.0.1 - - [08/Aug/2025 08:47:27] \"POST /detect/frame HTTP/1.1\" 200 -\n"
          ]
        },
        {
          "output_type": "stream",
          "name": "stdout",
          "text": [
            "\n",
            "0: 480x640 1 person, 1 bicycle, 169.2ms\n",
            "Speed: 3.4ms preprocess, 169.2ms inference, 1.5ms postprocess per image at shape (1, 3, 480, 640)\n"
          ]
        },
        {
          "output_type": "stream",
          "name": "stderr",
          "text": [
            "INFO:werkzeug:127.0.0.1 - - [08/Aug/2025 08:47:28] \"POST /detect/frame HTTP/1.1\" 200 -\n"
          ]
        },
        {
          "output_type": "stream",
          "name": "stdout",
          "text": [
            "\n",
            "0: 480x640 1 person, 1 bicycle, 203.7ms\n",
            "Speed: 6.1ms preprocess, 203.7ms inference, 2.0ms postprocess per image at shape (1, 3, 480, 640)\n"
          ]
        },
        {
          "output_type": "stream",
          "name": "stderr",
          "text": [
            "INFO:werkzeug:127.0.0.1 - - [08/Aug/2025 08:47:30] \"POST /detect/frame HTTP/1.1\" 200 -\n"
          ]
        },
        {
          "output_type": "stream",
          "name": "stdout",
          "text": [
            "\n",
            "0: 480x640 1 person, 1 bicycle, 165.3ms\n",
            "Speed: 3.3ms preprocess, 165.3ms inference, 1.3ms postprocess per image at shape (1, 3, 480, 640)\n"
          ]
        },
        {
          "output_type": "stream",
          "name": "stderr",
          "text": [
            "INFO:werkzeug:127.0.0.1 - - [08/Aug/2025 08:47:31] \"POST /detect/frame HTTP/1.1\" 200 -\n"
          ]
        },
        {
          "output_type": "stream",
          "name": "stdout",
          "text": [
            "\n",
            "0: 480x640 1 person, 1 bicycle, 267.8ms\n",
            "Speed: 3.2ms preprocess, 267.8ms inference, 2.7ms postprocess per image at shape (1, 3, 480, 640)\n"
          ]
        },
        {
          "output_type": "stream",
          "name": "stderr",
          "text": [
            "INFO:werkzeug:127.0.0.1 - - [08/Aug/2025 08:47:33] \"POST /detect/frame HTTP/1.1\" 200 -\n"
          ]
        },
        {
          "output_type": "stream",
          "name": "stdout",
          "text": [
            "\n",
            "0: 480x640 1 person, 1 bicycle, 301.5ms\n",
            "Speed: 5.5ms preprocess, 301.5ms inference, 1.9ms postprocess per image at shape (1, 3, 480, 640)\n"
          ]
        },
        {
          "output_type": "stream",
          "name": "stderr",
          "text": [
            "INFO:werkzeug:127.0.0.1 - - [08/Aug/2025 08:47:34] \"POST /detect/frame HTTP/1.1\" 200 -\n"
          ]
        },
        {
          "output_type": "stream",
          "name": "stdout",
          "text": [
            "\n",
            "0: 480x640 1 person, 1 bicycle, 316.3ms\n",
            "Speed: 6.0ms preprocess, 316.3ms inference, 2.6ms postprocess per image at shape (1, 3, 480, 640)\n"
          ]
        },
        {
          "output_type": "stream",
          "name": "stderr",
          "text": [
            "INFO:werkzeug:127.0.0.1 - - [08/Aug/2025 08:47:36] \"POST /detect/frame HTTP/1.1\" 200 -\n"
          ]
        },
        {
          "output_type": "stream",
          "name": "stdout",
          "text": [
            "\n",
            "0: 480x640 1 person, 1 bicycle, 248.2ms\n",
            "Speed: 3.3ms preprocess, 248.2ms inference, 1.8ms postprocess per image at shape (1, 3, 480, 640)\n"
          ]
        },
        {
          "output_type": "stream",
          "name": "stderr",
          "text": [
            "INFO:werkzeug:127.0.0.1 - - [08/Aug/2025 08:47:37] \"POST /detect/frame HTTP/1.1\" 200 -\n"
          ]
        },
        {
          "output_type": "stream",
          "name": "stdout",
          "text": [
            "\n",
            "0: 480x640 1 person, 1 bicycle, 173.7ms\n",
            "Speed: 3.1ms preprocess, 173.7ms inference, 1.3ms postprocess per image at shape (1, 3, 480, 640)\n"
          ]
        },
        {
          "output_type": "stream",
          "name": "stderr",
          "text": [
            "INFO:werkzeug:127.0.0.1 - - [08/Aug/2025 08:47:38] \"POST /detect/frame HTTP/1.1\" 200 -\n"
          ]
        },
        {
          "output_type": "stream",
          "name": "stdout",
          "text": [
            "\n",
            "0: 480x640 1 person, 1 bicycle, 162.6ms\n",
            "Speed: 3.0ms preprocess, 162.6ms inference, 1.3ms postprocess per image at shape (1, 3, 480, 640)\n"
          ]
        },
        {
          "output_type": "stream",
          "name": "stderr",
          "text": [
            "INFO:werkzeug:127.0.0.1 - - [08/Aug/2025 08:47:40] \"POST /detect/frame HTTP/1.1\" 200 -\n"
          ]
        },
        {
          "output_type": "stream",
          "name": "stdout",
          "text": [
            "\n",
            "0: 480x640 1 person, 1 bicycle, 166.9ms\n",
            "Speed: 5.5ms preprocess, 166.9ms inference, 1.4ms postprocess per image at shape (1, 3, 480, 640)\n"
          ]
        },
        {
          "output_type": "stream",
          "name": "stderr",
          "text": [
            "INFO:werkzeug:127.0.0.1 - - [08/Aug/2025 08:47:41] \"POST /detect/frame HTTP/1.1\" 200 -\n"
          ]
        },
        {
          "output_type": "stream",
          "name": "stdout",
          "text": [
            "\n",
            "0: 480x640 1 person, 1 bicycle, 167.6ms\n",
            "Speed: 2.9ms preprocess, 167.6ms inference, 1.3ms postprocess per image at shape (1, 3, 480, 640)\n"
          ]
        },
        {
          "output_type": "stream",
          "name": "stderr",
          "text": [
            "INFO:werkzeug:127.0.0.1 - - [08/Aug/2025 08:47:42] \"POST /detect/frame HTTP/1.1\" 200 -\n"
          ]
        },
        {
          "output_type": "stream",
          "name": "stdout",
          "text": [
            "\n",
            "0: 480x640 1 person, 1 bicycle, 207.6ms\n",
            "Speed: 3.9ms preprocess, 207.6ms inference, 1.9ms postprocess per image at shape (1, 3, 480, 640)\n"
          ]
        },
        {
          "output_type": "stream",
          "name": "stderr",
          "text": [
            "INFO:werkzeug:127.0.0.1 - - [08/Aug/2025 08:47:43] \"POST /detect/frame HTTP/1.1\" 200 -\n"
          ]
        },
        {
          "output_type": "stream",
          "name": "stdout",
          "text": [
            "\n",
            "0: 480x640 1 person, 1 bicycle, 166.6ms\n",
            "Speed: 3.8ms preprocess, 166.6ms inference, 1.4ms postprocess per image at shape (1, 3, 480, 640)\n"
          ]
        },
        {
          "output_type": "stream",
          "name": "stderr",
          "text": [
            "INFO:werkzeug:127.0.0.1 - - [08/Aug/2025 08:47:45] \"POST /detect/frame HTTP/1.1\" 200 -\n"
          ]
        },
        {
          "output_type": "stream",
          "name": "stdout",
          "text": [
            "\n",
            "0: 480x640 1 fire hydrant, 294.2ms\n",
            "Speed: 5.8ms preprocess, 294.2ms inference, 2.0ms postprocess per image at shape (1, 3, 480, 640)\n"
          ]
        },
        {
          "output_type": "stream",
          "name": "stderr",
          "text": [
            "INFO:werkzeug:127.0.0.1 - - [08/Aug/2025 08:48:01] \"POST /detect/frame HTTP/1.1\" 200 -\n"
          ]
        },
        {
          "output_type": "stream",
          "name": "stdout",
          "text": [
            "\n",
            "0: 480x640 1 person, 252.9ms\n",
            "Speed: 5.3ms preprocess, 252.9ms inference, 2.1ms postprocess per image at shape (1, 3, 480, 640)\n"
          ]
        },
        {
          "output_type": "stream",
          "name": "stderr",
          "text": [
            "INFO:werkzeug:127.0.0.1 - - [08/Aug/2025 08:48:02] \"POST /detect/frame HTTP/1.1\" 200 -\n"
          ]
        },
        {
          "output_type": "stream",
          "name": "stdout",
          "text": [
            "\n",
            "0: 480x640 1 person, 1 bicycle, 184.6ms\n",
            "Speed: 3.8ms preprocess, 184.6ms inference, 1.7ms postprocess per image at shape (1, 3, 480, 640)\n"
          ]
        },
        {
          "output_type": "stream",
          "name": "stderr",
          "text": [
            "INFO:werkzeug:127.0.0.1 - - [08/Aug/2025 08:48:04] \"POST /detect/frame HTTP/1.1\" 200 -\n"
          ]
        },
        {
          "output_type": "stream",
          "name": "stdout",
          "text": [
            "\n",
            "0: 480x640 1 person, 1 bicycle, 183.4ms\n",
            "Speed: 3.9ms preprocess, 183.4ms inference, 1.6ms postprocess per image at shape (1, 3, 480, 640)\n"
          ]
        },
        {
          "output_type": "stream",
          "name": "stderr",
          "text": [
            "INFO:werkzeug:127.0.0.1 - - [08/Aug/2025 08:48:05] \"POST /detect/frame HTTP/1.1\" 200 -\n"
          ]
        },
        {
          "output_type": "stream",
          "name": "stdout",
          "text": [
            "\n",
            "0: 480x640 1 person, 1 bicycle, 165.8ms\n",
            "Speed: 3.7ms preprocess, 165.8ms inference, 1.6ms postprocess per image at shape (1, 3, 480, 640)\n"
          ]
        },
        {
          "output_type": "stream",
          "name": "stderr",
          "text": [
            "INFO:werkzeug:127.0.0.1 - - [08/Aug/2025 08:48:06] \"POST /detect/frame HTTP/1.1\" 200 -\n"
          ]
        },
        {
          "output_type": "stream",
          "name": "stdout",
          "text": [
            "\n",
            "0: 480x640 1 person, 1 bicycle, 184.2ms\n",
            "Speed: 5.1ms preprocess, 184.2ms inference, 1.7ms postprocess per image at shape (1, 3, 480, 640)\n"
          ]
        },
        {
          "output_type": "stream",
          "name": "stderr",
          "text": [
            "INFO:werkzeug:127.0.0.1 - - [08/Aug/2025 08:48:08] \"POST /detect/frame HTTP/1.1\" 200 -\n"
          ]
        },
        {
          "output_type": "stream",
          "name": "stdout",
          "text": [
            "\n",
            "0: 480x640 1 person, 1 bicycle, 176.7ms\n",
            "Speed: 3.4ms preprocess, 176.7ms inference, 1.8ms postprocess per image at shape (1, 3, 480, 640)\n"
          ]
        },
        {
          "output_type": "stream",
          "name": "stderr",
          "text": [
            "INFO:werkzeug:127.0.0.1 - - [08/Aug/2025 08:48:09] \"POST /detect/frame HTTP/1.1\" 200 -\n"
          ]
        },
        {
          "output_type": "stream",
          "name": "stdout",
          "text": [
            "\n",
            "0: 480x640 1 person, 1 bicycle, 163.5ms\n",
            "Speed: 3.3ms preprocess, 163.5ms inference, 1.4ms postprocess per image at shape (1, 3, 480, 640)\n"
          ]
        },
        {
          "output_type": "stream",
          "name": "stderr",
          "text": [
            "INFO:werkzeug:127.0.0.1 - - [08/Aug/2025 08:48:10] \"POST /detect/frame HTTP/1.1\" 200 -\n"
          ]
        },
        {
          "output_type": "stream",
          "name": "stdout",
          "text": [
            "\n",
            "0: 480x640 1 person, 1 bicycle, 162.4ms\n",
            "Speed: 3.0ms preprocess, 162.4ms inference, 1.3ms postprocess per image at shape (1, 3, 480, 640)\n"
          ]
        },
        {
          "output_type": "stream",
          "name": "stderr",
          "text": [
            "INFO:werkzeug:127.0.0.1 - - [08/Aug/2025 08:48:12] \"POST /detect/frame HTTP/1.1\" 200 -\n"
          ]
        },
        {
          "output_type": "stream",
          "name": "stdout",
          "text": [
            "\n",
            "0: 480x640 1 person, 1 bicycle, 163.0ms\n",
            "Speed: 3.0ms preprocess, 163.0ms inference, 1.3ms postprocess per image at shape (1, 3, 480, 640)\n"
          ]
        },
        {
          "output_type": "stream",
          "name": "stderr",
          "text": [
            "INFO:werkzeug:127.0.0.1 - - [08/Aug/2025 08:48:13] \"POST /detect/frame HTTP/1.1\" 200 -\n"
          ]
        },
        {
          "output_type": "stream",
          "name": "stdout",
          "text": [
            "\n",
            "0: 480x640 1 person, 1 bicycle, 275.7ms\n",
            "Speed: 6.7ms preprocess, 275.7ms inference, 2.7ms postprocess per image at shape (1, 3, 480, 640)\n"
          ]
        },
        {
          "output_type": "stream",
          "name": "stderr",
          "text": [
            "INFO:werkzeug:127.0.0.1 - - [08/Aug/2025 08:48:14] \"POST /detect/frame HTTP/1.1\" 200 -\n"
          ]
        },
        {
          "output_type": "stream",
          "name": "stdout",
          "text": [
            "\n",
            "0: 480x640 1 person, 1 bicycle, 301.7ms\n",
            "Speed: 3.6ms preprocess, 301.7ms inference, 2.9ms postprocess per image at shape (1, 3, 480, 640)\n"
          ]
        },
        {
          "output_type": "stream",
          "name": "stderr",
          "text": [
            "INFO:werkzeug:127.0.0.1 - - [08/Aug/2025 08:48:16] \"POST /detect/frame HTTP/1.1\" 200 -\n"
          ]
        },
        {
          "output_type": "stream",
          "name": "stdout",
          "text": [
            "\n",
            "0: 480x640 1 person, 1 bicycle, 171.2ms\n",
            "Speed: 3.2ms preprocess, 171.2ms inference, 1.4ms postprocess per image at shape (1, 3, 480, 640)\n"
          ]
        },
        {
          "output_type": "stream",
          "name": "stderr",
          "text": [
            "INFO:werkzeug:127.0.0.1 - - [08/Aug/2025 08:48:17] \"POST /detect/frame HTTP/1.1\" 200 -\n"
          ]
        },
        {
          "output_type": "stream",
          "name": "stdout",
          "text": [
            "\n",
            "0: 480x640 1 person, 1 bicycle, 179.5ms\n",
            "Speed: 4.0ms preprocess, 179.5ms inference, 1.8ms postprocess per image at shape (1, 3, 480, 640)\n"
          ]
        },
        {
          "output_type": "stream",
          "name": "stderr",
          "text": [
            "INFO:werkzeug:127.0.0.1 - - [08/Aug/2025 08:48:18] \"POST /detect/frame HTTP/1.1\" 200 -\n"
          ]
        },
        {
          "output_type": "stream",
          "name": "stdout",
          "text": [
            "\n",
            "0: 480x640 1 person, 1 bicycle, 184.8ms\n",
            "Speed: 3.4ms preprocess, 184.8ms inference, 1.5ms postprocess per image at shape (1, 3, 480, 640)\n"
          ]
        },
        {
          "output_type": "stream",
          "name": "stderr",
          "text": [
            "INFO:werkzeug:127.0.0.1 - - [08/Aug/2025 08:48:20] \"POST /detect/frame HTTP/1.1\" 200 -\n"
          ]
        },
        {
          "output_type": "stream",
          "name": "stdout",
          "text": [
            "\n",
            "0: 480x640 1 person, 1 bicycle, 185.3ms\n",
            "Speed: 3.7ms preprocess, 185.3ms inference, 1.8ms postprocess per image at shape (1, 3, 480, 640)\n"
          ]
        },
        {
          "output_type": "stream",
          "name": "stderr",
          "text": [
            "INFO:werkzeug:127.0.0.1 - - [08/Aug/2025 08:48:21] \"POST /detect/frame HTTP/1.1\" 200 -\n"
          ]
        },
        {
          "output_type": "stream",
          "name": "stdout",
          "text": [
            "\n",
            "0: 480x640 1 person, 1 bicycle, 183.3ms\n",
            "Speed: 4.4ms preprocess, 183.3ms inference, 1.7ms postprocess per image at shape (1, 3, 480, 640)\n"
          ]
        },
        {
          "output_type": "stream",
          "name": "stderr",
          "text": [
            "INFO:werkzeug:127.0.0.1 - - [08/Aug/2025 08:48:22] \"POST /detect/frame HTTP/1.1\" 200 -\n"
          ]
        },
        {
          "output_type": "stream",
          "name": "stdout",
          "text": [
            "\n",
            "0: 480x640 1 person, 1 bicycle, 171.2ms\n",
            "Speed: 4.3ms preprocess, 171.2ms inference, 1.8ms postprocess per image at shape (1, 3, 480, 640)\n"
          ]
        },
        {
          "output_type": "stream",
          "name": "stderr",
          "text": [
            "INFO:werkzeug:127.0.0.1 - - [08/Aug/2025 08:48:24] \"POST /detect/frame HTTP/1.1\" 200 -\n"
          ]
        },
        {
          "output_type": "stream",
          "name": "stdout",
          "text": [
            "\n",
            "0: 480x640 1 person, 1 bicycle, 197.3ms\n",
            "Speed: 3.7ms preprocess, 197.3ms inference, 1.9ms postprocess per image at shape (1, 3, 480, 640)\n"
          ]
        },
        {
          "output_type": "stream",
          "name": "stderr",
          "text": [
            "INFO:werkzeug:127.0.0.1 - - [08/Aug/2025 08:48:25] \"POST /detect/frame HTTP/1.1\" 200 -\n"
          ]
        },
        {
          "output_type": "stream",
          "name": "stdout",
          "text": [
            "\n",
            "0: 480x640 1 person, 1 bicycle, 168.2ms\n",
            "Speed: 4.2ms preprocess, 168.2ms inference, 2.0ms postprocess per image at shape (1, 3, 480, 640)\n"
          ]
        },
        {
          "output_type": "stream",
          "name": "stderr",
          "text": [
            "INFO:werkzeug:127.0.0.1 - - [08/Aug/2025 08:48:26] \"POST /detect/frame HTTP/1.1\" 200 -\n"
          ]
        },
        {
          "output_type": "stream",
          "name": "stdout",
          "text": [
            "\n",
            "0: 480x640 1 person, 1 bicycle, 271.5ms\n",
            "Speed: 3.7ms preprocess, 271.5ms inference, 2.2ms postprocess per image at shape (1, 3, 480, 640)\n"
          ]
        },
        {
          "output_type": "stream",
          "name": "stderr",
          "text": [
            "INFO:werkzeug:127.0.0.1 - - [08/Aug/2025 08:48:28] \"POST /detect/frame HTTP/1.1\" 200 -\n"
          ]
        },
        {
          "output_type": "stream",
          "name": "stdout",
          "text": [
            "\n",
            "0: 480x640 1 person, 1 bicycle, 292.7ms\n",
            "Speed: 3.7ms preprocess, 292.7ms inference, 2.4ms postprocess per image at shape (1, 3, 480, 640)\n"
          ]
        },
        {
          "output_type": "stream",
          "name": "stderr",
          "text": [
            "INFO:werkzeug:127.0.0.1 - - [08/Aug/2025 08:48:29] \"POST /detect/frame HTTP/1.1\" 200 -\n"
          ]
        },
        {
          "output_type": "stream",
          "name": "stdout",
          "text": [
            "\n",
            "0: 480x640 1 person, 1 bicycle, 170.0ms\n",
            "Speed: 3.2ms preprocess, 170.0ms inference, 1.6ms postprocess per image at shape (1, 3, 480, 640)\n"
          ]
        },
        {
          "output_type": "stream",
          "name": "stderr",
          "text": [
            "INFO:werkzeug:127.0.0.1 - - [08/Aug/2025 08:48:31] \"POST /detect/frame HTTP/1.1\" 200 -\n"
          ]
        },
        {
          "output_type": "stream",
          "name": "stdout",
          "text": [
            "\n",
            "0: 480x640 1 person, 1 bicycle, 183.8ms\n",
            "Speed: 3.4ms preprocess, 183.8ms inference, 1.9ms postprocess per image at shape (1, 3, 480, 640)\n"
          ]
        },
        {
          "output_type": "stream",
          "name": "stderr",
          "text": [
            "INFO:werkzeug:127.0.0.1 - - [08/Aug/2025 08:48:32] \"POST /detect/frame HTTP/1.1\" 200 -\n"
          ]
        },
        {
          "output_type": "stream",
          "name": "stdout",
          "text": [
            "\n",
            "0: 480x640 1 person, 1 bicycle, 175.8ms\n",
            "Speed: 2.9ms preprocess, 175.8ms inference, 2.2ms postprocess per image at shape (1, 3, 480, 640)\n"
          ]
        },
        {
          "output_type": "stream",
          "name": "stderr",
          "text": [
            "INFO:werkzeug:127.0.0.1 - - [08/Aug/2025 08:48:33] \"POST /detect/frame HTTP/1.1\" 200 -\n"
          ]
        },
        {
          "output_type": "stream",
          "name": "stdout",
          "text": [
            "\n",
            "0: 480x640 1 person, 1 bicycle, 167.3ms\n",
            "Speed: 2.9ms preprocess, 167.3ms inference, 1.5ms postprocess per image at shape (1, 3, 480, 640)\n"
          ]
        },
        {
          "output_type": "stream",
          "name": "stderr",
          "text": [
            "INFO:werkzeug:127.0.0.1 - - [08/Aug/2025 08:48:35] \"POST /detect/frame HTTP/1.1\" 200 -\n"
          ]
        },
        {
          "output_type": "stream",
          "name": "stdout",
          "text": [
            "\n",
            "0: 480x640 1 person, 1 bicycle, 186.1ms\n",
            "Speed: 3.8ms preprocess, 186.1ms inference, 2.1ms postprocess per image at shape (1, 3, 480, 640)\n"
          ]
        },
        {
          "output_type": "stream",
          "name": "stderr",
          "text": [
            "INFO:werkzeug:127.0.0.1 - - [08/Aug/2025 08:48:36] \"POST /detect/frame HTTP/1.1\" 200 -\n"
          ]
        },
        {
          "output_type": "stream",
          "name": "stdout",
          "text": [
            "\n",
            "0: 480x640 1 person, 1 bicycle, 183.8ms\n",
            "Speed: 4.5ms preprocess, 183.8ms inference, 1.9ms postprocess per image at shape (1, 3, 480, 640)\n"
          ]
        },
        {
          "output_type": "stream",
          "name": "stderr",
          "text": [
            "INFO:werkzeug:127.0.0.1 - - [08/Aug/2025 08:48:37] \"POST /detect/frame HTTP/1.1\" 200 -\n"
          ]
        },
        {
          "output_type": "stream",
          "name": "stdout",
          "text": [
            "\n",
            "0: 480x640 1 person, 1 bicycle, 202.0ms\n",
            "Speed: 4.9ms preprocess, 202.0ms inference, 1.8ms postprocess per image at shape (1, 3, 480, 640)\n"
          ]
        },
        {
          "output_type": "stream",
          "name": "stderr",
          "text": [
            "INFO:werkzeug:127.0.0.1 - - [08/Aug/2025 08:48:39] \"POST /detect/frame HTTP/1.1\" 200 -\n"
          ]
        },
        {
          "output_type": "stream",
          "name": "stdout",
          "text": [
            "\n",
            "0: 480x640 1 person, 1 bicycle, 261.0ms\n",
            "Speed: 7.6ms preprocess, 261.0ms inference, 1.8ms postprocess per image at shape (1, 3, 480, 640)\n"
          ]
        },
        {
          "output_type": "stream",
          "name": "stderr",
          "text": [
            "INFO:werkzeug:127.0.0.1 - - [08/Aug/2025 08:48:40] \"POST /detect/frame HTTP/1.1\" 200 -\n"
          ]
        },
        {
          "output_type": "stream",
          "name": "stdout",
          "text": [
            "\n",
            "0: 480x640 1 person, 1 bicycle, 272.4ms\n",
            "Speed: 3.1ms preprocess, 272.4ms inference, 2.1ms postprocess per image at shape (1, 3, 480, 640)\n"
          ]
        },
        {
          "output_type": "stream",
          "name": "stderr",
          "text": [
            "INFO:werkzeug:127.0.0.1 - - [08/Aug/2025 08:48:41] \"POST /detect/frame HTTP/1.1\" 200 -\n"
          ]
        },
        {
          "output_type": "stream",
          "name": "stdout",
          "text": [
            "\n",
            "0: 480x640 1 person, 1 bicycle, 189.6ms\n",
            "Speed: 3.0ms preprocess, 189.6ms inference, 1.5ms postprocess per image at shape (1, 3, 480, 640)\n"
          ]
        },
        {
          "output_type": "stream",
          "name": "stderr",
          "text": [
            "INFO:werkzeug:127.0.0.1 - - [08/Aug/2025 08:48:43] \"POST /detect/frame HTTP/1.1\" 200 -\n"
          ]
        },
        {
          "output_type": "stream",
          "name": "stdout",
          "text": [
            "\n",
            "0: 480x640 1 person, 1 bicycle, 182.4ms\n",
            "Speed: 3.4ms preprocess, 182.4ms inference, 1.9ms postprocess per image at shape (1, 3, 480, 640)\n"
          ]
        },
        {
          "output_type": "stream",
          "name": "stderr",
          "text": [
            "INFO:werkzeug:127.0.0.1 - - [08/Aug/2025 08:48:44] \"POST /detect/frame HTTP/1.1\" 200 -\n"
          ]
        },
        {
          "output_type": "stream",
          "name": "stdout",
          "text": [
            "\n",
            "0: 480x640 1 person, 1 bicycle, 199.9ms\n",
            "Speed: 5.5ms preprocess, 199.9ms inference, 1.8ms postprocess per image at shape (1, 3, 480, 640)\n"
          ]
        },
        {
          "output_type": "stream",
          "name": "stderr",
          "text": [
            "INFO:werkzeug:127.0.0.1 - - [08/Aug/2025 08:48:45] \"POST /detect/frame HTTP/1.1\" 200 -\n"
          ]
        },
        {
          "output_type": "stream",
          "name": "stdout",
          "text": [
            "\n",
            "0: 480x640 1 person, 1 bicycle, 169.3ms\n",
            "Speed: 6.2ms preprocess, 169.3ms inference, 2.1ms postprocess per image at shape (1, 3, 480, 640)\n"
          ]
        },
        {
          "output_type": "stream",
          "name": "stderr",
          "text": [
            "INFO:werkzeug:127.0.0.1 - - [08/Aug/2025 08:48:47] \"POST /detect/frame HTTP/1.1\" 200 -\n"
          ]
        },
        {
          "output_type": "stream",
          "name": "stdout",
          "text": [
            "\n",
            "0: 480x640 1 person, 1 bicycle, 183.2ms\n",
            "Speed: 3.7ms preprocess, 183.2ms inference, 1.9ms postprocess per image at shape (1, 3, 480, 640)\n"
          ]
        },
        {
          "output_type": "stream",
          "name": "stderr",
          "text": [
            "INFO:werkzeug:127.0.0.1 - - [08/Aug/2025 08:48:48] \"POST /detect/frame HTTP/1.1\" 200 -\n"
          ]
        },
        {
          "output_type": "stream",
          "name": "stdout",
          "text": [
            "\n",
            "0: 480x640 1 person, 1 bicycle, 170.1ms\n",
            "Speed: 3.2ms preprocess, 170.1ms inference, 1.5ms postprocess per image at shape (1, 3, 480, 640)\n"
          ]
        },
        {
          "output_type": "stream",
          "name": "stderr",
          "text": [
            "INFO:werkzeug:127.0.0.1 - - [08/Aug/2025 08:48:50] \"POST /detect/frame HTTP/1.1\" 200 -\n"
          ]
        },
        {
          "output_type": "stream",
          "name": "stdout",
          "text": [
            "\n",
            "0: 480x640 1 person, 1 bicycle, 190.8ms\n",
            "Speed: 12.6ms preprocess, 190.8ms inference, 2.3ms postprocess per image at shape (1, 3, 480, 640)\n"
          ]
        },
        {
          "output_type": "stream",
          "name": "stderr",
          "text": [
            "INFO:werkzeug:127.0.0.1 - - [08/Aug/2025 08:48:51] \"POST /detect/frame HTTP/1.1\" 200 -\n"
          ]
        },
        {
          "output_type": "stream",
          "name": "stdout",
          "text": [
            "\n",
            "0: 480x640 1 person, 1 bicycle, 183.2ms\n",
            "Speed: 3.7ms preprocess, 183.2ms inference, 1.7ms postprocess per image at shape (1, 3, 480, 640)\n"
          ]
        },
        {
          "output_type": "stream",
          "name": "stderr",
          "text": [
            "INFO:werkzeug:127.0.0.1 - - [08/Aug/2025 08:48:52] \"POST /detect/frame HTTP/1.1\" 200 -\n"
          ]
        },
        {
          "output_type": "stream",
          "name": "stdout",
          "text": [
            "\n",
            "0: 480x640 1 person, 1 bicycle, 287.7ms\n",
            "Speed: 4.3ms preprocess, 287.7ms inference, 2.4ms postprocess per image at shape (1, 3, 480, 640)\n"
          ]
        },
        {
          "output_type": "stream",
          "name": "stderr",
          "text": [
            "INFO:werkzeug:127.0.0.1 - - [08/Aug/2025 08:48:54] \"POST /detect/frame HTTP/1.1\" 200 -\n"
          ]
        },
        {
          "output_type": "stream",
          "name": "stdout",
          "text": [
            "\n",
            "0: 480x640 1 person, 1 bicycle, 287.5ms\n",
            "Speed: 6.9ms preprocess, 287.5ms inference, 2.6ms postprocess per image at shape (1, 3, 480, 640)\n"
          ]
        },
        {
          "output_type": "stream",
          "name": "stderr",
          "text": [
            "INFO:werkzeug:127.0.0.1 - - [08/Aug/2025 08:48:55] \"POST /detect/frame HTTP/1.1\" 200 -\n"
          ]
        },
        {
          "output_type": "stream",
          "name": "stdout",
          "text": [
            "\n",
            "0: 480x640 1 person, 1 bicycle, 187.1ms\n",
            "Speed: 3.8ms preprocess, 187.1ms inference, 1.8ms postprocess per image at shape (1, 3, 480, 640)\n"
          ]
        },
        {
          "output_type": "stream",
          "name": "stderr",
          "text": [
            "INFO:werkzeug:127.0.0.1 - - [08/Aug/2025 08:48:56] \"POST /detect/frame HTTP/1.1\" 200 -\n"
          ]
        },
        {
          "output_type": "stream",
          "name": "stdout",
          "text": [
            "\n",
            "0: 480x640 1 person, 1 bicycle, 189.2ms\n",
            "Speed: 3.8ms preprocess, 189.2ms inference, 1.7ms postprocess per image at shape (1, 3, 480, 640)\n"
          ]
        },
        {
          "output_type": "stream",
          "name": "stderr",
          "text": [
            "INFO:werkzeug:127.0.0.1 - - [08/Aug/2025 08:48:58] \"POST /detect/frame HTTP/1.1\" 200 -\n"
          ]
        },
        {
          "output_type": "stream",
          "name": "stdout",
          "text": [
            "\n",
            "0: 480x640 1 person, 1 bicycle, 168.2ms\n",
            "Speed: 3.3ms preprocess, 168.2ms inference, 1.5ms postprocess per image at shape (1, 3, 480, 640)\n"
          ]
        },
        {
          "output_type": "stream",
          "name": "stderr",
          "text": [
            "INFO:werkzeug:127.0.0.1 - - [08/Aug/2025 08:48:59] \"POST /detect/frame HTTP/1.1\" 200 -\n"
          ]
        },
        {
          "output_type": "stream",
          "name": "stdout",
          "text": [
            "\n",
            "0: 480x640 1 person, 1 bicycle, 197.7ms\n",
            "Speed: 3.6ms preprocess, 197.7ms inference, 1.8ms postprocess per image at shape (1, 3, 480, 640)\n"
          ]
        },
        {
          "output_type": "stream",
          "name": "stderr",
          "text": [
            "INFO:werkzeug:127.0.0.1 - - [08/Aug/2025 08:49:00] \"POST /detect/frame HTTP/1.1\" 200 -\n"
          ]
        },
        {
          "output_type": "stream",
          "name": "stdout",
          "text": [
            "\n",
            "0: 480x640 1 person, 1 bicycle, 167.3ms\n",
            "Speed: 3.4ms preprocess, 167.3ms inference, 1.6ms postprocess per image at shape (1, 3, 480, 640)\n"
          ]
        },
        {
          "output_type": "stream",
          "name": "stderr",
          "text": [
            "INFO:werkzeug:127.0.0.1 - - [08/Aug/2025 08:49:02] \"POST /detect/frame HTTP/1.1\" 200 -\n"
          ]
        },
        {
          "output_type": "stream",
          "name": "stdout",
          "text": [
            "\n",
            "0: 480x640 1 person, 1 bicycle, 198.4ms\n",
            "Speed: 3.9ms preprocess, 198.4ms inference, 1.8ms postprocess per image at shape (1, 3, 480, 640)\n"
          ]
        },
        {
          "output_type": "stream",
          "name": "stderr",
          "text": [
            "INFO:werkzeug:127.0.0.1 - - [08/Aug/2025 08:49:03] \"POST /detect/frame HTTP/1.1\" 200 -\n"
          ]
        },
        {
          "output_type": "stream",
          "name": "stdout",
          "text": [
            "\n",
            "0: 480x640 1 person, 1 bicycle, 169.9ms\n",
            "Speed: 3.4ms preprocess, 169.9ms inference, 1.5ms postprocess per image at shape (1, 3, 480, 640)\n"
          ]
        },
        {
          "output_type": "stream",
          "name": "stderr",
          "text": [
            "INFO:werkzeug:127.0.0.1 - - [08/Aug/2025 08:49:04] \"POST /detect/frame HTTP/1.1\" 200 -\n"
          ]
        },
        {
          "output_type": "stream",
          "name": "stdout",
          "text": [
            "\n",
            "0: 480x640 1 person, 1 bicycle, 278.7ms\n",
            "Speed: 6.1ms preprocess, 278.7ms inference, 2.4ms postprocess per image at shape (1, 3, 480, 640)\n"
          ]
        },
        {
          "output_type": "stream",
          "name": "stderr",
          "text": [
            "INFO:werkzeug:127.0.0.1 - - [08/Aug/2025 08:49:06] \"POST /detect/frame HTTP/1.1\" 200 -\n"
          ]
        },
        {
          "output_type": "stream",
          "name": "stdout",
          "text": [
            "\n",
            "0: 480x640 1 person, 1 bicycle, 262.7ms\n",
            "Speed: 5.5ms preprocess, 262.7ms inference, 1.9ms postprocess per image at shape (1, 3, 480, 640)\n"
          ]
        },
        {
          "output_type": "stream",
          "name": "stderr",
          "text": [
            "INFO:werkzeug:127.0.0.1 - - [08/Aug/2025 08:49:07] \"POST /detect/frame HTTP/1.1\" 200 -\n"
          ]
        },
        {
          "output_type": "stream",
          "name": "stdout",
          "text": [
            "\n",
            "0: 480x640 1 person, 1 bicycle, 227.4ms\n",
            "Speed: 4.0ms preprocess, 227.4ms inference, 1.7ms postprocess per image at shape (1, 3, 480, 640)\n"
          ]
        },
        {
          "output_type": "stream",
          "name": "stderr",
          "text": [
            "INFO:werkzeug:127.0.0.1 - - [08/Aug/2025 08:49:09] \"POST /detect/frame HTTP/1.1\" 200 -\n"
          ]
        },
        {
          "output_type": "stream",
          "name": "stdout",
          "text": [
            "\n",
            "0: 480x640 1 person, 1 bicycle, 182.9ms\n",
            "Speed: 3.6ms preprocess, 182.9ms inference, 1.7ms postprocess per image at shape (1, 3, 480, 640)\n"
          ]
        },
        {
          "output_type": "stream",
          "name": "stderr",
          "text": [
            "INFO:werkzeug:127.0.0.1 - - [08/Aug/2025 08:49:10] \"POST /detect/frame HTTP/1.1\" 200 -\n"
          ]
        },
        {
          "output_type": "stream",
          "name": "stdout",
          "text": [
            "\n",
            "0: 480x640 1 person, 1 bicycle, 170.9ms\n",
            "Speed: 3.4ms preprocess, 170.9ms inference, 1.5ms postprocess per image at shape (1, 3, 480, 640)\n"
          ]
        },
        {
          "output_type": "stream",
          "name": "stderr",
          "text": [
            "INFO:werkzeug:127.0.0.1 - - [08/Aug/2025 08:49:11] \"POST /detect/frame HTTP/1.1\" 200 -\n"
          ]
        },
        {
          "output_type": "stream",
          "name": "stdout",
          "text": [
            "\n",
            "0: 480x640 1 person, 1 bicycle, 165.3ms\n",
            "Speed: 3.0ms preprocess, 165.3ms inference, 1.4ms postprocess per image at shape (1, 3, 480, 640)\n"
          ]
        },
        {
          "output_type": "stream",
          "name": "stderr",
          "text": [
            "INFO:werkzeug:127.0.0.1 - - [08/Aug/2025 08:49:13] \"POST /detect/frame HTTP/1.1\" 200 -\n"
          ]
        },
        {
          "output_type": "stream",
          "name": "stdout",
          "text": [
            "\n",
            "0: 480x640 1 person, 1 bicycle, 201.5ms\n",
            "Speed: 3.8ms preprocess, 201.5ms inference, 1.9ms postprocess per image at shape (1, 3, 480, 640)\n"
          ]
        },
        {
          "output_type": "stream",
          "name": "stderr",
          "text": [
            "INFO:werkzeug:127.0.0.1 - - [08/Aug/2025 08:49:14] \"POST /detect/frame HTTP/1.1\" 200 -\n"
          ]
        },
        {
          "output_type": "stream",
          "name": "stdout",
          "text": [
            "\n",
            "0: 480x640 1 person, 1 bicycle, 185.0ms\n",
            "Speed: 5.8ms preprocess, 185.0ms inference, 1.9ms postprocess per image at shape (1, 3, 480, 640)\n"
          ]
        },
        {
          "output_type": "stream",
          "name": "stderr",
          "text": [
            "INFO:werkzeug:127.0.0.1 - - [08/Aug/2025 08:49:15] \"POST /detect/frame HTTP/1.1\" 200 -\n"
          ]
        },
        {
          "output_type": "stream",
          "name": "stdout",
          "text": [
            "\n",
            "0: 480x640 1 person, 1 bicycle, 186.0ms\n",
            "Speed: 3.6ms preprocess, 186.0ms inference, 1.7ms postprocess per image at shape (1, 3, 480, 640)\n"
          ]
        },
        {
          "output_type": "stream",
          "name": "stderr",
          "text": [
            "INFO:werkzeug:127.0.0.1 - - [08/Aug/2025 08:49:17] \"POST /detect/frame HTTP/1.1\" 200 -\n"
          ]
        },
        {
          "output_type": "stream",
          "name": "stdout",
          "text": [
            "\n",
            "0: 480x640 1 person, 1 bicycle, 1 chair, 198.9ms\n",
            "Speed: 4.7ms preprocess, 198.9ms inference, 1.6ms postprocess per image at shape (1, 3, 480, 640)\n"
          ]
        },
        {
          "output_type": "stream",
          "name": "stderr",
          "text": [
            "INFO:werkzeug:127.0.0.1 - - [08/Aug/2025 08:49:18] \"POST /detect/frame HTTP/1.1\" 200 -\n"
          ]
        },
        {
          "output_type": "stream",
          "name": "stdout",
          "text": [
            "\n",
            "0: 480x640 1 person, 1 bicycle, 279.6ms\n",
            "Speed: 3.8ms preprocess, 279.6ms inference, 2.5ms postprocess per image at shape (1, 3, 480, 640)\n"
          ]
        },
        {
          "output_type": "stream",
          "name": "stderr",
          "text": [
            "INFO:werkzeug:127.0.0.1 - - [08/Aug/2025 08:49:20] \"POST /detect/frame HTTP/1.1\" 200 -\n"
          ]
        },
        {
          "output_type": "stream",
          "name": "stdout",
          "text": [
            "\n",
            "0: 480x640 1 person, 1 bicycle, 258.6ms\n",
            "Speed: 6.5ms preprocess, 258.6ms inference, 2.9ms postprocess per image at shape (1, 3, 480, 640)\n"
          ]
        },
        {
          "output_type": "stream",
          "name": "stderr",
          "text": [
            "INFO:werkzeug:127.0.0.1 - - [08/Aug/2025 08:49:21] \"POST /detect/frame HTTP/1.1\" 200 -\n"
          ]
        },
        {
          "output_type": "stream",
          "name": "stdout",
          "text": [
            "\n",
            "0: 480x640 1 person, 1 bicycle, 195.3ms\n",
            "Speed: 3.7ms preprocess, 195.3ms inference, 1.8ms postprocess per image at shape (1, 3, 480, 640)\n"
          ]
        },
        {
          "output_type": "stream",
          "name": "stderr",
          "text": [
            "INFO:werkzeug:127.0.0.1 - - [08/Aug/2025 08:49:22] \"POST /detect/frame HTTP/1.1\" 200 -\n"
          ]
        },
        {
          "output_type": "stream",
          "name": "stdout",
          "text": [
            "\n",
            "0: 480x640 1 person, 1 bicycle, 181.3ms\n",
            "Speed: 3.4ms preprocess, 181.3ms inference, 1.8ms postprocess per image at shape (1, 3, 480, 640)\n"
          ]
        },
        {
          "output_type": "stream",
          "name": "stderr",
          "text": [
            "INFO:werkzeug:127.0.0.1 - - [08/Aug/2025 08:49:24] \"POST /detect/frame HTTP/1.1\" 200 -\n"
          ]
        },
        {
          "output_type": "stream",
          "name": "stdout",
          "text": [
            "\n",
            "0: 480x640 1 person, 1 bicycle, 175.4ms\n",
            "Speed: 4.0ms preprocess, 175.4ms inference, 1.9ms postprocess per image at shape (1, 3, 480, 640)\n"
          ]
        },
        {
          "output_type": "stream",
          "name": "stderr",
          "text": [
            "INFO:werkzeug:127.0.0.1 - - [08/Aug/2025 08:49:25] \"POST /detect/frame HTTP/1.1\" 200 -\n"
          ]
        },
        {
          "output_type": "stream",
          "name": "stdout",
          "text": [
            "\n",
            "0: 480x640 1 person, 1 bicycle, 162.8ms\n",
            "Speed: 3.1ms preprocess, 162.8ms inference, 1.4ms postprocess per image at shape (1, 3, 480, 640)\n"
          ]
        },
        {
          "output_type": "stream",
          "name": "stderr",
          "text": [
            "INFO:werkzeug:127.0.0.1 - - [08/Aug/2025 08:49:26] \"POST /detect/frame HTTP/1.1\" 200 -\n"
          ]
        },
        {
          "output_type": "stream",
          "name": "stdout",
          "text": [
            "\n",
            "0: 480x640 1 person, 1 bicycle, 168.4ms\n",
            "Speed: 3.0ms preprocess, 168.4ms inference, 1.3ms postprocess per image at shape (1, 3, 480, 640)\n"
          ]
        },
        {
          "output_type": "stream",
          "name": "stderr",
          "text": [
            "INFO:werkzeug:127.0.0.1 - - [08/Aug/2025 08:49:28] \"POST /detect/frame HTTP/1.1\" 200 -\n"
          ]
        },
        {
          "output_type": "stream",
          "name": "stdout",
          "text": [
            "\n",
            "0: 480x640 1 person, 1 bicycle, 179.6ms\n",
            "Speed: 3.7ms preprocess, 179.6ms inference, 1.9ms postprocess per image at shape (1, 3, 480, 640)\n"
          ]
        },
        {
          "output_type": "stream",
          "name": "stderr",
          "text": [
            "INFO:werkzeug:127.0.0.1 - - [08/Aug/2025 08:49:29] \"POST /detect/frame HTTP/1.1\" 200 -\n"
          ]
        },
        {
          "output_type": "stream",
          "name": "stdout",
          "text": [
            "\n",
            "0: 480x640 1 person, 1 bicycle, 174.1ms\n",
            "Speed: 3.2ms preprocess, 174.1ms inference, 1.9ms postprocess per image at shape (1, 3, 480, 640)\n"
          ]
        },
        {
          "output_type": "stream",
          "name": "stderr",
          "text": [
            "INFO:werkzeug:127.0.0.1 - - [08/Aug/2025 08:49:30] \"POST /detect/frame HTTP/1.1\" 200 -\n"
          ]
        },
        {
          "output_type": "stream",
          "name": "stdout",
          "text": [
            "\n",
            "0: 480x640 1 person, 1 bicycle, 204.6ms\n",
            "Speed: 4.2ms preprocess, 204.6ms inference, 1.6ms postprocess per image at shape (1, 3, 480, 640)\n"
          ]
        },
        {
          "output_type": "stream",
          "name": "stderr",
          "text": [
            "INFO:werkzeug:127.0.0.1 - - [08/Aug/2025 08:49:32] \"POST /detect/frame HTTP/1.1\" 200 -\n"
          ]
        },
        {
          "output_type": "stream",
          "name": "stdout",
          "text": [
            "\n",
            "0: 480x640 1 person, 1 bicycle, 242.9ms\n",
            "Speed: 4.3ms preprocess, 242.9ms inference, 1.6ms postprocess per image at shape (1, 3, 480, 640)\n"
          ]
        },
        {
          "output_type": "stream",
          "name": "stderr",
          "text": [
            "INFO:werkzeug:127.0.0.1 - - [08/Aug/2025 08:49:33] \"POST /detect/frame HTTP/1.1\" 200 -\n"
          ]
        },
        {
          "output_type": "stream",
          "name": "stdout",
          "text": [
            "\n",
            "0: 480x640 1 person, 1 bicycle, 265.9ms\n",
            "Speed: 3.0ms preprocess, 265.9ms inference, 1.9ms postprocess per image at shape (1, 3, 480, 640)\n"
          ]
        },
        {
          "output_type": "stream",
          "name": "stderr",
          "text": [
            "INFO:werkzeug:127.0.0.1 - - [08/Aug/2025 08:49:34] \"POST /detect/frame HTTP/1.1\" 200 -\n"
          ]
        },
        {
          "output_type": "stream",
          "name": "stdout",
          "text": [
            "\n",
            "0: 480x640 1 person, 1 bicycle, 190.9ms\n",
            "Speed: 3.4ms preprocess, 190.9ms inference, 1.7ms postprocess per image at shape (1, 3, 480, 640)\n"
          ]
        },
        {
          "output_type": "stream",
          "name": "stderr",
          "text": [
            "INFO:werkzeug:127.0.0.1 - - [08/Aug/2025 08:49:36] \"POST /detect/frame HTTP/1.1\" 200 -\n"
          ]
        },
        {
          "output_type": "stream",
          "name": "stdout",
          "text": [
            "\n",
            "0: 480x640 1 person, 1 bicycle, 168.0ms\n",
            "Speed: 3.3ms preprocess, 168.0ms inference, 1.5ms postprocess per image at shape (1, 3, 480, 640)\n"
          ]
        },
        {
          "output_type": "stream",
          "name": "stderr",
          "text": [
            "INFO:werkzeug:127.0.0.1 - - [08/Aug/2025 08:49:37] \"POST /detect/frame HTTP/1.1\" 200 -\n"
          ]
        },
        {
          "output_type": "stream",
          "name": "stdout",
          "text": [
            "\n",
            "0: 480x640 1 person, 1 bicycle, 162.1ms\n",
            "Speed: 3.7ms preprocess, 162.1ms inference, 1.3ms postprocess per image at shape (1, 3, 480, 640)\n"
          ]
        },
        {
          "output_type": "stream",
          "name": "stderr",
          "text": [
            "INFO:werkzeug:127.0.0.1 - - [08/Aug/2025 08:49:38] \"POST /detect/frame HTTP/1.1\" 200 -\n"
          ]
        },
        {
          "output_type": "stream",
          "name": "stdout",
          "text": [
            "\n",
            "0: 480x640 1 person, 1 bicycle, 185.8ms\n",
            "Speed: 3.8ms preprocess, 185.8ms inference, 2.0ms postprocess per image at shape (1, 3, 480, 640)\n"
          ]
        },
        {
          "output_type": "stream",
          "name": "stderr",
          "text": [
            "INFO:werkzeug:127.0.0.1 - - [08/Aug/2025 08:49:40] \"POST /detect/frame HTTP/1.1\" 200 -\n"
          ]
        },
        {
          "output_type": "stream",
          "name": "stdout",
          "text": [
            "\n",
            "0: 480x640 1 person, 1 bicycle, 186.3ms\n",
            "Speed: 3.2ms preprocess, 186.3ms inference, 1.5ms postprocess per image at shape (1, 3, 480, 640)\n"
          ]
        },
        {
          "output_type": "stream",
          "name": "stderr",
          "text": [
            "INFO:werkzeug:127.0.0.1 - - [08/Aug/2025 08:49:41] \"POST /detect/frame HTTP/1.1\" 200 -\n"
          ]
        },
        {
          "output_type": "stream",
          "name": "stdout",
          "text": [
            "\n",
            "0: 480x640 1 person, 1 bicycle, 165.9ms\n",
            "Speed: 3.0ms preprocess, 165.9ms inference, 1.5ms postprocess per image at shape (1, 3, 480, 640)\n"
          ]
        },
        {
          "output_type": "stream",
          "name": "stderr",
          "text": [
            "INFO:werkzeug:127.0.0.1 - - [08/Aug/2025 08:49:42] \"POST /detect/frame HTTP/1.1\" 200 -\n"
          ]
        },
        {
          "output_type": "stream",
          "name": "stdout",
          "text": [
            "\n",
            "0: 480x640 1 person, 1 bicycle, 183.8ms\n",
            "Speed: 4.0ms preprocess, 183.8ms inference, 1.6ms postprocess per image at shape (1, 3, 480, 640)\n"
          ]
        },
        {
          "output_type": "stream",
          "name": "stderr",
          "text": [
            "INFO:werkzeug:127.0.0.1 - - [08/Aug/2025 08:49:44] \"POST /detect/frame HTTP/1.1\" 200 -\n"
          ]
        },
        {
          "output_type": "stream",
          "name": "stdout",
          "text": [
            "\n",
            "0: 480x640 1 person, 286.6ms\n",
            "Speed: 3.8ms preprocess, 286.6ms inference, 2.2ms postprocess per image at shape (1, 3, 480, 640)\n"
          ]
        },
        {
          "output_type": "stream",
          "name": "stderr",
          "text": [
            "INFO:werkzeug:127.0.0.1 - - [08/Aug/2025 08:49:45] \"POST /detect/frame HTTP/1.1\" 200 -\n"
          ]
        },
        {
          "output_type": "stream",
          "name": "stdout",
          "text": [
            "\n",
            "0: 480x640 1 person, 1 bicycle, 264.3ms\n",
            "Speed: 8.9ms preprocess, 264.3ms inference, 2.1ms postprocess per image at shape (1, 3, 480, 640)\n"
          ]
        },
        {
          "output_type": "stream",
          "name": "stderr",
          "text": [
            "INFO:werkzeug:127.0.0.1 - - [08/Aug/2025 08:49:47] \"POST /detect/frame HTTP/1.1\" 200 -\n"
          ]
        },
        {
          "output_type": "stream",
          "name": "stdout",
          "text": [
            "\n",
            "0: 480x640 1 person, 1 bicycle, 178.8ms\n",
            "Speed: 3.4ms preprocess, 178.8ms inference, 1.4ms postprocess per image at shape (1, 3, 480, 640)\n"
          ]
        },
        {
          "output_type": "stream",
          "name": "stderr",
          "text": [
            "INFO:werkzeug:127.0.0.1 - - [08/Aug/2025 08:49:48] \"POST /detect/frame HTTP/1.1\" 200 -\n"
          ]
        },
        {
          "output_type": "stream",
          "name": "stdout",
          "text": [
            "\n",
            "0: 480x640 1 person, 1 bicycle, 200.7ms\n",
            "Speed: 4.8ms preprocess, 200.7ms inference, 1.9ms postprocess per image at shape (1, 3, 480, 640)\n"
          ]
        },
        {
          "output_type": "stream",
          "name": "stderr",
          "text": [
            "INFO:werkzeug:127.0.0.1 - - [08/Aug/2025 08:49:49] \"POST /detect/frame HTTP/1.1\" 200 -\n"
          ]
        },
        {
          "output_type": "stream",
          "name": "stdout",
          "text": [
            "\n",
            "0: 480x640 1 person, 165.7ms\n",
            "Speed: 3.3ms preprocess, 165.7ms inference, 1.7ms postprocess per image at shape (1, 3, 480, 640)\n"
          ]
        },
        {
          "output_type": "stream",
          "name": "stderr",
          "text": [
            "INFO:werkzeug:127.0.0.1 - - [08/Aug/2025 08:49:51] \"POST /detect/frame HTTP/1.1\" 200 -\n"
          ]
        },
        {
          "output_type": "stream",
          "name": "stdout",
          "text": [
            "\n",
            "0: 480x640 1 person, 1 bicycle, 187.9ms\n",
            "Speed: 3.8ms preprocess, 187.9ms inference, 1.7ms postprocess per image at shape (1, 3, 480, 640)\n"
          ]
        },
        {
          "output_type": "stream",
          "name": "stderr",
          "text": [
            "INFO:werkzeug:127.0.0.1 - - [08/Aug/2025 08:49:52] \"POST /detect/frame HTTP/1.1\" 200 -\n"
          ]
        },
        {
          "output_type": "stream",
          "name": "stdout",
          "text": [
            "\n",
            "0: 480x640 1 person, 1 bicycle, 180.7ms\n",
            "Speed: 4.8ms preprocess, 180.7ms inference, 1.7ms postprocess per image at shape (1, 3, 480, 640)\n"
          ]
        },
        {
          "output_type": "stream",
          "name": "stderr",
          "text": [
            "INFO:werkzeug:127.0.0.1 - - [08/Aug/2025 08:49:53] \"POST /detect/frame HTTP/1.1\" 200 -\n"
          ]
        },
        {
          "output_type": "stream",
          "name": "stdout",
          "text": [
            "\n",
            "0: 480x640 1 person, 1 bicycle, 179.2ms\n",
            "Speed: 3.5ms preprocess, 179.2ms inference, 1.6ms postprocess per image at shape (1, 3, 480, 640)\n"
          ]
        },
        {
          "output_type": "stream",
          "name": "stderr",
          "text": [
            "INFO:werkzeug:127.0.0.1 - - [08/Aug/2025 08:49:55] \"POST /detect/frame HTTP/1.1\" 200 -\n"
          ]
        },
        {
          "output_type": "stream",
          "name": "stdout",
          "text": [
            "\n",
            "0: 480x640 1 person, 1 bicycle, 183.9ms\n",
            "Speed: 3.6ms preprocess, 183.9ms inference, 1.6ms postprocess per image at shape (1, 3, 480, 640)\n"
          ]
        },
        {
          "output_type": "stream",
          "name": "stderr",
          "text": [
            "INFO:werkzeug:127.0.0.1 - - [08/Aug/2025 08:49:56] \"POST /detect/frame HTTP/1.1\" 200 -\n"
          ]
        },
        {
          "output_type": "stream",
          "name": "stdout",
          "text": [
            "\n",
            "0: 480x640 1 person, 1 bicycle, 167.9ms\n",
            "Speed: 3.6ms preprocess, 167.9ms inference, 1.6ms postprocess per image at shape (1, 3, 480, 640)\n"
          ]
        },
        {
          "output_type": "stream",
          "name": "stderr",
          "text": [
            "INFO:werkzeug:127.0.0.1 - - [08/Aug/2025 08:49:57] \"POST /detect/frame HTTP/1.1\" 200 -\n"
          ]
        },
        {
          "output_type": "stream",
          "name": "stdout",
          "text": [
            "\n",
            "0: 480x640 1 person, 1 bicycle, 307.9ms\n",
            "Speed: 6.1ms preprocess, 307.9ms inference, 2.8ms postprocess per image at shape (1, 3, 480, 640)\n"
          ]
        },
        {
          "output_type": "stream",
          "name": "stderr",
          "text": [
            "INFO:werkzeug:127.0.0.1 - - [08/Aug/2025 08:49:59] \"POST /detect/frame HTTP/1.1\" 200 -\n"
          ]
        },
        {
          "output_type": "stream",
          "name": "stdout",
          "text": [
            "\n",
            "0: 480x640 1 person, 1 bicycle, 262.5ms\n",
            "Speed: 5.6ms preprocess, 262.5ms inference, 1.8ms postprocess per image at shape (1, 3, 480, 640)\n"
          ]
        },
        {
          "output_type": "stream",
          "name": "stderr",
          "text": [
            "INFO:werkzeug:127.0.0.1 - - [08/Aug/2025 08:50:00] \"POST /detect/frame HTTP/1.1\" 200 -\n"
          ]
        },
        {
          "output_type": "stream",
          "name": "stdout",
          "text": [
            "\n",
            "0: 480x640 1 person, 1 bicycle, 190.8ms\n",
            "Speed: 5.3ms preprocess, 190.8ms inference, 1.9ms postprocess per image at shape (1, 3, 480, 640)\n"
          ]
        },
        {
          "output_type": "stream",
          "name": "stderr",
          "text": [
            "INFO:werkzeug:127.0.0.1 - - [08/Aug/2025 08:50:02] \"POST /detect/frame HTTP/1.1\" 200 -\n"
          ]
        },
        {
          "output_type": "stream",
          "name": "stdout",
          "text": [
            "\n",
            "0: 480x640 1 person, 1 bicycle, 199.6ms\n",
            "Speed: 6.1ms preprocess, 199.6ms inference, 1.7ms postprocess per image at shape (1, 3, 480, 640)\n"
          ]
        },
        {
          "output_type": "stream",
          "name": "stderr",
          "text": [
            "INFO:werkzeug:127.0.0.1 - - [08/Aug/2025 08:50:03] \"POST /detect/frame HTTP/1.1\" 200 -\n"
          ]
        },
        {
          "output_type": "stream",
          "name": "stdout",
          "text": [
            "\n",
            "0: 480x640 1 person, 1 bicycle, 194.4ms\n",
            "Speed: 4.7ms preprocess, 194.4ms inference, 2.2ms postprocess per image at shape (1, 3, 480, 640)\n"
          ]
        },
        {
          "output_type": "stream",
          "name": "stderr",
          "text": [
            "INFO:werkzeug:127.0.0.1 - - [08/Aug/2025 08:50:04] \"POST /detect/frame HTTP/1.1\" 200 -\n"
          ]
        },
        {
          "output_type": "stream",
          "name": "stdout",
          "text": [
            "\n",
            "0: 480x640 1 person, 1 bicycle, 166.8ms\n",
            "Speed: 3.2ms preprocess, 166.8ms inference, 1.4ms postprocess per image at shape (1, 3, 480, 640)\n"
          ]
        },
        {
          "output_type": "stream",
          "name": "stderr",
          "text": [
            "INFO:werkzeug:127.0.0.1 - - [08/Aug/2025 08:50:06] \"POST /detect/frame HTTP/1.1\" 200 -\n"
          ]
        },
        {
          "output_type": "stream",
          "name": "stdout",
          "text": [
            "\n",
            "0: 480x640 1 person, 1 bicycle, 164.5ms\n",
            "Speed: 3.0ms preprocess, 164.5ms inference, 1.4ms postprocess per image at shape (1, 3, 480, 640)\n"
          ]
        },
        {
          "output_type": "stream",
          "name": "stderr",
          "text": [
            "INFO:werkzeug:127.0.0.1 - - [08/Aug/2025 08:50:07] \"POST /detect/frame HTTP/1.1\" 200 -\n"
          ]
        },
        {
          "output_type": "stream",
          "name": "stdout",
          "text": [
            "\n",
            "0: 480x640 1 person, 1 bicycle, 172.1ms\n",
            "Speed: 3.0ms preprocess, 172.1ms inference, 1.7ms postprocess per image at shape (1, 3, 480, 640)\n"
          ]
        },
        {
          "output_type": "stream",
          "name": "stderr",
          "text": [
            "INFO:werkzeug:127.0.0.1 - - [08/Aug/2025 08:50:08] \"POST /detect/frame HTTP/1.1\" 200 -\n"
          ]
        },
        {
          "output_type": "stream",
          "name": "stdout",
          "text": [
            "\n",
            "0: 480x640 1 person, 1 bicycle, 161.3ms\n",
            "Speed: 2.8ms preprocess, 161.3ms inference, 1.3ms postprocess per image at shape (1, 3, 480, 640)\n"
          ]
        },
        {
          "output_type": "stream",
          "name": "stderr",
          "text": [
            "INFO:werkzeug:127.0.0.1 - - [08/Aug/2025 08:50:09] \"POST /detect/frame HTTP/1.1\" 200 -\n"
          ]
        },
        {
          "output_type": "stream",
          "name": "stdout",
          "text": [
            "\n",
            "0: 480x640 1 person, 1 bicycle, 164.5ms\n",
            "Speed: 3.0ms preprocess, 164.5ms inference, 1.4ms postprocess per image at shape (1, 3, 480, 640)\n"
          ]
        },
        {
          "output_type": "stream",
          "name": "stderr",
          "text": [
            "INFO:werkzeug:127.0.0.1 - - [08/Aug/2025 08:50:11] \"POST /detect/frame HTTP/1.1\" 200 -\n"
          ]
        },
        {
          "output_type": "stream",
          "name": "stdout",
          "text": [
            "\n",
            "0: 480x640 1 person, 1 bicycle, 270.5ms\n",
            "Speed: 6.5ms preprocess, 270.5ms inference, 1.8ms postprocess per image at shape (1, 3, 480, 640)\n"
          ]
        },
        {
          "output_type": "stream",
          "name": "stderr",
          "text": [
            "INFO:werkzeug:127.0.0.1 - - [08/Aug/2025 08:50:12] \"POST /detect/frame HTTP/1.1\" 200 -\n"
          ]
        },
        {
          "output_type": "stream",
          "name": "stdout",
          "text": [
            "\n",
            "0: 480x640 1 person, 278.2ms\n",
            "Speed: 3.9ms preprocess, 278.2ms inference, 2.6ms postprocess per image at shape (1, 3, 480, 640)\n"
          ]
        },
        {
          "output_type": "stream",
          "name": "stderr",
          "text": [
            "INFO:werkzeug:127.0.0.1 - - [08/Aug/2025 08:50:14] \"POST /detect/frame HTTP/1.1\" 200 -\n"
          ]
        },
        {
          "output_type": "stream",
          "name": "stdout",
          "text": [
            "\n",
            "0: 480x640 1 person, 1 bicycle, 187.1ms\n",
            "Speed: 3.7ms preprocess, 187.1ms inference, 1.8ms postprocess per image at shape (1, 3, 480, 640)\n"
          ]
        },
        {
          "output_type": "stream",
          "name": "stderr",
          "text": [
            "INFO:werkzeug:127.0.0.1 - - [08/Aug/2025 08:50:15] \"POST /detect/frame HTTP/1.1\" 200 -\n"
          ]
        },
        {
          "output_type": "stream",
          "name": "stdout",
          "text": [
            "\n",
            "0: 480x640 1 person, 1 bicycle, 201.5ms\n",
            "Speed: 3.8ms preprocess, 201.5ms inference, 1.6ms postprocess per image at shape (1, 3, 480, 640)\n"
          ]
        },
        {
          "output_type": "stream",
          "name": "stderr",
          "text": [
            "INFO:werkzeug:127.0.0.1 - - [08/Aug/2025 08:50:16] \"POST /detect/frame HTTP/1.1\" 200 -\n"
          ]
        },
        {
          "output_type": "stream",
          "name": "stdout",
          "text": [
            "\n",
            "0: 480x640 1 person, 1 bicycle, 184.8ms\n",
            "Speed: 3.9ms preprocess, 184.8ms inference, 1.8ms postprocess per image at shape (1, 3, 480, 640)\n"
          ]
        },
        {
          "output_type": "stream",
          "name": "stderr",
          "text": [
            "INFO:werkzeug:127.0.0.1 - - [08/Aug/2025 08:50:18] \"POST /detect/frame HTTP/1.1\" 200 -\n"
          ]
        },
        {
          "output_type": "stream",
          "name": "stdout",
          "text": [
            "\n",
            "0: 480x640 1 person, 1 bicycle, 201.9ms\n",
            "Speed: 4.8ms preprocess, 201.9ms inference, 2.3ms postprocess per image at shape (1, 3, 480, 640)\n"
          ]
        },
        {
          "output_type": "stream",
          "name": "stderr",
          "text": [
            "INFO:werkzeug:127.0.0.1 - - [08/Aug/2025 08:50:19] \"POST /detect/frame HTTP/1.1\" 200 -\n"
          ]
        },
        {
          "output_type": "stream",
          "name": "stdout",
          "text": [
            "\n",
            "0: 480x640 1 person, 165.3ms\n",
            "Speed: 3.4ms preprocess, 165.3ms inference, 1.4ms postprocess per image at shape (1, 3, 480, 640)\n"
          ]
        },
        {
          "output_type": "stream",
          "name": "stderr",
          "text": [
            "INFO:werkzeug:127.0.0.1 - - [08/Aug/2025 08:50:20] \"POST /detect/frame HTTP/1.1\" 200 -\n"
          ]
        },
        {
          "output_type": "stream",
          "name": "stdout",
          "text": [
            "\n",
            "0: 480x640 1 person, 1 bicycle, 196.8ms\n",
            "Speed: 4.3ms preprocess, 196.8ms inference, 1.8ms postprocess per image at shape (1, 3, 480, 640)\n"
          ]
        },
        {
          "output_type": "stream",
          "name": "stderr",
          "text": [
            "INFO:werkzeug:127.0.0.1 - - [08/Aug/2025 08:50:22] \"POST /detect/frame HTTP/1.1\" 200 -\n"
          ]
        },
        {
          "output_type": "stream",
          "name": "stdout",
          "text": [
            "\n",
            "0: 480x640 1 person, 1 bicycle, 189.3ms\n",
            "Speed: 3.8ms preprocess, 189.3ms inference, 1.9ms postprocess per image at shape (1, 3, 480, 640)\n"
          ]
        },
        {
          "output_type": "stream",
          "name": "stderr",
          "text": [
            "INFO:werkzeug:127.0.0.1 - - [08/Aug/2025 08:50:23] \"POST /detect/frame HTTP/1.1\" 200 -\n"
          ]
        },
        {
          "output_type": "stream",
          "name": "stdout",
          "text": [
            "\n",
            "0: 480x640 1 person, 1 bicycle, 268.6ms\n",
            "Speed: 3.5ms preprocess, 268.6ms inference, 2.1ms postprocess per image at shape (1, 3, 480, 640)\n"
          ]
        },
        {
          "output_type": "stream",
          "name": "stderr",
          "text": [
            "INFO:werkzeug:127.0.0.1 - - [08/Aug/2025 08:50:24] \"POST /detect/frame HTTP/1.1\" 200 -\n"
          ]
        },
        {
          "output_type": "stream",
          "name": "stdout",
          "text": [
            "\n",
            "0: 480x640 1 person, 301.0ms\n",
            "Speed: 5.6ms preprocess, 301.0ms inference, 2.2ms postprocess per image at shape (1, 3, 480, 640)\n"
          ]
        },
        {
          "output_type": "stream",
          "name": "stderr",
          "text": [
            "INFO:werkzeug:127.0.0.1 - - [08/Aug/2025 08:50:26] \"POST /detect/frame HTTP/1.1\" 200 -\n"
          ]
        },
        {
          "output_type": "stream",
          "name": "stdout",
          "text": [
            "\n",
            "0: 480x640 1 person, 1 bicycle, 170.4ms\n",
            "Speed: 3.2ms preprocess, 170.4ms inference, 1.9ms postprocess per image at shape (1, 3, 480, 640)\n"
          ]
        },
        {
          "output_type": "stream",
          "name": "stderr",
          "text": [
            "INFO:werkzeug:127.0.0.1 - - [08/Aug/2025 08:50:27] \"POST /detect/frame HTTP/1.1\" 200 -\n"
          ]
        },
        {
          "output_type": "stream",
          "name": "stdout",
          "text": [
            "\n",
            "0: 480x640 1 person, 1 bicycle, 169.7ms\n",
            "Speed: 3.8ms preprocess, 169.7ms inference, 1.6ms postprocess per image at shape (1, 3, 480, 640)\n"
          ]
        },
        {
          "output_type": "stream",
          "name": "stderr",
          "text": [
            "INFO:werkzeug:127.0.0.1 - - [08/Aug/2025 08:50:29] \"POST /detect/frame HTTP/1.1\" 200 -\n"
          ]
        },
        {
          "output_type": "stream",
          "name": "stdout",
          "text": [
            "\n",
            "0: 480x640 1 person, 1 bicycle, 178.3ms\n",
            "Speed: 3.1ms preprocess, 178.3ms inference, 1.5ms postprocess per image at shape (1, 3, 480, 640)\n"
          ]
        },
        {
          "output_type": "stream",
          "name": "stderr",
          "text": [
            "INFO:werkzeug:127.0.0.1 - - [08/Aug/2025 08:50:30] \"POST /detect/frame HTTP/1.1\" 200 -\n"
          ]
        },
        {
          "output_type": "stream",
          "name": "stdout",
          "text": [
            "\n",
            "0: 480x640 1 person, 1 bicycle, 176.2ms\n",
            "Speed: 3.5ms preprocess, 176.2ms inference, 1.8ms postprocess per image at shape (1, 3, 480, 640)\n"
          ]
        },
        {
          "output_type": "stream",
          "name": "stderr",
          "text": [
            "INFO:werkzeug:127.0.0.1 - - [08/Aug/2025 08:50:31] \"POST /detect/frame HTTP/1.1\" 200 -\n"
          ]
        },
        {
          "output_type": "stream",
          "name": "stdout",
          "text": [
            "\n",
            "0: 480x640 1 person, 1 bicycle, 186.7ms\n",
            "Speed: 4.4ms preprocess, 186.7ms inference, 2.0ms postprocess per image at shape (1, 3, 480, 640)\n"
          ]
        },
        {
          "output_type": "stream",
          "name": "stderr",
          "text": [
            "INFO:werkzeug:127.0.0.1 - - [08/Aug/2025 08:50:33] \"POST /detect/frame HTTP/1.1\" 200 -\n"
          ]
        },
        {
          "output_type": "stream",
          "name": "stdout",
          "text": [
            "\n",
            "0: 480x640 1 person, 1 bicycle, 169.9ms\n",
            "Speed: 3.2ms preprocess, 169.9ms inference, 1.5ms postprocess per image at shape (1, 3, 480, 640)\n"
          ]
        },
        {
          "output_type": "stream",
          "name": "stderr",
          "text": [
            "INFO:werkzeug:127.0.0.1 - - [08/Aug/2025 08:50:34] \"POST /detect/frame HTTP/1.1\" 200 -\n"
          ]
        },
        {
          "output_type": "stream",
          "name": "stdout",
          "text": [
            "\n",
            "0: 480x640 1 person, 1 bicycle, 176.6ms\n",
            "Speed: 2.9ms preprocess, 176.6ms inference, 1.5ms postprocess per image at shape (1, 3, 480, 640)\n"
          ]
        },
        {
          "output_type": "stream",
          "name": "stderr",
          "text": [
            "INFO:werkzeug:127.0.0.1 - - [08/Aug/2025 08:50:35] \"POST /detect/frame HTTP/1.1\" 200 -\n"
          ]
        }
      ]
    },
    {
      "cell_type": "code",
      "source": [],
      "metadata": {
        "id": "40bLOnSYyvDj"
      },
      "execution_count": null,
      "outputs": []
    }
  ]
}